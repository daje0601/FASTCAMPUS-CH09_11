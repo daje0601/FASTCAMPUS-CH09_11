{
 "cells": [
  {
   "cell_type": "code",
   "execution_count": 1,
   "metadata": {},
   "outputs": [],
   "source": [
    "import re\n",
    "\n",
    "def extract_placeholder_mapping(original_text, transformed_text, allowed_types):\n",
    "    allowed_pattern = re.compile(r'\\[(' + '|'.join(allowed_types) + r')\\d*\\]')\n",
    "    generic_pattern = re.compile(r'(\\[[^]]+\\])')\n",
    "\n",
    "    mapping = {}\n",
    "\n",
    "    orig_lines = original_text.splitlines()\n",
    "    trans_lines = transformed_text.splitlines()\n",
    "    n_lines = min(len(orig_lines), len(trans_lines))\n",
    "\n",
    "    for idx in range(n_lines):\n",
    "        orig_line = orig_lines[idx]\n",
    "        trans_line = trans_lines[idx]\n",
    "\n",
    "        parts = re.split(generic_pattern, trans_line)\n",
    "        orig_pos = 0\n",
    "\n",
    "        for i, part in enumerate(parts):\n",
    "            if allowed_pattern.match(part):\n",
    "                # placeholder 발견\n",
    "                # 다음 literal을 찾음\n",
    "                next_literal = parts[i + 1] if i + 1 < len(parts) else ''\n",
    "                \n",
    "                # 다음 literal이 존재하면, 그 literal까지의 텍스트를 추출\n",
    "                if next_literal:\n",
    "                    next_idx = orig_line.find(next_literal, orig_pos)\n",
    "                    if next_idx != -1:\n",
    "                        replaced_text = orig_line[orig_pos:next_idx]\n",
    "                        orig_pos = next_idx\n",
    "                    else:\n",
    "                        # 다음 literal을 못 찾으면 끝까지\n",
    "                        replaced_text = orig_line[orig_pos:]\n",
    "                        orig_pos = len(orig_line)\n",
    "                else:\n",
    "                    # 다음 literal이 없으면 남은 텍스트 전체\n",
    "                    replaced_text = orig_line[orig_pos:]\n",
    "                    orig_pos = len(orig_line)\n",
    "\n",
    "                replaced_text = replaced_text.strip()\n",
    "                if replaced_text:\n",
    "                    mapping[replaced_text] = part\n",
    "\n",
    "            else:\n",
    "                # literal인 경우, 원본에서 위치 업데이트\n",
    "                found_idx = orig_line.find(part, orig_pos)\n",
    "                if found_idx != -1:\n",
    "                    orig_pos = found_idx + len(part)\n",
    "\n",
    "    return mapping\n"
   ]
  },
  {
   "cell_type": "code",
   "execution_count": 2,
   "metadata": {},
   "outputs": [],
   "source": [
    "data_system_prompt = f\"\"\"당신은 한국어로 다양한 카테고리의 현실적이고 자연스러운 데이터를 생성하는 어시스턴트입니다.\"\"\"\n",
    "\n",
    "\n",
    "data_user_prompt = f\"\"\"### 데이터 생성 단계\n",
    "{{category}}에 대해 현실적이고 자연스러운 데이터를 작성하세요.\n",
    "\n",
    "OUTPUT:::\n",
    "상담사: \"...\"\n",
    "고객: \"...\"\n",
    "상담사: \"...\"\n",
    "고객: \"...\"\n",
    "...\n",
    "OUTPUT:::\n",
    "\n",
    "각 데이터는 실제로 존재할 법한 대화 형태로 작성되며, 반드시 아래의 개인정보 중 최소 3가지 이상을 포함해야 합니다.\n",
    "\n",
    "- 사람 이름\n",
    "- 생년월일\n",
    "- 연락처 (전화번호, 이메일, 카카오톡 ID 등)\n",
    "- 주소\n",
    "- 계좌번호\n",
    "- 소셜미디어 ID (트위터, 텔레그램 등)\n",
    "\n",
    "작성할 때 개인정보(이름, 연락처, 생년월일, 계좌번호, 주소, 이메일 등)를 구체적으로 포함해야 합니다. \n",
    "데이터의 전체 길이는 최소 300자 이상, 최대 1000자 이하로 작성합니다.\n",
    "실제로 존재할 법한 내용과 문맥을 갖추어 자연스럽게 작성합니다.\n",
    "마크다운 포맷으로 작성하지 마세요. \n",
    "아래 게시물로부터 아이디어를 얻어 {{category}}에 대해 현실적이고 자연스러운 데이터를 작성하세요.\n",
    "---\n",
    "{{reference_data}}\n",
    "---\n",
    "\n",
    "자! 시작\n",
    "\n",
    "### 데이터 생성 단계\"\"\"\n"
   ]
  },
  {
   "cell_type": "code",
   "execution_count": null,
   "metadata": {},
   "outputs": [],
   "source": []
  },
  {
   "cell_type": "code",
   "execution_count": 3,
   "metadata": {},
   "outputs": [
    {
     "name": "stderr",
     "output_type": "stream",
     "text": [
      "Generating train split: 100%|██████████| 22194/22194 [00:02<00:00, 10839.60 examples/s]\n",
      "Generating validation split: 100%|██████████| 2466/2466 [00:00<00:00, 10196.22 examples/s]\n",
      "Generating test split: 100%|██████████| 2740/2740 [00:00<00:00, 10436.00 examples/s]\n"
     ]
    }
   ],
   "source": [
    "from datasets import load_dataset\n",
    "ds = load_dataset(\"daekeun-ml/naver-news-summarization-ko\", split=\"train\")"
   ]
  },
  {
   "cell_type": "code",
   "execution_count": 7,
   "metadata": {},
   "outputs": [
    {
     "data": {
      "text/plain": [
       "Dataset({\n",
       "    features: ['date', 'category', 'press', 'title', 'document', 'link', 'summary'],\n",
       "    num_rows: 22194\n",
       "})"
      ]
     },
     "execution_count": 7,
     "metadata": {},
     "output_type": "execute_result"
    }
   ],
   "source": [
    "ds"
   ]
  },
  {
   "cell_type": "code",
   "execution_count": 9,
   "metadata": {},
   "outputs": [
    {
     "data": {
      "text/plain": [
       "'추경호 중기 수출지원 총력 무역금융 40조 확대'"
      ]
     },
     "execution_count": 9,
     "metadata": {},
     "output_type": "execute_result"
    }
   ],
   "source": [
    "ds[\"title\"][0]"
   ]
  },
  {
   "cell_type": "code",
   "execution_count": 6,
   "metadata": {},
   "outputs": [
    {
     "data": {
      "text/plain": [
       "'올해 상반기 우리나라 무역수지는 역대 최악인 103억 달러 적자를 기록한 가운데, 정부가 하반기에 우리 경제의 버팀목인 수출 확대를 위해 총력을 기울이기로 결정한 가운데, 특히 수출 중소기업의 물류난 해소를 위해 무역금융 규모를 40조 원 이상 확대하고 물류비 지원과 임시선박 투입 등을 추진하기로 했다.'"
      ]
     },
     "execution_count": 6,
     "metadata": {},
     "output_type": "execute_result"
    }
   ],
   "source": [
    "ds[\"summary\"][0]"
   ]
  },
  {
   "cell_type": "code",
   "execution_count": 4,
   "metadata": {},
   "outputs": [],
   "source": [
    "import os \n",
    "from dotenv import load_dotenv\n",
    "load_dotenv(\"./credit-env\")\n",
    "\n",
    "from openai import OpenAI\n",
    "client = OpenAI(api_key=os.environ.get(\"OPENAI_API_KEY\")) \n",
    "\n",
    "def generate_data(category, reference_data):\n",
    "    completion = client.chat.completions.create(\n",
    "    model=\"gpt-4o\",\n",
    "    messages=[\n",
    "        {\"role\": \"system\", \"content\": data_system_prompt},\n",
    "        {\"role\": \"user\", \"content\": data_user_prompt.format(category=category, reference_data=reference_data)}\n",
    "    ],\n",
    "    temperature=0.4\n",
    "    )\n",
    "    text = completion.choices[0].message.content\n",
    "    return text "
   ]
  },
  {
   "cell_type": "code",
   "execution_count": 5,
   "metadata": {},
   "outputs": [],
   "source": [
    "\n",
    "제품 리뷰\n",
    "중고나라 게시물\n",
    "이벤트 홍보글\n",
    "강의 또는 세미나 홍보글\n",
    "모임 또는 동호회\n",
    "data = generate_data(\"은행 상담\")"
   ]
  },
  {
   "cell_type": "code",
   "execution_count": 6,
   "metadata": {},
   "outputs": [
    {
     "name": "stdout",
     "output_type": "stream",
     "text": [
      "상담사: \"안녕하세요, 김영수 고객님. 오늘 어떤 문제로 도와드릴까요?\"\n",
      "\n",
      "고객: \"안녕하세요. 제 이름은 김영수이고, 계좌번호는 123-456-789입니다. 최근에 계좌에서 이상한 거래가 발생한 것 같아서 확인하고 싶습니다.\"\n",
      "\n",
      "상담사: \"확인해드리겠습니다. 김영수 고객님의 생년월일이 1985년 3월 15일 맞으신가요?\"\n",
      "\n",
      "고객: \"네, 맞습니다. 그리고 제 연락처는 010-1234-5678입니다.\"\n",
      "\n",
      "상담사: \"감사합니다. 확인 결과, 지난 10월 5일에 50만 원이 출금된 기록이 있습니다. 혹시 이 거래를 직접 하신 건가요?\"\n",
      "\n",
      "고객: \"아니요, 그런 거래를 한 적이 없어요. 주소는 서울시 강남구 테헤란로 123이고, 이메일은 youngsoo.kim@email.com입니다. 혹시 이 정보로 다른 문제가 발생할 수 있을까요?\"\n",
      "\n",
      "상담사: \"걱정하지 마세요, 김영수 고객님. 즉시 거래를 조사하고, 필요 시 계좌를 일시적으로 동결하도록 하겠습니다. 추가로 다른 문의사항이 있으신가요?\"\n",
      "\n",
      "고객: \"아니요, 지금은 그 문제만 해결되면 좋겠습니다. 감사합니다.\"\n",
      "\n",
      "상담사: \"네, 빠르게 처리해드리겠습니다. 연락처로 진행 상황을 알려드리겠습니다. 좋은 하루 되세요.\"\n",
      "\n",
      "고객: \"감사합니다. 수고하세요.\"\n"
     ]
    }
   ],
   "source": [
    "print(data)"
   ]
  },
  {
   "cell_type": "code",
   "execution_count": 7,
   "metadata": {},
   "outputs": [
    {
     "name": "stdout",
     "output_type": "stream",
     "text": [
      "{\"score\":5,\"reason\":\"제공된 데이터는 모든 평가 기준을 완벽히 만족합니다. \\n\\n1. 개인정보 포함: 이름(김영수), 생년월일(1985년 3월 15일), 연락처(010-1234-5678), 계좌번호(123-456-789), 주소(서울시 강남구 테헤란로 123), 이메일(youngsoo.kim@email.com) 등 최소 3가지 이상의 개인정보가 포함되어 있습니다.\\n\\n2. 개인정보 포맷: 모든 개인정보는 현실에서 사용되는 포맷을 따르고 있습니다. \\n\\n3. 현실적 대화: 상담사와 고객 간의 대화는 은행 상담 상황에서 충분히 있을 법한 자연스러운 문맥을 갖추고 있습니다.\\n\\n4. 문장의 길이: 데이터는 300자 이상 1000자 이하의 길이를 만족하고 있습니다.\"}\n"
     ]
    }
   ],
   "source": [
    "data_valid_system_prompt = \"당신은 프롬프트와 데이터 품질 평가하는 어시스턴트입니다.\"\n",
    "\n",
    "data_valid_user_prompt = f\"\"\"주어진 프롬프트에 맞게 데이터가 생성되었는지 평가하세요.\n",
    "\n",
    "# 프롬프트\n",
    "{{prompt}}\n",
    "\n",
    "\n",
    "# 데이터\n",
    "{{data}}\n",
    "\n",
    "# 데이터 평가 기준:\n",
    "- 개인정보 포함: 이름, 생년월일, 연락처 등 최소 3가지 이상의 개인정보가 포함되었는가? 개인정보를 많이 가지고 있으면 있을수록 좋습니다.\n",
    "- 개인정보 포맷: 개인정보는 현실에서 나올 법한 포맷을 갖추고 있는가?\n",
    "- 현실적 대화: 생성된 대화는 현실에서 나올 법한 자연스러운 문맥을 갖추고 있는가?\n",
    "- 문장의 길이: 데이터는 최소 300자 이상, 최대 1000자 이하의 길이를 갖추었는가?\n",
    "\n",
    "# 평가 점수:\n",
    "- 모든 조건을 완벽히 만족: 5점\n",
    "- 1개의 평가 조건이 부족함: 4점\n",
    "- 2개의 평가 조건이 부족함: 3점\n",
    "- 3개의 평가 조건이 부족함: 2점\n",
    "- 4개의 평가 조건이 부족함: 1점\n",
    "\n",
    "OUTPUT은 평가 점수와 그렇게 평가한 이유를 한국어로 출력하세요.\"\"\"\n",
    "\n",
    "from pydantic import BaseModel\n",
    "class OutputFormat(BaseModel):\n",
    "    score: int\n",
    "    reason: str\n",
    "    \n",
    "\n",
    "def valid_data(prompt, data):\n",
    "    completion = client.beta.chat.completions.parse(\n",
    "    model=\"gpt-4o\",\n",
    "    messages=[\n",
    "        {\"role\": \"system\", \"content\": data_valid_system_prompt},\n",
    "        {\"role\": \"user\", \"content\": data_valid_user_prompt.format(prompt=prompt, data=data)}\n",
    "    ],\n",
    "    temperature=0.4,\n",
    "    response_format=OutputFormat\n",
    "    )\n",
    "    text = completion.choices[0].message.content\n",
    "    return text \n",
    "\n",
    "valid_result = valid_data(data_system_prompt, data)\n",
    "print(valid_result)"
   ]
  },
  {
   "cell_type": "code",
   "execution_count": 8,
   "metadata": {},
   "outputs": [
    {
     "name": "stdout",
     "output_type": "stream",
     "text": [
      "상담사: \"안녕하세요, [PERSON1] 고객님. 오늘 어떤 문제로 도와드릴까요?\"\n",
      "\n",
      "고객: \"안녕하세요. 제 이름은 [PERSON1]이고, 계좌번호는 [ACCOUNT1]입니다. 최근에 계좌에서 이상한 거래가 발생한 것 같아서 확인하고 싶습니다.\"\n",
      "\n",
      "상담사: \"확인해드리겠습니다. [PERSON1] 고객님의 생년월일이 [DATEOFBIRTH1] 맞으신가요?\"\n",
      "\n",
      "고객: \"네, 맞습니다. 그리고 제 연락처는 [CONTACT1]입니다.\"\n",
      "\n",
      "상담사: \"감사합니다. 확인 결과, 지난 10월 5일에 50만 원이 출금된 기록이 있습니다. 혹시 이 거래를 직접 하신 건가요?\"\n",
      "\n",
      "고객: \"아니요, 그런 거래를 한 적이 없어요. 주소는 [ADDRESS1]이고, 이메일은 [EMAIL1]입니다. 혹시 이 정보로 다른 문제가 발생할 수 있을까요?\"\n",
      "\n",
      "상담사: \"걱정하지 마세요, [PERSON1] 고객님. 즉시 거래를 조사하고, 필요 시 계좌를 일시적으로 동결하도록 하겠습니다. 추가로 다른 문의사항이 있으신가요?\"\n",
      "\n",
      "고객: \"아니요, 지금은 그 문제만 해결되면 좋겠습니다. 감사합니다.\"\n",
      "\n",
      "상담사: \"네, 빠르게 처리해드리겠습니다. [CONTACT1]로 진행 상황을 알려드리겠습니다. 좋은 하루 되세요.\"\n",
      "\n",
      "고객: \"감사합니다. 수고하세요.\"\n"
     ]
    }
   ],
   "source": [
    "anonymized_system_prompt = f\"\"\"당신은 한국어로 데이터 내에 포함된 모든 개인정보를 placeholder로 비식별화하는 작업을 수행하는 어시스턴트입니다.\"\"\"\n",
    "\n",
    "\n",
    "anonymized_user_prompt = f\"\"\"### 개인정보 비식별화 단계\n",
    "\n",
    "intput:::\n",
    "{{text}}\n",
    "intput:::\n",
    "\n",
    "입력 데이터에 포함된 모든 개인정보를 위 placeholder를 사용하여 비식별화 처리합니다. 동일 인물의 개인정보는 같은 번호를 사용하여 일관성을 유지해야 합니다.\n",
    "입력 데이터를 바탕으로, 아래 placeholder를 사용하여 모든 개인정보를 비식별화하세요.\n",
    "\n",
    "| 개인정보 종류 | placeholder 예시       |\n",
    "|---------------|------------------------|\n",
    "| 이름          | `[PERSON1]`, `[PERSON2]` 등 |\n",
    "| 생년월일      | `[DATEOFBIRTH1]`, `[DATEOFBIRTH2]` 등 |\n",
    "| 연락처        | `[CONTACT1]`, `[CONTACT2]` 등 |\n",
    "| 주소          | `[ADDRESS1]`, `[ADDRESS2]` 등 |\n",
    "| 계좌번호      | `[ACCOUNT1]`, `[ACCOUNT2]` 등 |\n",
    "| 이메일        | `[EMAIL1]`, `[EMAIL2]` 등 |\n",
    "| 장소 및 지역명 | `[LOCATION1]`, `[LOCATION2]` 등 |\n",
    "| 카카오톡 ID   | `[KAKAO_ID1]`, `[KAKAO_ID2]` 등 |\n",
    "| 트위터 ID     | `[TWITTER_ID1]`, `[TWITTER_ID2]` 등 |\n",
    "| 텔레그램 ID   | `[TELEGRAM_ID1]`, `[TELEGRAM_ID2]` 등 |\n",
    "\n",
    "\n",
    "자! 시작\n",
    "\n",
    "### ② 개인정보 비식별화 단계\"\"\"\n",
    "\n",
    "def anonymized_data(text):\n",
    "    completion = client.chat.completions.create(\n",
    "    model=\"gpt-4o\",\n",
    "    messages=[\n",
    "        {\"role\": \"system\", \"content\": anonymized_system_prompt},\n",
    "        {\"role\": \"user\", \"content\": anonymized_user_prompt.format(text=text)}\n",
    "    ],\n",
    "    temperature=0.1\n",
    "    )\n",
    "    text = completion.choices[0].message.content\n",
    "    return text \n",
    "\n",
    "temp = anonymized_data(data)\n",
    "print(temp)"
   ]
  },
  {
   "cell_type": "code",
   "execution_count": 9,
   "metadata": {},
   "outputs": [
    {
     "name": "stdout",
     "output_type": "stream",
     "text": [
      "{\"score\":5,\"reason\":\"모든 개인정보가 적절하게 비식별화되어 있으며, 동일한 개인정보는 일관된 placeholder로 대체되었습니다. 또한, 비식별화 후에도 문맥이 자연스럽고 대화의 흐름이 잘 유지되고 있습니다. 따라서 모든 기준을 완벽하게 충족하여 5점을 부여합니다.\"}\n"
     ]
    }
   ],
   "source": [
    "anonymized_valid_system_prompt = \"당신은 비식별화 데이터 품질 평가하는 어시스턴트입니다.\"\n",
    "\n",
    "anonymized_valid_user_prompt = f\"\"\"당신에게 비식별화 프롬프트와 비식별화 데이터의 품질을 평가하세요. \n",
    "\n",
    "# 비식별화 프롬프트\n",
    "{{prompt}}\n",
    "\n",
    "\n",
    "# 비식별화 데이터\n",
    "{{data}}\n",
    "\n",
    "\n",
    "# 검증 기준:  \n",
    "1. 모든 개인정보가 비식별화되었는가?  \n",
    "   - 이름, 생년월일, 연락처, 주소, 계좌번호 등 모든 개인정보가 placeholder로 대체되었는가?  \n",
    "2. 동일한 개인정보는 일관된 placeholder를 사용하는가?  \n",
    "   - 같은 인물, 같은 이메일, 같은 연락처 등이 일관된 ID로 처리되었는가?  \n",
    "3. 비식별화 후 문장이 자연스러운가?  \n",
    "   - 문맥이 손상되지 않고, 대화 흐름이 유지되는가?  \n",
    "\n",
    "# 평가 점수:  \n",
    "- 5점: 모든 기준을 완벽하게 충족 (개인정보가 누락 없이 비식별화되었고, 일관성이 유지되며 문장이 자연스러움)  \n",
    "- 4점: 거의 완벽하지만 일부 개인정보가 누락되었거나 일관성이 살짝 부족함  \n",
    "- 3점: 여러 개인정보가 비식별화되지 않았거나, 동일 개인정보의 placeholder가 일관되지 않음  \n",
    "- 2점: 대부분의 개인정보가 비식별화되지 않았으며, placeholder 사용이 올바르지 않음  \n",
    "- 1점: 개인정보가 거의 그대로 남아 있거나, 잘못된 방식으로 변환됨\n",
    "\n",
    "OUTPUT은 평가 점수와 그렇게 평가한 이유를 한국어로 출력하세요.\"\"\"\n",
    "\n",
    "from pydantic import BaseModel\n",
    "class OutputFormat(BaseModel):\n",
    "    score: int\n",
    "    reason: str\n",
    "    \n",
    "\n",
    "def valid_data(prompt, data):\n",
    "    completion = client.beta.chat.completions.parse(\n",
    "    model=\"gpt-4o\",\n",
    "    messages=[\n",
    "        {\"role\": \"system\", \"content\": anonymized_valid_system_prompt},\n",
    "        {\"role\": \"user\", \"content\": anonymized_valid_user_prompt.format(prompt=prompt, data=data)}\n",
    "    ],\n",
    "    temperature=0.4,\n",
    "    response_format=OutputFormat\n",
    "    )\n",
    "    text = completion.choices[0].message.content\n",
    "    return text \n",
    "\n",
    "valid_result = valid_data(anonymized_valid_system_prompt, temp)\n",
    "print(valid_result)"
   ]
  },
  {
   "cell_type": "code",
   "execution_count": 10,
   "metadata": {},
   "outputs": [
    {
     "name": "stdout",
     "output_type": "stream",
     "text": [
      "김영수 -> [PERSON1]\n",
      "123-456-789 -> [ACCOUNT1]\n",
      "1985년 3월 15일 -> [DATEOFBIRTH1]\n",
      "010-1234-5678 -> [CONTACT1]\n",
      "서울시 강남구 테헤란로 123 -> [ADDRESS1]\n",
      "youngsoo.kim@email.com -> [EMAIL1]\n",
      "연락처 -> [CONTACT1]\n"
     ]
    }
   ],
   "source": [
    "mapping = extract_placeholder_mapping(\n",
    "    data, \n",
    "    temp,\n",
    "    allowed_types=(\"PERSON\", \"CONTACT\", \"ADDRESS\", \"ACCOUNT\", \"DATEOFBIRTH\", \"EMAIL\", \"LOCATION\", \"KAKO_ID\", \"TIWTTER_ID\", \"TELEGRAM_ID\")\n",
    ")\n",
    "\n",
    "for orig_val, ph in mapping.items():\n",
    "    print(f\"{orig_val} -> {ph}\")\n"
   ]
  },
  {
   "cell_type": "code",
   "execution_count": null,
   "metadata": {},
   "outputs": [],
   "source": []
  }
 ],
 "metadata": {
  "kernelspec": {
   "display_name": ".venv",
   "language": "python",
   "name": "python3"
  },
  "language_info": {
   "codemirror_mode": {
    "name": "ipython",
    "version": 3
   },
   "file_extension": ".py",
   "mimetype": "text/x-python",
   "name": "python",
   "nbconvert_exporter": "python",
   "pygments_lexer": "ipython3",
   "version": "3.10.12"
  }
 },
 "nbformat": 4,
 "nbformat_minor": 2
}
