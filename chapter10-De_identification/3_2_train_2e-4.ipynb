{
 "cells": [
  {
   "cell_type": "code",
   "execution_count": 1,
   "metadata": {},
   "outputs": [
    {
     "name": "stdout",
     "output_type": "stream",
     "text": [
      "['./data/중고나라_게시물_final_20250322_164822.csv', './data/제품_리뷰글_final_20250322_164822.csv', './data/이벤트_안내글_final_20250322_164822.csv', './data/은행 상담_final_20250315_013253.csv', './data/쇼핑 고객 서비스_final_20250315_013253.csv', './data/보험 상담_final_20250315_013253.csv', './data/모임_동호회_홍보글_final_20250322_164822.csv', './data/강의_세미나_홍보글_final_20250322_164822.csv']\n"
     ]
    },
    {
     "data": {
      "text/plain": [
       "(773, 9)"
      ]
     },
     "execution_count": 1,
     "metadata": {},
     "output_type": "execute_result"
    }
   ],
   "source": [
    "import os\n",
    "os.environ[\"CUDA_VISIBLE_DEVICES\"] = \"0\"\n",
    "\n",
    "import re\n",
    "\n",
    "import json \n",
    "import torch\n",
    "import json_repair\n",
    "import pandas as pd\n",
    "from glob import glob \n",
    "from openai import OpenAI\n",
    "from pydantic import BaseModel\n",
    "from dotenv import load_dotenv\n",
    "from pqdm.processes import pqdm\n",
    "from datasets import Dataset, load_dataset\n",
    "from trl import SFTTrainer\n",
    "from peft import AutoPeftModelForCausalLM, LoraConfig\n",
    "from transformers import (AutoTokenizer, \n",
    "                          AutoModelForCausalLM, \n",
    "                          TrainingArguments, \n",
    "                          pipeline)\n",
    "\n",
    "\n",
    "# 제작한 데이터세 불러오기 \n",
    "file_list = glob(\"./data/*.csv\")\n",
    "print(file_list)\n",
    "\n",
    "df = pd.concat([pd.read_csv(file) for file in file_list])\n",
    "df.shape"
   ]
  },
  {
   "cell_type": "code",
   "execution_count": 2,
   "metadata": {},
   "outputs": [],
   "source": [
    "def extract_placeholder_mapping(original_text, transformed_text, allowed_types):\n",
    "    allowed_pattern = re.compile(r'\\[(' + '|'.join(allowed_types) + r')\\d*\\]')\n",
    "    generic_pattern = re.compile(r'(\\[[^]]+\\])')\n",
    "\n",
    "    mapping = {}\n",
    "\n",
    "    orig_lines = original_text.splitlines()\n",
    "    trans_lines = transformed_text.splitlines()\n",
    "    n_lines = min(len(orig_lines), len(trans_lines))\n",
    "\n",
    "    for idx in range(n_lines):\n",
    "        orig_line = orig_lines[idx]\n",
    "        trans_line = trans_lines[idx]\n",
    "\n",
    "        parts = re.split(generic_pattern, trans_line)\n",
    "        orig_pos = 0\n",
    "\n",
    "        for i, part in enumerate(parts):\n",
    "            if allowed_pattern.match(part):\n",
    "                # placeholder 발견\n",
    "                # 다음 literal을 찾음\n",
    "                next_literal = parts[i + 1] if i + 1 < len(parts) else ''\n",
    "                \n",
    "                # 다음 literal이 존재하면, 그 literal까지의 텍스트를 추출\n",
    "                if next_literal:\n",
    "                    next_idx = orig_line.find(next_literal, orig_pos)\n",
    "                    if next_idx != -1:\n",
    "                        replaced_text = orig_line[orig_pos:next_idx]\n",
    "                        orig_pos = next_idx\n",
    "                    else:\n",
    "                        # 다음 literal을 못 찾으면 끝까지\n",
    "                        replaced_text = orig_line[orig_pos:]\n",
    "                        orig_pos = len(orig_line)\n",
    "                else:\n",
    "                    # 다음 literal이 없으면 남은 텍스트 전체\n",
    "                    replaced_text = orig_line[orig_pos:]\n",
    "                    orig_pos = len(orig_line)\n",
    "\n",
    "                replaced_text = replaced_text.strip()\n",
    "                if replaced_text:\n",
    "                    mapping[replaced_text] = part\n",
    "\n",
    "            else:\n",
    "                # literal인 경우, 원본에서 위치 업데이트\n",
    "                found_idx = orig_line.find(part, orig_pos)\n",
    "                if found_idx != -1:\n",
    "                    orig_pos = found_idx + len(part)\n",
    "\n",
    "    return mapping"
   ]
  },
  {
   "cell_type": "code",
   "execution_count": 3,
   "metadata": {},
   "outputs": [
    {
     "name": "stdout",
     "output_type": "stream",
     "text": [
      "제목: 포르쉐 타이칸 GTS 미개봉 모델 판매합니다 🏎️\n",
      "\n",
      "안녕하세요, 자동차 애호가 여러분! \n",
      "\n",
      "이번에 포르쉐 타이칸 GTS 전기 스포츠카를 새 차로 구매했지만 개인적인 사정으로 인해 판매하게 되었습니다. 차량은 미개봉 상태이며, 1회 충전 시 317km 주행이 가능합니다. 매력 있는 디자인과 퍼포먼스를 직접 경험해 보세요!\n",
      "\n",
      "차량 정보:\n",
      "- 모델: 포르쉐 타이칸 GTS\n",
      "- 색상: 아이스 그레이\n",
      "- 등록 연도: 2023년\n",
      "- 주행 거리: 0km\n",
      "\n",
      "판매 가격: 1억 5천만 원 (협상 가능)\n",
      "\n",
      "직거래 희망 지역: 서울 강남구 압구정동\n",
      "\n",
      "연락처:\n",
      "- 이름: 김현수\n",
      "- 전화번호: 010-9876-5432\n",
      "- 이메일: hyunsu.kim@example.com\n",
      "- 카카오톡 ID: hyun_taycan\n",
      "\n",
      "계좌번호는 상담 후 알려드리겠습니다.\n",
      "\n",
      "자동차를 실제로 보시고 싶으신 분들은 연락 주세요! 철저한 차량 상태 확인 후 거래 가능합니다. 많은 관심 부탁드립니다 😊\n",
      "\n",
      "감사합니다!\n",
      "--------------\n",
      "제목: 포르쉐 타이칸 GTS 미개봉 모델 판매합니다 🏎️\n",
      "\n",
      "안녕하세요, 자동차 애호가 여러분! \n",
      "\n",
      "이번에 포르쉐 타이칸 GTS 전기 스포츠카를 새 차로 구매했지만 개인적인 사정으로 인해 판매하게 되었습니다. 차량은 미개봉 상태이며, 1회 충전 시 317km 주행이 가능합니다. 매력 있는 디자인과 퍼포먼스를 직접 경험해 보세요!\n",
      "\n",
      "차량 정보:\n",
      "- 모델: 포르쉐 타이칸 GTS\n",
      "- 색상: 아이스 그레이\n",
      "- 등록 연도: 2023년\n",
      "- 주행 거리: 0km\n",
      "\n",
      "판매 가격: 1억 5천만 원 (협상 가능)\n",
      "\n",
      "직거래 희망 지역: [LOCATION1]\n",
      "\n",
      "연락처:\n",
      "- 이름: [PERSON1]\n",
      "- 전화번호: [CONTACT1]\n",
      "- 이메일: [EMAIL1]\n",
      "- 카카오톡 ID: [KAKAO_ID1]\n",
      "\n",
      "계좌번호는 상담 후 알려드리겠습니다.\n",
      "\n",
      "자동차를 실제로 보시고 싶으신 분들은 연락 주세요! 철저한 차량 상태 확인 후 거래 가능합니다. 많은 관심 부탁드립니다 😊\n",
      "\n",
      "감사합니다!\n"
     ]
    }
   ],
   "source": [
    "print(df[\"origin_data\"].iloc[20])\n",
    "print(\"--------------\")\n",
    "print(df[\"anonymized_data\"].iloc[20])"
   ]
  },
  {
   "cell_type": "code",
   "execution_count": 4,
   "metadata": {},
   "outputs": [
    {
     "name": "stdout",
     "output_type": "stream",
     "text": [
      "📚✨ 제5회 AI 혁신 포럼 개최 안내 ✨📚\n",
      "\n",
      "안녕하세요, AI 혁신 포럼 준비위원회입니다!🙋‍♀️ 미래 자동차 기술과 인공지능의 융합을 주제로 한 \"AI 혁신 포럼\"에 여러분을 초대합니다.🌟\n",
      "\n",
      "이번 포럼에서는 LG전자 전장사업의 최신 기술 동향과 AI가 자동차 산업에 주는 영향을 중점적으로 다룰 예정입니다. 관련 분야 전문가들의 강연과 패널 토론을 통해 미래 기술의 비전을 함께 나누어 보세요! 🚗💡\n",
      "\n",
      "- **일시**: 2023년 11월 15일(수) 오후 1시 - 오후 5시\n",
      "- **장소**: 서울특별시 강남구 테헤란로 55길 12, AI 컨퍼런스 센터 3층\n",
      "- **강연진**: 김현우 박사 (LG전자 전장사업부), 이수진 교수 (KAIST), 박정민 박사 (한국전자통신연구원)\n",
      "\n",
      "참가 신청은 아래 연락처로 성함과 연락처를 보내주시면 됩니다. 선착순으로 마감되오니 서둘러 주세요! 🎟️\n",
      "\n",
      "- **이메일**: aiconference2023@seminar.kr\n",
      "- **전화번호**: 010-1234-5678\n",
      "- **카카오톡 ID**: AI_Forum\n",
      "\n",
      "포럼 참석을 위한 참가비는 없으며, 다과와 기념품도 준비되어 있습니다. 여러분의 많은 관심과 참여 부탁드립니다! 😊\n",
      "\n",
      "문의 사항이 있으시면 언제든지 연락 주시기 바랍니다. 그럼 포럼에서 만나 뵙길 기대하겠습니다! 🤝🌍\n",
      "--------------\n",
      "📚✨ 제5회 AI 혁신 포럼 개최 안내 ✨📚\n",
      "\n",
      "안녕하세요, AI 혁신 포럼 준비위원회입니다!🙋‍♀️ 미래 자동차 기술과 인공지능의 융합을 주제로 한 \"AI 혁신 포럼\"에 여러분을 초대합니다.🌟\n",
      "\n",
      "이번 포럼에서는 LG전자 전장사업의 최신 기술 동향과 AI가 자동차 산업에 주는 영향을 중점적으로 다룰 예정입니다. 관련 분야 전문가들의 강연과 패널 토론을 통해 미래 기술의 비전을 함께 나누어 보세요! 🚗💡\n",
      "\n",
      "- **일시**: 2023년 11월 15일(수) 오후 1시 - 오후 5시\n",
      "- **장소**: [LOCATION1], AI 컨퍼런스 센터 3층\n",
      "- **강연진**: [PERSON1] 박사 (LG전자 전장사업부), [PERSON2] 교수 (KAIST), [PERSON3] 박사 (한국전자통신연구원)\n",
      "\n",
      "참가 신청은 아래 연락처로 성함과 연락처를 보내주시면 됩니다. 선착순으로 마감되오니 서둘러 주세요! 🎟️\n",
      "\n",
      "- **이메일**: [EMAIL1]\n",
      "- **전화번호**: [CONTACT1]\n",
      "- **카카오톡 ID**: [KAKAO_ID1]\n",
      "\n",
      "포럼 참석을 위한 참가비는 없으며, 다과와 기념품도 준비되어 있습니다. 여러분의 많은 관심과 참여 부탁드립니다! 😊\n",
      "\n",
      "문의 사항이 있으시면 언제든지 연락 주시기 바랍니다. 그럼 포럼에서 만나 뵙길 기대하겠습니다! 🤝🌍\n"
     ]
    }
   ],
   "source": [
    "print(df[\"origin_data\"].iloc[-2])\n",
    "print(\"--------------\")\n",
    "print(df[\"anonymized_data\"].iloc[-2])"
   ]
  },
  {
   "cell_type": "code",
   "execution_count": 5,
   "metadata": {},
   "outputs": [],
   "source": [
    "df[\"mapping\"] = df[\"mapping\"].map(lambda x: str(x))"
   ]
  },
  {
   "cell_type": "code",
   "execution_count": 6,
   "metadata": {},
   "outputs": [
    {
     "data": {
      "application/vnd.jupyter.widget-view+json": {
       "model_id": "664d7fc4fc27491480ca7e2201398d41",
       "version_major": 2,
       "version_minor": 0
      },
      "text/plain": [
       "Map:   0%|          | 0/773 [00:00<?, ? examples/s]"
      ]
     },
     "metadata": {},
     "output_type": "display_data"
    }
   ],
   "source": [
    "import datasets \n",
    "\n",
    "dataset = datasets.Dataset.from_pandas(df)\n",
    "\n",
    "def get_chat_format(element):\n",
    "    system_prompt = \"너는 개인정보를 비식별화하는 Assistant야. 너는 주어진 데이터를 바탕으로 개인정보를 비식별화하는 작업을 해야해.\"\n",
    "\n",
    "    return {\n",
    "        \"messages\": [\n",
    "            {\"role\": \"system\", \"content\": system_prompt},\n",
    "            {\"role\": \"user\", \"content\": element[\"origin_data\"]},\n",
    "            {\"role\": \"assistant\", \"content\": element[\"anonymized_data\"]},\n",
    "        ], \n",
    "        \"label\": element[\"mapping\"]\n",
    "    }\n",
    "\n",
    "dataset = dataset.map(get_chat_format, remove_columns=dataset.features, batched=False)\n",
    "dataset = dataset.shuffle(seed=42)\n",
    "dataset = dataset.train_test_split(test_size=0.1, seed=42)"
   ]
  },
  {
   "cell_type": "code",
   "execution_count": 7,
   "metadata": {},
   "outputs": [
    {
     "data": {
      "text/plain": [
       "DatasetDict({\n",
       "    train: Dataset({\n",
       "        features: ['messages', 'label'],\n",
       "        num_rows: 695\n",
       "    })\n",
       "    test: Dataset({\n",
       "        features: ['messages', 'label'],\n",
       "        num_rows: 78\n",
       "    })\n",
       "})"
      ]
     },
     "execution_count": 7,
     "metadata": {},
     "output_type": "execute_result"
    }
   ],
   "source": [
    "dataset"
   ]
  },
  {
   "cell_type": "code",
   "execution_count": 8,
   "metadata": {},
   "outputs": [
    {
     "data": {
      "text/plain": [
       "{'messages': [{'content': '너는 개인정보를 비식별화하는 Assistant야. 너는 주어진 데이터를 바탕으로 개인정보를 비식별화하는 작업을 해야해.',\n",
       "   'role': 'system'},\n",
       "  {'content': '🎓 미래를 여는 나노 기술 세미나에 초대합니다! 🌟\\n\\n안녕하세요, 여러분! 첨단기술연구소에서 주관하는 \"미래를 여는 나노 기술\" 세미나에 여러분을 초대합니다. 이번 세미나는 나노 기술의 최신 동향과 혁신적인 응용 사례를 소개하며, 전문가들과의 네트워킹 기회를 제공합니다.\\n\\n📅 날짜: 2023년 11월 15일 (수요일)\\n🕒 시간: 오후 2시부터 5시까지\\n📍 장소: 서울 강남구 테헤란로 123, 테크빌딩 3층 컨퍼런스룸\\n\\n세션 주요 내용:\\n- 나노 소재의 혁신적인 응용 사례\\n- 산업별 나노 기술 도입 전략\\n- Q&A 및 전문가들과의 네트워킹 세션\\n\\n참가 신청은 이메일로 받습니다. 참석을 원하시는 분들은 kimtech@nanoexpo.com으로 성함과 연락처를 보내주세요. 궁금한 점은 김지훈(010-1234-5678)에게 연락 주시면 친절히 답변 드리겠습니다.\\n\\n💬 카카오톡 ID: nanotech2023을 통해서도 관련 정보를 실시간으로 받아보실 수 있습니다.\\n\\n신청하신 분들께는 세미나 하루 전날 확인 메일을 보내드릴 예정입니다. 이번 기회를 통해 나노 기술의 발전 방향을 확인하고, 유익한 정보를 얻어가시길 바랍니다. 많은 관심과 참여 부탁드립니다!\\n\\n감사합니다! 🌟',\n",
       "   'role': 'user'},\n",
       "  {'content': '🎓 미래를 여는 나노 기술 세미나에 초대합니다! 🌟\\n\\n안녕하세요, 여러분! 첨단기술연구소에서 주관하는 \"미래를 여는 나노 기술\" 세미나에 여러분을 초대합니다. 이번 세미나는 나노 기술의 최신 동향과 혁신적인 응용 사례를 소개하며, 전문가들과의 네트워킹 기회를 제공합니다.\\n\\n📅 날짜: 2023년 11월 15일 (수요일)\\n🕒 시간: 오후 2시부터 5시까지\\n📍 장소: [LOCATION1], 테크빌딩 3층 컨퍼런스룸\\n\\n세션 주요 내용:\\n- 나노 소재의 혁신적인 응용 사례\\n- 산업별 나노 기술 도입 전략\\n- Q&A 및 전문가들과의 네트워킹 세션\\n\\n참가 신청은 이메일로 받습니다. 참석을 원하시는 분들은 [EMAIL1]으로 성함과 연락처를 보내주세요. 궁금한 점은 [PERSON1]([CONTACT1])에게 연락 주시면 친절히 답변 드리겠습니다.\\n\\n💬 카카오톡 ID: [KAKAO_ID1]을 통해서도 관련 정보를 실시간으로 받아보실 수 있습니다.\\n\\n신청하신 분들께는 세미나 하루 전날 확인 메일을 보내드릴 예정입니다. 이번 기회를 통해 나노 기술의 발전 방향을 확인하고, 유익한 정보를 얻어가시길 바랍니다. 많은 관심과 참여 부탁드립니다!\\n\\n감사합니다! 🌟',\n",
       "   'role': 'assistant'}],\n",
       " 'label': \"{'서울 강남구 테헤란로 123': '[LOCATION1]', 'kimtech@nanoexpo.com': '[EMAIL1]', '김지훈': '[PERSON1]', '010-1234-5678': '[CONTACT1]'}\"}"
      ]
     },
     "execution_count": 8,
     "metadata": {},
     "output_type": "execute_result"
    }
   ],
   "source": [
    "dataset[\"train\"][0]"
   ]
  },
  {
   "cell_type": "code",
   "execution_count": 9,
   "metadata": {},
   "outputs": [],
   "source": [
    "lora_alpha = 32\n",
    "lora_r = 64\n",
    "learning_rate = 2e-4\n",
    "\n",
    "peft_config = LoraConfig(\n",
    "        lora_alpha=lora_alpha,\n",
    "        lora_dropout=0.05,\n",
    "        r=lora_r,\n",
    "        bias=\"none\",\n",
    "        target_modules=[\n",
    "            \"q_proj\",\n",
    "            \"up_proj\",\n",
    "            \"o_proj\",\n",
    "            \"k_proj\",\n",
    "            \"down_proj\",\n",
    "            \"gate_proj\",\n",
    "            \"v_proj\"],\n",
    "        task_type=\"CAUSAL_LM\",\n",
    ")\n",
    "\n",
    "save_dir = f\"./model/model_{learning_rate}_alpha-{lora_alpha}_r-{lora_r}\"\n",
    "\n",
    "args = TrainingArguments(\n",
    "    output_dir=f\"{save_dir}\", \n",
    "    num_train_epochs=2,          \n",
    "    per_device_train_batch_size=2,\n",
    "    gradient_accumulation_steps=4,\n",
    "    gradient_checkpointing=True,  \n",
    "    optim=\"adamw_torch_fused\",    \n",
    "    logging_steps=2,            \n",
    "    save_strategy=\"epoch\",        \n",
    "    learning_rate=learning_rate,\n",
    "    bf16=True,                    \n",
    "    tf32=True,                    \n",
    "    max_grad_norm=0.3,            \n",
    "    warmup_ratio=0.03,            \n",
    "    lr_scheduler_type=\"constant\", \n",
    "    push_to_hub=False,             \n",
    "    report_to=\"wandb\",            \n",
    ")"
   ]
  },
  {
   "cell_type": "code",
   "execution_count": 10,
   "metadata": {},
   "outputs": [
    {
     "data": {
      "application/vnd.jupyter.widget-view+json": {
       "model_id": "fb8105d056a5456da5484bc437f223f0",
       "version_major": 2,
       "version_minor": 0
      },
      "text/plain": [
       "Loading checkpoint shards:   0%|          | 0/4 [00:00<?, ?it/s]"
      ]
     },
     "metadata": {},
     "output_type": "display_data"
    }
   ],
   "source": [
    "model_id = \"meta-llama/Meta-Llama-3.1-8B-Instruct\"\n",
    "model = AutoModelForCausalLM.from_pretrained(\n",
    "    model_id,\n",
    "    device_map=\"auto\",\n",
    "    torch_dtype=torch.bfloat16,\n",
    ")\n",
    "\n",
    "tokenizer = AutoTokenizer.from_pretrained(model_id)\n",
    "tokenizer.padding_side = 'right'  \n",
    "tokenizer.pad_token = tokenizer.eos_token"
   ]
  },
  {
   "cell_type": "code",
   "execution_count": 11,
   "metadata": {},
   "outputs": [
    {
     "data": {
      "image/png": "[encoded data removed]",
      "text/plain": [
       "<Figure size 640x480 with 1 Axes>"
      ]
     },
     "metadata": {},
     "output_type": "display_data"
    }
   ],
   "source": [
    "df[\"length\"] = df[\"origin_data\"].apply(len) + df[\"anonymized_data\"].apply(len)\n",
    "\n",
    "import matplotlib.pyplot as plt\n",
    "\n",
    "plt.hist(df[\"length\"], bins=30, color=\"skyblue\", edgecolor=\"black\")\n",
    "plt.title(\"Distribution of Text Length\")\n",
    "plt.xlabel(\"Text Length (characters)\")\n",
    "plt.ylabel(\"Frequency\")\n",
    "plt.show()"
   ]
  },
  {
   "cell_type": "code",
   "execution_count": 12,
   "metadata": {},
   "outputs": [
    {
     "name": "stderr",
     "output_type": "stream",
     "text": [
      "/usr/local/lib/python3.11/dist-packages/huggingface_hub/utils/_deprecation.py:100: FutureWarning: Deprecated argument(s) used in '__init__': max_seq_length, packing. Will not be supported from version '1.0.0'.\n",
      "\n",
      "Deprecated positional argument(s) used in SFTTrainer, please use the SFTConfig to set these arguments instead.\n",
      "  warnings.warn(message, FutureWarning)\n",
      "/usr/local/lib/python3.11/dist-packages/trl/trainer/sft_trainer.py:195: UserWarning: You passed a `packing` argument to the SFTTrainer, the value you passed will override the one in the `SFTConfig`.\n",
      "  warnings.warn(\n",
      "/usr/local/lib/python3.11/dist-packages/trl/trainer/sft_trainer.py:283: UserWarning: You passed a `max_seq_length` argument to the SFTTrainer, the value you passed will override the one in the `SFTConfig`.\n",
      "  warnings.warn(\n",
      "\u001b[34m\u001b[1mwandb\u001b[0m: \u001b[33mWARNING\u001b[0m The `run_name` is currently set to the same value as `TrainingArguments.output_dir`. If this was not intended, please specify a different run name by setting the `TrainingArguments.run_name` parameter.\n",
      "\u001b[34m\u001b[1mwandb\u001b[0m: Using wandb-core as the SDK backend.  Please refer to https://wandb.me/wandb-core for more information.\n",
      "\u001b[34m\u001b[1mwandb\u001b[0m: Currently logged in as: \u001b[33mdaje0601\u001b[0m to \u001b[32mhttps://api.wandb.ai\u001b[0m. Use \u001b[1m`wandb login --relogin`\u001b[0m to force relogin\n"
     ]
    },
    {
     "data": {
      "text/html": [
       "Tracking run with wandb version 0.19.8"
      ],
      "text/plain": [
       "<IPython.core.display.HTML object>"
      ]
     },
     "metadata": {},
     "output_type": "display_data"
    },
    {
     "data": {
      "text/html": [
       "Run data is saved locally in <code>/workspace/FASTCAMPUS-CH09_11/chapter10-De_identification/wandb/run-20250329_144742-4ayymgoh</code>"
      ],
      "text/plain": [
       "<IPython.core.display.HTML object>"
      ]
     },
     "metadata": {},
     "output_type": "display_data"
    },
    {
     "data": {
      "text/html": [
       "Syncing run <strong><a href='https://wandb.ai/daje0601/huggingface/runs/4ayymgoh' target=\"_blank\">./model/model_0.0002_alpha-32_r-64</a></strong> to <a href='https://wandb.ai/daje0601/huggingface' target=\"_blank\">Weights & Biases</a> (<a href='https://wandb.me/developer-guide' target=\"_blank\">docs</a>)<br>"
      ],
      "text/plain": [
       "<IPython.core.display.HTML object>"
      ]
     },
     "metadata": {},
     "output_type": "display_data"
    },
    {
     "data": {
      "text/html": [
       " View project at <a href='https://wandb.ai/daje0601/huggingface' target=\"_blank\">https://wandb.ai/daje0601/huggingface</a>"
      ],
      "text/plain": [
       "<IPython.core.display.HTML object>"
      ]
     },
     "metadata": {},
     "output_type": "display_data"
    },
    {
     "data": {
      "text/html": [
       " View run at <a href='https://wandb.ai/daje0601/huggingface/runs/4ayymgoh' target=\"_blank\">https://wandb.ai/daje0601/huggingface/runs/4ayymgoh</a>"
      ],
      "text/plain": [
       "<IPython.core.display.HTML object>"
      ]
     },
     "metadata": {},
     "output_type": "display_data"
    },
    {
     "name": "stderr",
     "output_type": "stream",
     "text": [
      "`use_cache=True` is incompatible with gradient checkpointing. Setting `use_cache=False`.\n",
      "/usr/local/lib/python3.11/dist-packages/torch/utils/checkpoint.py:295: FutureWarning: `torch.cpu.amp.autocast(args...)` is deprecated. Please use `torch.amp.autocast('cpu', args...)` instead.\n",
      "  with torch.enable_grad(), device_autocast_ctx, torch.cpu.amp.autocast(**ctx.cpu_autocast_kwargs):  # type: ignore[attr-defined]\n"
     ]
    },
    {
     "data": {
      "text/html": [
       "\n",
       "    <div>\n",
       "      \n",
       "      <progress value='60' max='60' style='width:300px; height:20px; vertical-align: middle;'></progress>\n",
       "      [60/60 08:31, Epoch 1/2]\n",
       "    </div>\n",
       "    <table border=\"1\" class=\"dataframe\">\n",
       "  <thead>\n",
       " <tr style=\"text-align: left;\">\n",
       "      <th>Step</th>\n",
       "      <th>Training Loss</th>\n",
       "    </tr>\n",
       "  </thead>\n",
       "  <tbody>\n",
       "    <tr>\n",
       "      <td>2</td>\n",
       "      <td>1.094400</td>\n",
       "    </tr>\n",
       "    <tr>\n",
       "      <td>4</td>\n",
       "      <td>0.913300</td>\n",
       "    </tr>\n",
       "    <tr>\n",
       "      <td>6</td>\n",
       "      <td>0.837700</td>\n",
       "    </tr>\n",
       "    <tr>\n",
       "      <td>8</td>\n",
       "      <td>0.802800</td>\n",
       "    </tr>\n",
       "    <tr>\n",
       "      <td>10</td>\n",
       "      <td>0.752600</td>\n",
       "    </tr>\n",
       "    <tr>\n",
       "      <td>12</td>\n",
       "      <td>0.690400</td>\n",
       "    </tr>\n",
       "    <tr>\n",
       "      <td>14</td>\n",
       "      <td>0.691900</td>\n",
       "    </tr>\n",
       "    <tr>\n",
       "      <td>16</td>\n",
       "      <td>0.664500</td>\n",
       "    </tr>\n",
       "    <tr>\n",
       "      <td>18</td>\n",
       "      <td>0.644700</td>\n",
       "    </tr>\n",
       "    <tr>\n",
       "      <td>20</td>\n",
       "      <td>0.667600</td>\n",
       "    </tr>\n",
       "    <tr>\n",
       "      <td>22</td>\n",
       "      <td>0.637500</td>\n",
       "    </tr>\n",
       "    <tr>\n",
       "      <td>24</td>\n",
       "      <td>0.611800</td>\n",
       "    </tr>\n",
       "    <tr>\n",
       "      <td>26</td>\n",
       "      <td>0.595900</td>\n",
       "    </tr>\n",
       "    <tr>\n",
       "      <td>28</td>\n",
       "      <td>0.562600</td>\n",
       "    </tr>\n",
       "    <tr>\n",
       "      <td>30</td>\n",
       "      <td>0.590500</td>\n",
       "    </tr>\n",
       "    <tr>\n",
       "      <td>32</td>\n",
       "      <td>0.556700</td>\n",
       "    </tr>\n",
       "    <tr>\n",
       "      <td>34</td>\n",
       "      <td>0.520500</td>\n",
       "    </tr>\n",
       "    <tr>\n",
       "      <td>36</td>\n",
       "      <td>0.531900</td>\n",
       "    </tr>\n",
       "    <tr>\n",
       "      <td>38</td>\n",
       "      <td>0.535800</td>\n",
       "    </tr>\n",
       "    <tr>\n",
       "      <td>40</td>\n",
       "      <td>0.500600</td>\n",
       "    </tr>\n",
       "    <tr>\n",
       "      <td>42</td>\n",
       "      <td>0.533200</td>\n",
       "    </tr>\n",
       "    <tr>\n",
       "      <td>44</td>\n",
       "      <td>0.513700</td>\n",
       "    </tr>\n",
       "    <tr>\n",
       "      <td>46</td>\n",
       "      <td>0.522700</td>\n",
       "    </tr>\n",
       "    <tr>\n",
       "      <td>48</td>\n",
       "      <td>0.493900</td>\n",
       "    </tr>\n",
       "    <tr>\n",
       "      <td>50</td>\n",
       "      <td>0.508900</td>\n",
       "    </tr>\n",
       "    <tr>\n",
       "      <td>52</td>\n",
       "      <td>0.495600</td>\n",
       "    </tr>\n",
       "    <tr>\n",
       "      <td>54</td>\n",
       "      <td>0.483500</td>\n",
       "    </tr>\n",
       "    <tr>\n",
       "      <td>56</td>\n",
       "      <td>0.504900</td>\n",
       "    </tr>\n",
       "    <tr>\n",
       "      <td>58</td>\n",
       "      <td>0.503300</td>\n",
       "    </tr>\n",
       "    <tr>\n",
       "      <td>60</td>\n",
       "      <td>0.529000</td>\n",
       "    </tr>\n",
       "  </tbody>\n",
       "</table><p>"
      ],
      "text/plain": [
       "<IPython.core.display.HTML object>"
      ]
     },
     "metadata": {},
     "output_type": "display_data"
    },
    {
     "name": "stderr",
     "output_type": "stream",
     "text": [
      "/usr/local/lib/python3.11/dist-packages/torch/utils/checkpoint.py:295: FutureWarning: `torch.cpu.amp.autocast(args...)` is deprecated. Please use `torch.amp.autocast('cpu', args...)` instead.\n",
      "  with torch.enable_grad(), device_autocast_ctx, torch.cpu.amp.autocast(**ctx.cpu_autocast_kwargs):  # type: ignore[attr-defined]\n"
     ]
    }
   ],
   "source": [
    "trainer = SFTTrainer(\n",
    "    model=model,\n",
    "    args=args,\n",
    "    train_dataset=dataset[\"train\"],\n",
    "    max_seq_length=2400,\n",
    "    peft_config=peft_config,\n",
    "    tokenizer=tokenizer,\n",
    "    packing=True,\n",
    ")\n",
    "\n",
    "trainer.train()\n",
    "\n",
    "trainer.save_model(f\"{save_dir}\")"
   ]
  },
  {
   "cell_type": "code",
   "execution_count": 13,
   "metadata": {},
   "outputs": [],
   "source": [
    "del model\n",
    "del tokenizer\n",
    "torch.cuda.empty_cache()"
   ]
  },
  {
   "cell_type": "code",
   "execution_count": 9,
   "metadata": {},
   "outputs": [],
   "source": [
    "save_dir = \"/workspace/FASTCAMPUS-CH09_11/chapter10-De_identification/model/model_0.0002_alpha-32_r-64\""
   ]
  },
  {
   "cell_type": "code",
   "execution_count": 10,
   "metadata": {},
   "outputs": [
    {
     "data": {
      "application/vnd.jupyter.widget-view+json": {
       "model_id": "a841a4d3db3d4df3bfb571771ce147a5",
       "version_major": 2,
       "version_minor": 0
      },
      "text/plain": [
       "Loading checkpoint shards:   0%|          | 0/4 [00:00<?, ?it/s]"
      ]
     },
     "metadata": {},
     "output_type": "display_data"
    }
   ],
   "source": [
    "# 학습한 모델을 경로를 지정합니다.\n",
    "peft_model_id = f\"{save_dir}\"\n",
    "\n",
    "# PEFT 어댑터를 통해 사전 학습된 모델을 로드합니다.\n",
    "fine_tuned_model = AutoPeftModelForCausalLM.from_pretrained(\n",
    "  peft_model_id,\n",
    "  device_map=\"auto\",\n",
    "  torch_dtype=torch.float16\n",
    ").to(\"cuda\")\n",
    "\n",
    "# 토크나이저 로드합니다.\n",
    "tokenizer = AutoTokenizer.from_pretrained(peft_model_id)\n",
    "tokenizer.padding_side = 'right'  \n",
    "tokenizer.pad_token = tokenizer.eos_token\n"
   ]
  },
  {
   "cell_type": "code",
   "execution_count": 11,
   "metadata": {},
   "outputs": [
    {
     "data": {
      "text/plain": [
       "Dataset({\n",
       "    features: ['messages', 'label'],\n",
       "    num_rows: 78\n",
       "})"
      ]
     },
     "execution_count": 11,
     "metadata": {},
     "output_type": "execute_result"
    }
   ],
   "source": [
    "dataset[\"test\"]"
   ]
  },
  {
   "cell_type": "code",
   "execution_count": 12,
   "metadata": {},
   "outputs": [
    {
     "name": "stderr",
     "output_type": "stream",
     "text": [
      "The model 'PeftModelForCausalLM' is not supported for text-generation. Supported models are ['BartForCausalLM', 'BertLMHeadModel', 'BertGenerationDecoder', 'BigBirdForCausalLM', 'BigBirdPegasusForCausalLM', 'BioGptForCausalLM', 'BlenderbotForCausalLM', 'BlenderbotSmallForCausalLM', 'BloomForCausalLM', 'CamembertForCausalLM', 'LlamaForCausalLM', 'CodeGenForCausalLM', 'CohereForCausalLM', 'CpmAntForCausalLM', 'CTRLLMHeadModel', 'Data2VecTextForCausalLM', 'DbrxForCausalLM', 'ElectraForCausalLM', 'ErnieForCausalLM', 'FalconForCausalLM', 'FalconMambaForCausalLM', 'FuyuForCausalLM', 'GemmaForCausalLM', 'Gemma2ForCausalLM', 'GitForCausalLM', 'GPT2LMHeadModel', 'GPT2LMHeadModel', 'GPTBigCodeForCausalLM', 'GPTNeoForCausalLM', 'GPTNeoXForCausalLM', 'GPTNeoXJapaneseForCausalLM', 'GPTJForCausalLM', 'GraniteForCausalLM', 'GraniteMoeForCausalLM', 'JambaForCausalLM', 'JetMoeForCausalLM', 'LlamaForCausalLM', 'MambaForCausalLM', 'Mamba2ForCausalLM', 'MarianForCausalLM', 'MBartForCausalLM', 'MegaForCausalLM', 'MegatronBertForCausalLM', 'MistralForCausalLM', 'MixtralForCausalLM', 'MllamaForCausalLM', 'MptForCausalLM', 'MusicgenForCausalLM', 'MusicgenMelodyForCausalLM', 'MvpForCausalLM', 'NemotronForCausalLM', 'OlmoForCausalLM', 'OlmoeForCausalLM', 'OpenLlamaForCausalLM', 'OpenAIGPTLMHeadModel', 'OPTForCausalLM', 'PegasusForCausalLM', 'PersimmonForCausalLM', 'PhiForCausalLM', 'Phi3ForCausalLM', 'PLBartForCausalLM', 'ProphetNetForCausalLM', 'QDQBertLMHeadModel', 'Qwen2ForCausalLM', 'Qwen2MoeForCausalLM', 'RecurrentGemmaForCausalLM', 'ReformerModelWithLMHead', 'RemBertForCausalLM', 'RobertaForCausalLM', 'RobertaPreLayerNormForCausalLM', 'RoCBertForCausalLM', 'RoFormerForCausalLM', 'RwkvForCausalLM', 'Speech2Text2ForCausalLM', 'StableLmForCausalLM', 'Starcoder2ForCausalLM', 'TransfoXLLMHeadModel', 'TrOCRForCausalLM', 'WhisperForCausalLM', 'XGLMForCausalLM', 'XLMWithLMHeadModel', 'XLMProphetNetForCausalLM', 'XLMRobertaForCausalLM', 'XLMRobertaXLForCausalLM', 'XLNetLMHeadModel', 'XmodForCausalLM'].\n"
     ]
    },
    {
     "name": "stdout",
     "output_type": "stream",
     "text": [
      "<|begin_of_text|><|start_header_id|>system<|end_header_id|>\n",
      "\n",
      "Cutting Knowledge Date: December 2023\n",
      "Today Date: 26 Jul 2024\n",
      "\n",
      "너는 개인정보를 비식별화하는 Assistant야. 너는 주어진 데이터를 바탕으로 개인정보를 비식별화하는 작업을 해야해.<|eot_id|><|start_header_id|>user<|end_header_id|>\n",
      "\n",
      "상담사: \"안녕하세요, 김도현 고객님. 국민은행 홍길동 상담사입니다. 오늘 어떻게 도와드릴까요?\"\n",
      "\n",
      "고객: \"안녕하세요. 제 계좌에 이상한 거래가 발생한 것 같아서요. 확인 좀 부탁드리려고요.\"\n",
      "\n",
      "상담사: \"네, 고객님. 불편을 드려 죄송합니다. 계좌번호와 생년월일을 알려주시면 거래 내역을 확인해 드리겠습니다.\"\n",
      "\n",
      "고객: \"계좌번호는 110-1234-5678이고, 제 생년월일은 1990년 5월 21일입니다.\"\n",
      "\n",
      "상담사: \"감사합니다. 지금 바로 확인해 보겠습니다. 혹시 최근에 고객님께서 기억에 없는 금액이 입출금된 것이 있었을까요?\"\n",
      "\n",
      "고객: \"네, 어제 오후에 50만 원이 빠져나갔는데 제가 한 거래가 아니거든요.\"\n",
      "\n",
      "상담사: \"확인해보니, 010-1234-5678로 등록된 유선전화번호에서 요청된 이체로 보입니다. 이 번호가 고객님의 전화번호가 맞으신가요?\"\n",
      "\n",
      "고객: \"네, 맞습니다. 다른 사람에게 공유한 적은 없어요.\"\n",
      "\n",
      "상담사: \"현재 저희 쪽에서 보안 절차를 강화해 드릴 수 있습니다. 몇 가지 추가 확인이 필요할 수 있으니 고객님의 이메일 주소를 알려주시면 필요한 정보를 보내드리겠습니다.\"\n",
      "\n",
      "고객: \"이메일은 kimdohyun@naver.com입니다.\"\n",
      "\n",
      "상담사: \"알겠습니다. 보안 조치를 강화하고, 의심되는 거래는 조사 후에 바로 연락드리겠습니다. 추가로 의심되는 거래가 없도록 카드 사용 내역과 계좌 비밀번호 변경을 권장드립니다.\"\n",
      "\n",
      "고객: \"네, 감사합니다. 바로 변경하겠습니다.\"\n",
      "\n",
      "상담사: \"네, 고객님. 빠른 시일 내에 다시 연락드리겠습니다. 감사합니다. 좋은 하루 보내세요.\"\n",
      "\n",
      "고객: \"네, 수고하세요.\"<|eot_id|><|start_header_id|>assistant<|end_header_id|>\n",
      "\n",
      "\n"
     ]
    }
   ],
   "source": [
    "pipe = pipeline(\"text-generation\", model=fine_tuned_model, tokenizer=tokenizer, device_map=\"auto\")\n",
    "\n",
    "prompt = pipe.tokenizer.apply_chat_template(dataset[\"test\"][-2][\"messages\"][:2], tokenize=False, add_generation_prompt=True)\n",
    "print(prompt)"
   ]
  },
  {
   "cell_type": "code",
   "execution_count": 13,
   "metadata": {},
   "outputs": [
    {
     "name": "stderr",
     "output_type": "stream",
     "text": [
      "/usr/local/lib/python3.11/dist-packages/transformers/generation/configuration_utils.py:601: UserWarning: `do_sample` is set to `False`. However, `temperature` is set to `0.1` -- this flag is only used in sample-based generation modes. You should set `do_sample=True` or unset `temperature`.\n",
      "  warnings.warn(\n",
      "/usr/local/lib/python3.11/dist-packages/transformers/generation/configuration_utils.py:606: UserWarning: `do_sample` is set to `False`. However, `top_p` is set to `0.1` -- this flag is only used in sample-based generation modes. You should set `do_sample=True` or unset `top_p`.\n",
      "  warnings.warn(\n",
      "/usr/local/lib/python3.11/dist-packages/transformers/generation/configuration_utils.py:623: UserWarning: `do_sample` is set to `False`. However, `top_k` is set to `40` -- this flag is only used in sample-based generation modes. You should set `do_sample=True` or unset `top_k`.\n",
      "  warnings.warn(\n",
      "Starting from v4.46, the `logits` model output will have the same type as the model (except at train time, where it will always be FP32)\n"
     ]
    }
   ],
   "source": [
    "outputs = pipe(\n",
    "    prompt, \n",
    "    max_new_tokens=512, \n",
    "    do_sample=False, \n",
    "    temperature=0.1, \n",
    "    top_k=40, \n",
    "    top_p=0.1, \n",
    "    eos_token_id=pipe.tokenizer.eos_token_id, \n",
    "    pad_token_id=pipe.tokenizer.pad_token_id\n",
    ")\n"
   ]
  },
  {
   "cell_type": "code",
   "execution_count": 14,
   "metadata": {},
   "outputs": [
    {
     "name": "stdout",
     "output_type": "stream",
     "text": [
      "상담사: \"안녕하세요, [PERSON1] 고객님. 국민은행 [PERSON2] 상담사입니다. 오늘 어떻게 도와드릴까요?\"\n",
      "\n",
      "고객: \"안녕하세요. 제 계좌에 이상한 거래가 발생한 것 같아서요. 확인 좀 부탁드리려고요.\"\n",
      "\n",
      "상담사: \"네, 고객님. 불편을 드려 죄송합니다. 계좌번호와 생년월일을 알려주시면 거래 내역을 확인해 드리겠습니다.\"\n",
      "\n",
      "고객: \"계좌번호는 [ACCOUNT1]이고, 제 생년월일은 [DATEOFBIRTH1]입니다.\"\n",
      "\n",
      "상담사: \"감사합니다. 지금 바로 확인해 보겠습니다. 혹시 최근에 고객님께서 기억에 없는 금액이 입출금된 것이 있었을까요?\"\n",
      "\n",
      "고객: \"네, 어제 오후에 50만 원이 빠져나갔는데 제가 한 거래가 아니거든요.\"\n",
      "\n",
      "상담사: \"확인해보니, [CONTACT1]로 등록된 유선전화번호에서 요청된 이체로 보입니다. 이 번호가 고객님의 전화번호가 맞으신가요?\"\n",
      "\n",
      "고객: \"네, 맞습니다. 다른 사람에게 공유한 적은 없어요.\"\n",
      "\n",
      "상담사: \"현재 저희 쪽에서 보안 절차를 강화해 드릴 수 있습니다. 몇 가지 추가 확인이 필요할 수 있으니 고객님의 이메일 주소를 알려주시면 필요한 정보를 보내드리겠습니다.\"\n",
      "\n",
      "고객: \"이메일은 [EMAIL1]입니다.\"\n",
      "\n",
      "상담사: \"알겠습니다. 보안 조치를 강화하고, 의심되는 거래는 조사 후에 바로 연락드리겠습니다. 추가로 의심되는 거래가 없도록 카드 사용 내역과 계좌 비밀번호 변경을 권장드립니다.\"\n",
      "\n",
      "고객: \"네, 감사합니다. 바로 변경하겠습니다.\"\n",
      "\n",
      "상담사: \"네, 고객님. 빠른 시일 내에 다시 연락드리겠습니다. 감사합니다. 좋은 하루 보내세요.\"\n",
      "\n",
      "고객: \"네, 수고하세요.\"\n"
     ]
    }
   ],
   "source": [
    "output_text = outputs[0][\"generated_text\"][len(prompt):]\n",
    "print(output_text)"
   ]
  },
  {
   "cell_type": "code",
   "execution_count": 15,
   "metadata": {},
   "outputs": [
    {
     "name": "stdout",
     "output_type": "stream",
     "text": [
      "상담사: \"안녕하세요, 김도현 고객님. 국민은행 홍길동 상담사입니다. 오늘 어떻게 도와드릴까요?\"\n",
      "\n",
      "고객: \"안녕하세요. 제 계좌에 이상한 거래가 발생한 것 같아서요. 확인 좀 부탁드리려고요.\"\n",
      "\n",
      "상담사: \"네, 고객님. 불편을 드려 죄송합니다. 계좌번호와 생년월일을 알려주시면 거래 내역을 확인해 드리겠습니다.\"\n",
      "\n",
      "고객: \"계좌번호는 110-1234-5678이고, 제 생년월일은 1990년 5월 21일입니다.\"\n",
      "\n",
      "상담사: \"감사합니다. 지금 바로 확인해 보겠습니다. 혹시 최근에 고객님께서 기억에 없는 금액이 입출금된 것이 있었을까요?\"\n",
      "\n",
      "고객: \"네, 어제 오후에 50만 원이 빠져나갔는데 제가 한 거래가 아니거든요.\"\n",
      "\n",
      "상담사: \"확인해보니, 010-1234-5678로 등록된 유선전화번호에서 요청된 이체로 보입니다. 이 번호가 고객님의 전화번호가 맞으신가요?\"\n",
      "\n",
      "고객: \"네, 맞습니다. 다른 사람에게 공유한 적은 없어요.\"\n",
      "\n",
      "상담사: \"현재 저희 쪽에서 보안 절차를 강화해 드릴 수 있습니다. 몇 가지 추가 확인이 필요할 수 있으니 고객님의 이메일 주소를 알려주시면 필요한 정보를 보내드리겠습니다.\"\n",
      "\n",
      "고객: \"이메일은 kimdohyun@naver.com입니다.\"\n",
      "\n",
      "상담사: \"알겠습니다. 보안 조치를 강화하고, 의심되는 거래는 조사 후에 바로 연락드리겠습니다. 추가로 의심되는 거래가 없도록 카드 사용 내역과 계좌 비밀번호 변경을 권장드립니다.\"\n",
      "\n",
      "고객: \"네, 감사합니다. 바로 변경하겠습니다.\"\n",
      "\n",
      "상담사: \"네, 고객님. 빠른 시일 내에 다시 연락드리겠습니다. 감사합니다. 좋은 하루 보내세요.\"\n",
      "\n",
      "고객: \"네, 수고하세요.\"\n"
     ]
    }
   ],
   "source": [
    "input_text = dataset[\"test\"][-2][\"messages\"][1][\"content\"]\n",
    "print(input_text)"
   ]
  },
  {
   "cell_type": "code",
   "execution_count": 16,
   "metadata": {},
   "outputs": [
    {
     "name": "stdout",
     "output_type": "stream",
     "text": [
      "{'김도현': '[PERSON1]', '홍길동': '[PERSON2]', '110-1234-5678': '[ACCOUNT1]', '1990년 5월 21일': '[DATEOFBIRTH1]', '010-1234-5678': '[CONTACT1]', 'kimdohyun@naver.com': '[EMAIL1]'}\n"
     ]
    }
   ],
   "source": [
    "mapping_result = extract_placeholder_mapping(\n",
    "    input_text, \n",
    "    output_text, \n",
    "    allowed_types=(\n",
    "        \"PERSON\", \"CONTACT\", \"ADDRESS\", \"ACCOUNT\", \"DATEOFBIRTH\", \n",
    "        \"EMAIL\", \"LOCATION\", \"KAKO_ID\", \"TIWTTER_ID\", \"TELEGRAM_ID\"))\n",
    "\n",
    "print(mapping_result)"
   ]
  },
  {
   "cell_type": "code",
   "execution_count": null,
   "metadata": {},
   "outputs": [],
   "source": []
  },
  {
   "cell_type": "code",
   "execution_count": null,
   "metadata": {},
   "outputs": [],
   "source": []
  }
 ],
 "metadata": {
  "kernelspec": {
   "display_name": "Python 3 (ipykernel)",
   "language": "python",
   "name": "python3"
  },
  "language_info": {
   "codemirror_mode": {
    "name": "ipython",
    "version": 3
   },
   "file_extension": ".py",
   "mimetype": "text/x-python",
   "name": "python",
   "nbconvert_exporter": "python",
   "pygments_lexer": "ipython3",
   "version": "3.11.10"
  }
 },
 "nbformat": 4,
 "nbformat_minor": 4
}
