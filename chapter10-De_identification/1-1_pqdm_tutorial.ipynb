{
 "cells": [
  {
   "cell_type": "markdown",
   "metadata": {},
   "source": [
    "# pqdm: 병렬 처리 작업을 위한 라이브러리"
   ]
  },
  {
   "cell_type": "markdown",
   "metadata": {},
   "source": [
    "pqdm은 파이썬에서 병렬 처리 작업을 할 때 진행 상황을 쉽게 확인할 수 있게 해주는 라이브러리입니다. 이 라이브러리는 유명한 두 가지 파이썬 라이브러리인 tqdm(진행률 표시줄)과 concurrent.futures(병렬 처리)를 결합하여 사용자가 여러 작업을 동시에 처리하면서도 그 진행 상황을 시각적으로 쉽게 확인할 수 있게 해줍니다."
   ]
  },
  {
   "cell_type": "markdown",
   "metadata": {},
   "source": [
    "### pqdm의 주요 특징\n",
    "- 직관적인 사용법: 복잡한 설정 없이 단 몇 줄의 코드로 병렬 처리와 진행률 표시를 동시에 구현할 수 있습니다.  \n",
    "\n",
    "\n",
    "- 다양한 병렬 처리 방식: 프로세스 기반 병렬 처리(pqdm.processes)와 스레드 기반 병렬 처리(pqdm.threads) 중에서 선택할 수 있습니다.\n",
    "    - pqdm.process : CPU 계산 위주의 작업에 적합합니다. 각 작업이 독립적인 메모리 공간을 사용합니다.\n",
    "    - pqdm.threads : 입출력(I/O) 작업이 많은 경우에 적합합니다. 메모리를 공유하므로 자원 사용량이 적습니다.\n",
    "- 다양한 입력 방식 지원: 리스트, 범위(range), 또는 다양한 반복 가능한 객체를 입력으로 사용할 수 있습니다.\n",
    "- 자원 관리: 작업의 수(n_jobs)를 조절하여 컴퓨터 자원을 효율적으로 사용할 수 있습니다."
   ]
  },
  {
   "cell_type": "markdown",
   "metadata": {},
   "source": [
    "### 설치 방법\n"
   ]
  },
  {
   "cell_type": "markdown",
   "metadata": {},
   "source": [
    "pip install pqdm"
   ]
  },
  {
   "cell_type": "code",
   "execution_count": 1,
   "metadata": {},
   "outputs": [
    {
     "name": "stderr",
     "output_type": "stream",
     "text": [
      "/home/admin/.venv/lib/python3.10/site-packages/tqdm/auto.py:21: TqdmWarning: IProgress not found. Please update jupyter and ipywidgets. See https://ipywidgets.readthedocs.io/en/stable/user_install.html\n",
      "  from .autonotebook import tqdm as notebook_tqdm\n",
      "QUEUEING TASKS | : 100%|██████████| 5/5 [00:00<00:00, 312.63it/s]\n",
      "PROCESSING TASKS | : 100%|██████████| 5/5 [00:00<00:00, 8227.35it/s]\n",
      "COLLECTING RESULTS | : 100%|██████████| 5/5 [00:00<00:00, 29046.43it/s]\n"
     ]
    }
   ],
   "source": [
    "from pqdm.processes import pqdm  # 프로세스 기반 병렬 처리를 사용\n",
    "\n",
    "# 병렬로 처리할 데이터\n",
    "args = [1, 2, 3, 4, 5]  # 리스트 형태로 입력\n",
    "# args = range(1, 6)으로도 사용 가능합니다\n",
    "\n",
    "# 각 데이터에 적용할 함수 정의\n",
    "def square(a):\n",
    "    return a * a\n",
    "\n",
    "# pqdm을 사용하여 병렬 처리 및 진행률 표시\n",
    "# 첫번째 인자에는 사용할 데이털 넣어주고, \n",
    "# 두번째 인자에는 함수는 넣어주고, \n",
    "# n_jobs은 몇개의 프로세스를 동시에 사용할 것인지를 정해준다. \n",
    "# n_jobs=2는 2개의 프로세스를 동시에 사용한다는 의미\n",
    "result = pqdm(args, square, n_jobs=2)"
   ]
  },
  {
   "cell_type": "code",
   "execution_count": 1,
   "metadata": {},
   "outputs": [
    {
     "name": "stderr",
     "output_type": "stream",
     "text": [
      "/home/admin/.venv/lib/python3.10/site-packages/tqdm/auto.py:21: TqdmWarning: IProgress not found. Please update jupyter and ipywidgets. See https://ipywidgets.readthedocs.io/en/stable/user_install.html\n",
      "  from .autonotebook import tqdm as notebook_tqdm\n"
     ]
    },
    {
     "name": "stdout",
     "output_type": "stream",
     "text": [
      "\n",
      "데이터 크기: 5\n",
      "1. 일반 for 반복문으로 실행 중...\n",
      "일반 for 반복문 실행 시간: 8.76초\n",
      "\n",
      "2. pqdm으로 병렬 처리 실행 중...\n"
     ]
    },
    {
     "name": "stderr",
     "output_type": "stream",
     "text": [
      "QUEUEING TASKS | : 100%|██████████| 5/5 [00:00<00:00, 63.34it/s]\n",
      "PROCESSING TASKS | : 100%|██████████| 5/5 [00:02<00:00,  1.79it/s]\n",
      "COLLECTING RESULTS | : 100%|██████████| 5/5 [00:00<00:00, 26149.03it/s]\n"
     ]
    },
    {
     "name": "stdout",
     "output_type": "stream",
     "text": [
      "pqdm 병렬 처리 실행 시간: 2.91초\n",
      "속도 향상: 3.01배 빠름\n",
      "--------------------------------\n",
      "\n",
      "데이터 크기: 10\n",
      "1. 일반 for 반복문으로 실행 중...\n",
      "일반 for 반복문 실행 시간: 15.18초\n",
      "\n",
      "2. pqdm으로 병렬 처리 실행 중...\n"
     ]
    },
    {
     "name": "stderr",
     "output_type": "stream",
     "text": [
      "QUEUEING TASKS | : 100%|██████████| 10/10 [00:00<00:00, 129.32it/s]\n",
      "PROCESSING TASKS | : 100%|██████████| 10/10 [00:02<00:00,  3.45it/s]\n",
      "COLLECTING RESULTS | : 100%|██████████| 10/10 [00:00<00:00, 53498.78it/s]\n"
     ]
    },
    {
     "name": "stdout",
     "output_type": "stream",
     "text": [
      "pqdm 병렬 처리 실행 시간: 3.01초\n",
      "속도 향상: 5.04배 빠름\n",
      "--------------------------------\n",
      "\n",
      "데이터 크기: 15\n",
      "1. 일반 for 반복문으로 실행 중...\n",
      "일반 for 반복문 실행 시간: 22.93초\n",
      "\n",
      "2. pqdm으로 병렬 처리 실행 중...\n"
     ]
    },
    {
     "name": "stderr",
     "output_type": "stream",
     "text": [
      "QUEUEING TASKS | : 100%|██████████| 15/15 [00:00<00:00, 189.09it/s]\n",
      "PROCESSING TASKS | : 100%|██████████| 15/15 [00:03<00:00,  4.99it/s]\n",
      "COLLECTING RESULTS | : 100%|██████████| 15/15 [00:00<00:00, 74809.23it/s]"
     ]
    },
    {
     "name": "stdout",
     "output_type": "stream",
     "text": [
      "pqdm 병렬 처리 실행 시간: 3.12초\n",
      "속도 향상: 7.35배 빠름\n",
      "--------------------------------\n",
      "\n",
      "결과 비교:\n",
      "데이터 크기 5개: 일반 반복문(8.76초) vs 병렬 처리(2.91초) - 3.01배 빠름\n",
      "데이터 크기 10개: 일반 반복문(15.18초) vs 병렬 처리(3.01초) - 5.04배 빠름\n",
      "데이터 크기 15개: 일반 반복문(22.93초) vs 병렬 처리(3.12초) - 7.35배 빠름\n"
     ]
    },
    {
     "name": "stderr",
     "output_type": "stream",
     "text": [
      "\n"
     ]
    }
   ],
   "source": [
    "import time\n",
    "import math\n",
    "from pqdm.processes import pqdm\n",
    "import numpy as np\n",
    "\n",
    "# 시간이 많이 걸리는 함수 (실제 효과를 보기 위해)\n",
    "def time_consuming_task(n):\n",
    "    # 인위적으로 계산을 많이 하는 함수\n",
    "    result = 0\n",
    "    for i in range(10000000):  # 1천만 번 반복\n",
    "        result += math.sin(i * n) + math.cos(i * n)\n",
    "    return n * n  # 결국은 제곱값 반환\n",
    "\n",
    "# 테스트할 데이터 크기들\n",
    "데이터_크기_목록 = [5, 10, 15]\n",
    "일반반복문_시간 = []\n",
    "병렬처리_시간 = []\n",
    "\n",
    "# 각 데이터 크기별로 실행 시간 측정\n",
    "for 크기 in 데이터_크기_목록:\n",
    "    print(f\"\\n데이터 크기: {크기}\")\n",
    "    \n",
    "    # 테스트할 데이터 생성\n",
    "    테스트_데이터 = list(range(1, 크기 + 1))\n",
    "    \n",
    "    print(\"1. 일반 for 반복문으로 실행 중...\")\n",
    "    \n",
    "    # 일반 for 반복문 방식으로 실행 (시간 측정 시작)\n",
    "    시작_시간 = time.time()\n",
    "    \n",
    "    # 일반적인 방식으로 각 데이터 처리\n",
    "    일반반복문_결과 = []\n",
    "    for 항목 in 테스트_데이터:\n",
    "        일반반복문_결과.append(time_consuming_task(항목))\n",
    "    \n",
    "    # 실행 시간 계산\n",
    "    종료_시간 = time.time()\n",
    "    일반반복문_소요시간 = 종료_시간 - 시작_시간\n",
    "    \n",
    "    print(f\"일반 for 반복문 실행 시간: {일반반복문_소요시간:.2f}초\")\n",
    "    일반반복문_시간.append(일반반복문_소요시간)\n",
    "    \n",
    "    print()\n",
    "    print(\"2. pqdm으로 병렬 처리 실행 중...\")\n",
    "    \n",
    "    # pqdm을 사용한 병렬 처리 실행 (시간 측정 시작)\n",
    "    시작_시간 = time.time()\n",
    "    \n",
    "    # pqdm으로 병렬 처리 (n_jobs=4는 4개의 프로세스 사용)\n",
    "    병렬처리_결과 = pqdm(테스트_데이터, time_consuming_task, n_jobs=20)\n",
    "    \n",
    "    # 실행 시간 계산\n",
    "    종료_시간 = time.time()\n",
    "    병렬처리_소요시간 = 종료_시간 - 시작_시간\n",
    "    \n",
    "    print(f\"pqdm 병렬 처리 실행 시간: {병렬처리_소요시간:.2f}초\")\n",
    "    병렬처리_시간.append(병렬처리_소요시간)\n",
    "    \n",
    "    # 속도 향상 계산\n",
    "    속도향상 = 일반반복문_소요시간 / 병렬처리_소요시간\n",
    "    print(f\"속도 향상: {속도향상:.2f}배 빠름\")\n",
    "    print(\"--------------------------------\")\n",
    "\n",
    "\n",
    "print(\"\\n결과 비교:\")\n",
    "for i, 크기 in enumerate(데이터_크기_목록):\n",
    "    속도향상 = 일반반복문_시간[i] / 병렬처리_시간[i]\n",
    "    print(f\"데이터 크기 {크기}개: 일반 반복문({일반반복문_시간[i]:.2f}초) vs 병렬 처리({병렬처리_시간[i]:.2f}초) - {속도향상:.2f}배 빠름\")\n"
   ]
  },
  {
   "cell_type": "code",
   "execution_count": null,
   "metadata": {},
   "outputs": [],
   "source": []
  }
 ],
 "metadata": {
  "kernelspec": {
   "display_name": "Python 3 (ipykernel)",
   "language": "python",
   "name": "python3"
  },
  "language_info": {
   "codemirror_mode": {
    "name": "ipython",
    "version": 3
   },
   "file_extension": ".py",
   "mimetype": "text/x-python",
   "name": "python",
   "nbconvert_exporter": "python",
   "pygments_lexer": "ipython3",
   "version": "3.11.10"
  }
 },
 "nbformat": 4,
 "nbformat_minor": 4
}
