{
 "cells": [
  {
   "cell_type": "code",
   "execution_count": 1,
   "metadata": {},
   "outputs": [
    {
     "name": "stderr",
     "output_type": "stream",
     "text": [
      "/home/admin/.venv/lib/python3.10/site-packages/tqdm/auto.py:21: TqdmWarning: IProgress not found. Please update jupyter and ipywidgets. See https://ipywidgets.readthedocs.io/en/stable/user_install.html\n",
      "  from .autonotebook import tqdm as notebook_tqdm\n"
     ]
    },
    {
     "name": "stdout",
     "output_type": "stream",
     "text": [
      "['./data/보험 상담_final_20250315_013253.csv', './data/강의_세미나_홍보글_final_20250315_015358.csv', './data/중고나라_게시물_final_20250315_015358.csv', './data/은행 상담_final_20250315_013253.csv', './data/이벤트_안내글_final_20250315_015358.csv', './data/모임_동호회_홍보글_final_20250315_015358.csv', './data/쇼핑 고객 서비스_final_20250315_013253.csv', './data/제품_리뷰글_final_20250315_015358.csv']\n"
     ]
    },
    {
     "data": {
      "text/plain": [
       "(807, 9)"
      ]
     },
     "execution_count": 1,
     "metadata": {},
     "output_type": "execute_result"
    }
   ],
   "source": [
    "import os\n",
    "os.environ[\"CUDA_VISIBLE_DEVICES\"] = \"0\"\n",
    "\n",
    "import re\n",
    "\n",
    "import json \n",
    "import torch\n",
    "import json_repair\n",
    "import pandas as pd\n",
    "from glob import glob \n",
    "from openai import OpenAI\n",
    "from pydantic import BaseModel\n",
    "from dotenv import load_dotenv\n",
    "from pqdm.processes import pqdm\n",
    "from datasets import Dataset, load_dataset\n",
    "from trl import SFTTrainer\n",
    "from peft import AutoPeftModelForCausalLM, LoraConfig\n",
    "from transformers import (AutoTokenizer, \n",
    "                          AutoModelForCausalLM, \n",
    "                          TrainingArguments, \n",
    "                          pipeline)\n",
    "\n",
    "\n",
    "# 제작한 데이터세 불러오기 \n",
    "file_list = glob(\"./data/*.csv\")\n",
    "print(file_list)\n",
    "\n",
    "df = pd.concat([pd.read_csv(file) for file in file_list])\n",
    "df.shape"
   ]
  },
  {
   "cell_type": "code",
   "execution_count": 2,
   "metadata": {},
   "outputs": [
    {
     "data": {
      "text/html": [
       "<div>\n",
       "<style scoped>\n",
       "    .dataframe tbody tr th:only-of-type {\n",
       "        vertical-align: middle;\n",
       "    }\n",
       "\n",
       "    .dataframe tbody tr th {\n",
       "        vertical-align: top;\n",
       "    }\n",
       "\n",
       "    .dataframe thead th {\n",
       "        text-align: right;\n",
       "    }\n",
       "</style>\n",
       "<table border=\"1\" class=\"dataframe\">\n",
       "  <thead>\n",
       "    <tr style=\"text-align: right;\">\n",
       "      <th></th>\n",
       "      <th>origin_data</th>\n",
       "      <th>category</th>\n",
       "      <th>generate_score</th>\n",
       "      <th>generate_reason</th>\n",
       "      <th>anonymized_data</th>\n",
       "      <th>anonymized_prompt</th>\n",
       "      <th>validate_score</th>\n",
       "      <th>validate_reason</th>\n",
       "      <th>mapping</th>\n",
       "    </tr>\n",
       "  </thead>\n",
       "  <tbody>\n",
       "    <tr>\n",
       "      <th>0</th>\n",
       "      <td>상담사: \"안녕하세요, 김은주 고객님! 상담사 이현준입니다. 오늘 보험 상담 도와드...</td>\n",
       "      <td>보험 상담</td>\n",
       "      <td>5</td>\n",
       "      <td>데이터는 모든 평가 기준을 완벽히 만족합니다. \\n\\n1. 개인정보 포함: 이름, ...</td>\n",
       "      <td>상담사: \"안녕하세요, [PERSON1] 고객님! 상담사 [PERSON2]입니다. ...</td>\n",
       "      <td>입력 데이터에 포함된 모든 개인정보를 위 placeholder를 사용하여 비식별화 ...</td>\n",
       "      <td>5</td>\n",
       "      <td>모든 개인정보가 적절하게 비식별화되었습니다. 이름, 생년월일, 연락처, 주소, 이메...</td>\n",
       "      <td>{'김은주': '[PERSON1]', '이현준': '[PERSON2]', '1985...</td>\n",
       "    </tr>\n",
       "    <tr>\n",
       "      <th>1</th>\n",
       "      <td>상담사: \"안녕하세요, 김하나 고객님. 보험 상담을 도와드릴 김상진입니다. 생년월일...</td>\n",
       "      <td>보험 상담</td>\n",
       "      <td>5</td>\n",
       "      <td>데이터는 모든 평가 기준을 완벽히 만족하고 있습니다. \\n1. 개인정보 포함: 이름...</td>\n",
       "      <td>상담사: \"안녕하세요, [PERSON1] 고객님. 보험 상담을 도와드릴 [PERSO...</td>\n",
       "      <td>입력 데이터에 포함된 모든 개인정보를 위 placeholder를 사용하여 비식별화 ...</td>\n",
       "      <td>5</td>\n",
       "      <td>모든 개인정보가 적절하게 비식별화되었으며, 동일한 개인정보는 일관된 placehol...</td>\n",
       "      <td>{'김하나': '[PERSON1]', '김상진': '[PERSON2]', '1985...</td>\n",
       "    </tr>\n",
       "  </tbody>\n",
       "</table>\n",
       "</div>"
      ],
      "text/plain": [
       "                                         origin_data category  generate_score  \\\n",
       "0  상담사: \"안녕하세요, 김은주 고객님! 상담사 이현준입니다. 오늘 보험 상담 도와드...    보험 상담               5   \n",
       "1  상담사: \"안녕하세요, 김하나 고객님. 보험 상담을 도와드릴 김상진입니다. 생년월일...    보험 상담               5   \n",
       "\n",
       "                                     generate_reason  \\\n",
       "0  데이터는 모든 평가 기준을 완벽히 만족합니다. \\n\\n1. 개인정보 포함: 이름, ...   \n",
       "1  데이터는 모든 평가 기준을 완벽히 만족하고 있습니다. \\n1. 개인정보 포함: 이름...   \n",
       "\n",
       "                                     anonymized_data  \\\n",
       "0  상담사: \"안녕하세요, [PERSON1] 고객님! 상담사 [PERSON2]입니다. ...   \n",
       "1  상담사: \"안녕하세요, [PERSON1] 고객님. 보험 상담을 도와드릴 [PERSO...   \n",
       "\n",
       "                                   anonymized_prompt  validate_score  \\\n",
       "0  입력 데이터에 포함된 모든 개인정보를 위 placeholder를 사용하여 비식별화 ...               5   \n",
       "1  입력 데이터에 포함된 모든 개인정보를 위 placeholder를 사용하여 비식별화 ...               5   \n",
       "\n",
       "                                     validate_reason  \\\n",
       "0  모든 개인정보가 적절하게 비식별화되었습니다. 이름, 생년월일, 연락처, 주소, 이메...   \n",
       "1  모든 개인정보가 적절하게 비식별화되었으며, 동일한 개인정보는 일관된 placehol...   \n",
       "\n",
       "                                             mapping  \n",
       "0  {'김은주': '[PERSON1]', '이현준': '[PERSON2]', '1985...  \n",
       "1  {'김하나': '[PERSON1]', '김상진': '[PERSON2]', '1985...  "
      ]
     },
     "execution_count": 2,
     "metadata": {},
     "output_type": "execute_result"
    }
   ],
   "source": [
    "def extract_placeholder_mapping(original_text, transformed_text, allowed_types):\n",
    "    allowed_pattern = re.compile(r'\\[(' + '|'.join(allowed_types) + r')\\d*\\]')\n",
    "    generic_pattern = re.compile(r'(\\[[^]]+\\])')\n",
    "\n",
    "    mapping = {}\n",
    "\n",
    "    orig_lines = original_text.splitlines()\n",
    "    trans_lines = transformed_text.splitlines()\n",
    "    n_lines = min(len(orig_lines), len(trans_lines))\n",
    "\n",
    "    for idx in range(n_lines):\n",
    "        orig_line = orig_lines[idx]\n",
    "        trans_line = trans_lines[idx]\n",
    "\n",
    "        parts = re.split(generic_pattern, trans_line)\n",
    "        orig_pos = 0\n",
    "\n",
    "        for i, part in enumerate(parts):\n",
    "            if allowed_pattern.match(part):\n",
    "                # placeholder 발견\n",
    "                # 다음 literal을 찾음\n",
    "                next_literal = parts[i + 1] if i + 1 < len(parts) else ''\n",
    "                \n",
    "                # 다음 literal이 존재하면, 그 literal까지의 텍스트를 추출\n",
    "                if next_literal:\n",
    "                    next_idx = orig_line.find(next_literal, orig_pos)\n",
    "                    if next_idx != -1:\n",
    "                        replaced_text = orig_line[orig_pos:next_idx]\n",
    "                        orig_pos = next_idx\n",
    "                    else:\n",
    "                        # 다음 literal을 못 찾으면 끝까지\n",
    "                        replaced_text = orig_line[orig_pos:]\n",
    "                        orig_pos = len(orig_line)\n",
    "                else:\n",
    "                    # 다음 literal이 없으면 남은 텍스트 전체\n",
    "                    replaced_text = orig_line[orig_pos:]\n",
    "                    orig_pos = len(orig_line)\n",
    "\n",
    "                replaced_text = replaced_text.strip()\n",
    "                if replaced_text:\n",
    "                    mapping[replaced_text] = part\n",
    "\n",
    "            else:\n",
    "                # literal인 경우, 원본에서 위치 업데이트\n",
    "                found_idx = orig_line.find(part, orig_pos)\n",
    "                if found_idx != -1:\n",
    "                    orig_pos = found_idx + len(part)\n",
    "\n",
    "    return mapping\n",
    "\n",
    "df.head(2)"
   ]
  },
  {
   "cell_type": "code",
   "execution_count": 3,
   "metadata": {},
   "outputs": [
    {
     "name": "stdout",
     "output_type": "stream",
     "text": [
      "상담사: \"안녕하세요, 김미영 고객님. 보험 상담을 도와드릴 홍성철입니다. 생일이 1985년 4월 12일로 등록되어 있습니다. 맞으신가요?\"\n",
      "\n",
      "고객: \"네, 맞습니다. 요즘 보험에 대해 좀 더 알아보고 싶어서요.\"\n",
      "\n",
      "상담사: \"현재 사용 중인 연락처는 010-1234-5678이 맞으신가요? 이메일은 kimmyoung85@gmail.com으로 알고 있습니다.\"\n",
      "\n",
      "고객: \"네, 두 정보 모두 정확합니다.\"\n",
      "\n",
      "상담사: \"감사합니다. 현재 저희 보험 상품 중 보장성 보험에 관심이 있으신 걸로 알고 있습니다. 혹시 주소는 예전에 등록된 서울시 용산구 이태원로 123으로 변경된 부분이 없으신가요?\"\n",
      "\n",
      "고객: \"아, 주소는 이제 서울시 성동구 왕십리로 456으로 변경되었습니다.\"\n",
      "\n",
      "상담사: \"확인 감사합니다. 그러면 현재 보장 내용이나 보험료 등에 대해 더 자세히 설명해 드려도 될까요?\"\n",
      "\n",
      "고객: \"네, 좋습니다. 제가 현재 가입된 보험이랑 비교해서 어떤 차이가 있는지도 궁금합니다.\"\n",
      "\n",
      "상담사: \"알겠습니다. 고객님의 현재 보험 내용과 저희 상품을 비교해서 최적의 선택을 도와드릴 수 있도록 하겠습니다. 더 궁금하신 점이 있으면 언제든지 말씀해 주세요.\"\n",
      "\n",
      "고객: \"네, 감사합니다. 혹시 카카오톡 ID로도 안내를 받을 수 있을까요? 아이디는 kimmykakao입니다.\"\n",
      "\n",
      "상담사: \"물론입니다. 카카오톡으로도 정보를 보내드리겠습니다. 상담 진행 중 궁금한 점이 있으면 언제든지 메시지 주세요.\"\n",
      "\n",
      "고객: \"알겠습니다. 잘 부탁드립니다.\"\n",
      "--------------\n",
      "상담사: \"안녕하세요, [PERSON1] 고객님. 보험 상담을 도와드릴 [PERSON2]입니다. 생일이 [DATEOFBIRTH1]로 등록되어 있습니다. 맞으신가요?\"\n",
      "\n",
      "고객: \"네, 맞습니다. 요즘 보험에 대해 좀 더 알아보고 싶어서요.\"\n",
      "\n",
      "상담사: \"현재 사용 중인 연락처는 [CONTACT1]이 맞으신가요? 이메일은 [EMAIL1]으로 알고 있습니다.\"\n",
      "\n",
      "고객: \"네, 두 정보 모두 정확합니다.\"\n",
      "\n",
      "상담사: \"감사합니다. 현재 저희 보험 상품 중 보장성 보험에 관심이 있으신 걸로 알고 있습니다. 혹시 주소는 예전에 등록된 [ADDRESS1]으로 변경된 부분이 없으신가요?\"\n",
      "\n",
      "고객: \"아, 주소는 이제 [ADDRESS2]으로 변경되었습니다.\"\n",
      "\n",
      "상담사: \"확인 감사합니다. 그러면 현재 보장 내용이나 보험료 등에 대해 더 자세히 설명해 드려도 될까요?\"\n",
      "\n",
      "고객: \"네, 좋습니다. 제가 현재 가입된 보험이랑 비교해서 어떤 차이가 있는지도 궁금합니다.\"\n",
      "\n",
      "상담사: \"알겠습니다. 고객님의 현재 보험 내용과 저희 상품을 비교해서 최적의 선택을 도와드릴 수 있도록 하겠습니다. 더 궁금하신 점이 있으면 언제든지 말씀해 주세요.\"\n",
      "\n",
      "고객: \"네, 감사합니다. 혹시 카카오톡 ID로도 안내를 받을 수 있을까요? 아이디는 [KAKAO_ID1]입니다.\"\n",
      "\n",
      "상담사: \"물론입니다. 카카오톡으로도 정보를 보내드리겠습니다. 상담 진행 중 궁금한 점이 있으면 언제든지 메시지 주세요.\"\n",
      "\n",
      "고객: \"알겠습니다. 잘 부탁드립니다.\"\n"
     ]
    }
   ],
   "source": [
    "print(df[\"origin_data\"].iloc[20])\n",
    "print(\"--------------\")\n",
    "print(df[\"anonymized_data\"].iloc[20])"
   ]
  },
  {
   "cell_type": "code",
   "execution_count": 4,
   "metadata": {},
   "outputs": [
    {
     "name": "stdout",
     "output_type": "stream",
     "text": [
      "서울책사랑 동호회 안내\n",
      "\n",
      "안녕하세요, 서울책사랑 동호회입니다! 📚 저희는 책을 사랑하는 사람들이 모여 다양한 책을 읽고, 함께 이야기 나누는 모임입니다. 매달 한 권의 책을 선정하여 읽고, 이를 바탕으로 토론과 감상 나누기를 진행하고 있습니다. 책을 좋아하는 분들이라면 누구나 환영합니다!\n",
      "\n",
      "다음 모임은 10월 15일 토요일 오후 3시, 서울 종로구 북촌로 15번지에 위치한 '북촌 책방'에서 열립니다. 이번 달의 선정 도서는 '김영하의 여행의 이유'입니다. 모임 후에는 인근 카페에서 다과를 즐기며 자유롭게 이야기를 나눌 예정입니다. ☕️\n",
      "\n",
      "모임에 참여를 원하시는 분들은 이메일 seoulbooklover@gmail.com 또는 카카오톡 ID 'booklover123'로 연락 주시면 됩니다. 가입 절차는 간단하며, 첫 모임은 무료로 참여 가능합니다. 이후 정기 회원으로 가입하실 경우, 월 회비는 1만 원이며, 계좌번호는 우리은행 1002-123-456789 (예금주: 김서연)로 입금해 주시면 됩니다.\n",
      "\n",
      "문의 사항이 있으신 분들은 언제든지 연락 주세요! 새로운 책과 사람들을 만날 생각에 벌써부터 설레입니다. 많은 참여 부탁드립니다. 📖✨\n",
      "--------------\n",
      "서울책사랑 동호회 안내\n",
      "\n",
      "안녕하세요, 서울책사랑 동호회입니다! 📚 저희는 책을 사랑하는 사람들이 모여 다양한 책을 읽고, 함께 이야기 나누는 모임입니다. 매달 한 권의 책을 선정하여 읽고, 이를 바탕으로 토론과 감상 나누기를 진행하고 있습니다. 책을 좋아하는 분들이라면 누구나 환영합니다!\n",
      "\n",
      "다음 모임은 10월 15일 토요일 오후 3시, [LOCATION1]에 위치한 '[LOCATION2]'에서 열립니다. 이번 달의 선정 도서는 '[PERSON1]의 여행의 이유'입니다. 모임 후에는 인근 카페에서 다과를 즐기며 자유롭게 이야기를 나눌 예정입니다. ☕️\n",
      "\n",
      "모임에 참여를 원하시는 분들은 이메일 [EMAIL1] 또는 카카오톡 ID '[KAKAO_ID1]'로 연락 주시면 됩니다. 가입 절차는 간단하며, 첫 모임은 무료로 참여 가능합니다. 이후 정기 회원으로 가입하실 경우, 월 회비는 1만 원이며, 계좌번호는 [ACCOUNT1] (예금주: [PERSON2])로 입금해 주시면 됩니다.\n",
      "\n",
      "문의 사항이 있으신 분들은 언제든지 연락 주세요! 새로운 책과 사람들을 만날 생각에 벌써부터 설레입니다. 많은 참여 부탁드립니다. 📖✨\n"
     ]
    }
   ],
   "source": [
    "print(df[\"origin_data\"].iloc[-2])\n",
    "print(\"--------------\")\n",
    "print(df[\"anonymized_data\"].iloc[-2])"
   ]
  },
  {
   "cell_type": "code",
   "execution_count": 5,
   "metadata": {},
   "outputs": [],
   "source": [
    "df[\"mapping\"] = df[\"mapping\"].map(lambda x: str(x))"
   ]
  },
  {
   "cell_type": "code",
   "execution_count": 6,
   "metadata": {},
   "outputs": [
    {
     "name": "stderr",
     "output_type": "stream",
     "text": [
      "Map: 100%|██████████| 807/807 [00:00<00:00, 8748.00 examples/s]\n"
     ]
    }
   ],
   "source": [
    "import datasets \n",
    "\n",
    "dataset = datasets.Dataset.from_pandas(df)\n",
    "\n",
    "def get_chat_format(element):\n",
    "    system_prompt = \"너는 개인정보를 비식별화하는 Assistant야. 너는 주어진 데이터를 바탕으로 개인정보를 비식별화하는 작업을 해야해.\"\n",
    "\n",
    "    return {\n",
    "        \"messages\": [\n",
    "            {\"role\": \"system\", \"content\": system_prompt},\n",
    "            {\"role\": \"user\", \"content\": element[\"origin_data\"]},\n",
    "            {\"role\": \"assistant\", \"content\": element[\"anonymized_data\"]},\n",
    "        ], \n",
    "        \"label\": element[\"mapping\"]\n",
    "    }\n",
    "\n",
    "dataset = dataset.map(get_chat_format, remove_columns=dataset.features, batched=False)\n",
    "dataset = dataset.shuffle(seed=42)\n",
    "dataset = dataset.train_test_split(test_size=0.1, seed=42)"
   ]
  },
  {
   "cell_type": "code",
   "execution_count": 7,
   "metadata": {},
   "outputs": [
    {
     "data": {
      "text/plain": [
       "DatasetDict({\n",
       "    train: Dataset({\n",
       "        features: ['messages', 'label'],\n",
       "        num_rows: 726\n",
       "    })\n",
       "    test: Dataset({\n",
       "        features: ['messages', 'label'],\n",
       "        num_rows: 81\n",
       "    })\n",
       "})"
      ]
     },
     "execution_count": 7,
     "metadata": {},
     "output_type": "execute_result"
    }
   ],
   "source": [
    "dataset"
   ]
  },
  {
   "cell_type": "code",
   "execution_count": 8,
   "metadata": {},
   "outputs": [
    {
     "data": {
      "text/plain": [
       "{'messages': [{'content': '너는 개인정보를 비식별화하는 Assistant야. 너는 주어진 데이터를 바탕으로 개인정보를 비식별화하는 작업을 해야해.',\n",
       "   'role': 'system'},\n",
       "  {'content': '상담사: \"안녕하세요, 고객님 쇼핑몰 고객센터입니다. 무엇을 도와드릴까요?\"\\n\\n고객: \"안녕하세요, 김지영입니다. 제가 지난주에 주문한 주문번호 1234567890번 상품이 아직 도착하지 않아서요. 제 배송지 주소는 서울시 강남구 테헤란로 123입니다.\"\\n\\n상담사: \"확인해드리겠습니다, 김지영님. 잠시만 기다려 주세요. 혹시 생년월일과 등록된 연락처를 알려주실 수 있을까요?\"\\n\\n고객: \"네, 생년월일은 1990년 5월 20일이고, 등록된 연락처는 010-9876-5432입니다.\"\\n\\n상담사: \"확인 감사합니다. 조회해본 결과 해당 상품은 어제 발송된 것으로 확인됩니다. 아마도 늦어도 내일 안으로는 도착할 것으로 보입니다. 불편을 드려 죄송합니다.\"\\n\\n고객: \"아, 그렇군요. 알겠습니다. 근데 이번에 결제를 했을 때 계좌 번호가 잘못 기재된 것 같아서 확인하고 싶어요. 제 계좌번호는 123-456-789123 입니다.\"\\n\\n상담사: \"네, 확인해보니 계좌번호도 정상적으로 등록되어 있고 결제도 문제없이 완료된 것으로 나옵니다. 혹시 더 궁금한 점 있으실까요?\"\\n\\n고객: \"아니요, 그럼 물건 도착할 때까지 기다리면 되겠네요. 친절한 상담 감사합니다.\"\\n\\n상담사: \"네, 김지영님. 추가로 궁금한 사항이 생기시면 언제든지 연락 주세요. 좋은 하루 되세요!\"',\n",
       "   'role': 'user'},\n",
       "  {'content': '상담사: \"안녕하세요, 고객님 쇼핑몰 고객센터입니다. 무엇을 도와드릴까요?\"\\n\\n고객: \"안녕하세요, [PERSON1]입니다. 제가 지난주에 주문한 주문번호 1234567890번 상품이 아직 도착하지 않아서요. 제 배송지 주소는 [ADDRESS1]입니다.\"\\n\\n상담사: \"확인해드리겠습니다, [PERSON1]님. 잠시만 기다려 주세요. 혹시 생년월일과 등록된 연락처를 알려주실 수 있을까요?\"\\n\\n고객: \"네, 생년월일은 [DATEOFBIRTH1]이고, 등록된 연락처는 [CONTACT1]입니다.\"\\n\\n상담사: \"확인 감사합니다. 조회해본 결과 해당 상품은 어제 발송된 것으로 확인됩니다. 아마도 늦어도 내일 안으로는 도착할 것으로 보입니다. 불편을 드려 죄송합니다.\"\\n\\n고객: \"아, 그렇군요. 알겠습니다. 근데 이번에 결제를 했을 때 계좌 번호가 잘못 기재된 것 같아서 확인하고 싶어요. 제 계좌번호는 [ACCOUNT1]입니다.\"\\n\\n상담사: \"네, 확인해보니 계좌번호도 정상적으로 등록되어 있고 결제도 문제없이 완료된 것으로 나옵니다. 혹시 더 궁금한 점 있으실까요?\"\\n\\n고객: \"아니요, 그럼 물건 도착할 때까지 기다리면 되겠네요. 친절한 상담 감사합니다.\"\\n\\n상담사: \"네, [PERSON1]님. 추가로 궁금한 사항이 생기시면 언제든지 연락 주세요. 좋은 하루 되세요!\"',\n",
       "   'role': 'assistant'}],\n",
       " 'label': \"{'김지영': '[PERSON1]', '서울시 강남구 테헤란로 123': '[ADDRESS1]', '1990년 5월 20일': '[DATEOFBIRTH1]', '010-9876-5432': '[CONTACT1]', '123-456-789123': '[ACCOUNT1]'}\"}"
      ]
     },
     "execution_count": 8,
     "metadata": {},
     "output_type": "execute_result"
    }
   ],
   "source": [
    "dataset[\"train\"][0]"
   ]
  },
  {
   "cell_type": "code",
   "execution_count": 9,
   "metadata": {},
   "outputs": [],
   "source": [
    "lora_alpha = 32\n",
    "lora_r = 64\n",
    "learning_rate = 2e-4\n",
    "\n",
    "peft_config = LoraConfig(\n",
    "        lora_alpha=lora_alpha,\n",
    "        lora_dropout=0.05,\n",
    "        r=lora_r,\n",
    "        bias=\"none\",\n",
    "        target_modules=[\n",
    "            \"q_proj\",\n",
    "            \"up_proj\",\n",
    "            \"o_proj\",\n",
    "            \"k_proj\",\n",
    "            \"down_proj\",\n",
    "            \"gate_proj\",\n",
    "            \"v_proj\"],\n",
    "        task_type=\"CAUSAL_LM\",\n",
    ")\n",
    "\n",
    "save_dir = f\"./model/model_{learning_rate}_alpha-{lora_alpha}_r-{lora_r}\"\n",
    "\n",
    "args = TrainingArguments(\n",
    "    output_dir=f\"{save_dir}\", \n",
    "    num_train_epochs=2,          \n",
    "    per_device_train_batch_size=2,\n",
    "    gradient_accumulation_steps=4,\n",
    "    gradient_checkpointing=True,  \n",
    "    optim=\"adamw_torch_fused\",    \n",
    "    logging_steps=2,            \n",
    "    save_strategy=\"epoch\",        \n",
    "    learning_rate=learning_rate,\n",
    "    bf16=True,                    \n",
    "    tf32=True,                    \n",
    "    max_grad_norm=0.3,            \n",
    "    warmup_ratio=0.03,            \n",
    "    lr_scheduler_type=\"constant\", \n",
    "    push_to_hub=True,             \n",
    "    report_to=\"wandb\",            \n",
    ")"
   ]
  },
  {
   "cell_type": "code",
   "execution_count": 10,
   "metadata": {},
   "outputs": [
    {
     "name": "stderr",
     "output_type": "stream",
     "text": [
      "Loading checkpoint shards: 100%|██████████| 4/4 [00:06<00:00,  1.67s/it]\n"
     ]
    }
   ],
   "source": [
    "model_id = \"meta-llama/Meta-Llama-3.1-8B-Instruct\"\n",
    "model = AutoModelForCausalLM.from_pretrained(\n",
    "    model_id,\n",
    "    device_map=\"auto\",\n",
    "    torch_dtype=torch.bfloat16,\n",
    ")\n",
    "\n",
    "tokenizer = AutoTokenizer.from_pretrained(model_id)\n",
    "tokenizer.padding_side = 'right'  \n",
    "tokenizer.pad_token = tokenizer.eos_token"
   ]
  },
  {
   "cell_type": "code",
   "execution_count": 11,
   "metadata": {},
   "outputs": [
    {
     "data": {
      "image/png": "[encoded data removed]",
      "text/plain": [
       "<Figure size 640x480 with 1 Axes>"
      ]
     },
     "metadata": {},
     "output_type": "display_data"
    }
   ],
   "source": [
    "df[\"length\"] = df[\"origin_data\"].apply(len) + df[\"anonymized_data\"].apply(len)\n",
    "\n",
    "import matplotlib.pyplot as plt\n",
    "\n",
    "plt.hist(df[\"length\"], bins=30, color=\"skyblue\", edgecolor=\"black\")\n",
    "plt.title(\"Distribution of Text Length\")\n",
    "plt.xlabel(\"Text Length (characters)\")\n",
    "plt.ylabel(\"Frequency\")\n",
    "plt.show()"
   ]
  },
  {
   "cell_type": "code",
   "execution_count": 12,
   "metadata": {},
   "outputs": [
    {
     "name": "stderr",
     "output_type": "stream",
     "text": [
      "/home/admin/.venv/lib/python3.10/site-packages/huggingface_hub/utils/_deprecation.py:100: FutureWarning: Deprecated argument(s) used in '__init__': max_seq_length, packing. Will not be supported from version '1.0.0'.\n",
      "\n",
      "Deprecated positional argument(s) used in SFTTrainer, please use the SFTConfig to set these arguments instead.\n",
      "  warnings.warn(message, FutureWarning)\n",
      "/home/admin/.venv/lib/python3.10/site-packages/trl/trainer/sft_trainer.py:195: UserWarning: You passed a `packing` argument to the SFTTrainer, the value you passed will override the one in the `SFTConfig`.\n",
      "  warnings.warn(\n",
      "/home/admin/.venv/lib/python3.10/site-packages/trl/trainer/sft_trainer.py:283: UserWarning: You passed a `max_seq_length` argument to the SFTTrainer, the value you passed will override the one in the `SFTConfig`.\n",
      "  warnings.warn(\n",
      "\u001b[34m\u001b[1mwandb\u001b[0m: \u001b[33mWARNING\u001b[0m The `run_name` is currently set to the same value as `TrainingArguments.output_dir`. If this was not intended, please specify a different run name by setting the `TrainingArguments.run_name` parameter.\n",
      "\u001b[34m\u001b[1mwandb\u001b[0m: Using wandb-core as the SDK backend.  Please refer to https://wandb.me/wandb-core for more information.\n",
      "\u001b[34m\u001b[1mwandb\u001b[0m: Currently logged in as: \u001b[33mdaje0601\u001b[0m to \u001b[32mhttps://api.wandb.ai\u001b[0m. Use \u001b[1m`wandb login --relogin`\u001b[0m to force relogin\n"
     ]
    },
    {
     "data": {
      "text/html": [
       "Tracking run with wandb version 0.19.8"
      ],
      "text/plain": [
       "<IPython.core.display.HTML object>"
      ]
     },
     "metadata": {},
     "output_type": "display_data"
    },
    {
     "data": {
      "text/html": [
       "Run data is saved locally in <code>/home/admin/.cache/.work/wandb/run-20250315_063030-5elmcjak</code>"
      ],
      "text/plain": [
       "<IPython.core.display.HTML object>"
      ]
     },
     "metadata": {},
     "output_type": "display_data"
    },
    {
     "data": {
      "text/html": [
       "Syncing run <strong><a href='https://wandb.ai/daje0601/huggingface/runs/5elmcjak' target=\"_blank\">./model/model_0.0002_alpha-32_r-64</a></strong> to <a href='https://wandb.ai/daje0601/huggingface' target=\"_blank\">Weights & Biases</a> (<a href='https://wandb.me/developer-guide' target=\"_blank\">docs</a>)<br>"
      ],
      "text/plain": [
       "<IPython.core.display.HTML object>"
      ]
     },
     "metadata": {},
     "output_type": "display_data"
    },
    {
     "data": {
      "text/html": [
       " View project at <a href='https://wandb.ai/daje0601/huggingface' target=\"_blank\">https://wandb.ai/daje0601/huggingface</a>"
      ],
      "text/plain": [
       "<IPython.core.display.HTML object>"
      ]
     },
     "metadata": {},
     "output_type": "display_data"
    },
    {
     "data": {
      "text/html": [
       " View run at <a href='https://wandb.ai/daje0601/huggingface/runs/5elmcjak' target=\"_blank\">https://wandb.ai/daje0601/huggingface/runs/5elmcjak</a>"
      ],
      "text/plain": [
       "<IPython.core.display.HTML object>"
      ]
     },
     "metadata": {},
     "output_type": "display_data"
    },
    {
     "name": "stderr",
     "output_type": "stream",
     "text": [
      "`use_cache=True` is incompatible with gradient checkpointing. Setting `use_cache=False`.\n",
      "/home/admin/.venv/lib/python3.10/site-packages/torch/utils/checkpoint.py:295: FutureWarning: `torch.cpu.amp.autocast(args...)` is deprecated. Please use `torch.amp.autocast('cpu', args...)` instead.\n",
      "  with torch.enable_grad(), device_autocast_ctx, torch.cpu.amp.autocast(**ctx.cpu_autocast_kwargs):  # type: ignore[attr-defined]\n"
     ]
    },
    {
     "data": {
      "text/html": [
       "\n",
       "    <div>\n",
       "      \n",
       "      <progress value='60' max='60' style='width:300px; height:20px; vertical-align: middle;'></progress>\n",
       "      [60/60 06:53, Epoch 1/2]\n",
       "    </div>\n",
       "    <table border=\"1\" class=\"dataframe\">\n",
       "  <thead>\n",
       " <tr style=\"text-align: left;\">\n",
       "      <th>Step</th>\n",
       "      <th>Training Loss</th>\n",
       "    </tr>\n",
       "  </thead>\n",
       "  <tbody>\n",
       "    <tr>\n",
       "      <td>2</td>\n",
       "      <td>1.068700</td>\n",
       "    </tr>\n",
       "    <tr>\n",
       "      <td>4</td>\n",
       "      <td>0.915300</td>\n",
       "    </tr>\n",
       "    <tr>\n",
       "      <td>6</td>\n",
       "      <td>0.787900</td>\n",
       "    </tr>\n",
       "    <tr>\n",
       "      <td>8</td>\n",
       "      <td>0.707300</td>\n",
       "    </tr>\n",
       "    <tr>\n",
       "      <td>10</td>\n",
       "      <td>0.639600</td>\n",
       "    </tr>\n",
       "    <tr>\n",
       "      <td>12</td>\n",
       "      <td>0.624400</td>\n",
       "    </tr>\n",
       "    <tr>\n",
       "      <td>14</td>\n",
       "      <td>0.567400</td>\n",
       "    </tr>\n",
       "    <tr>\n",
       "      <td>16</td>\n",
       "      <td>0.555100</td>\n",
       "    </tr>\n",
       "    <tr>\n",
       "      <td>18</td>\n",
       "      <td>0.551700</td>\n",
       "    </tr>\n",
       "    <tr>\n",
       "      <td>20</td>\n",
       "      <td>0.546000</td>\n",
       "    </tr>\n",
       "    <tr>\n",
       "      <td>22</td>\n",
       "      <td>0.512500</td>\n",
       "    </tr>\n",
       "    <tr>\n",
       "      <td>24</td>\n",
       "      <td>0.504200</td>\n",
       "    </tr>\n",
       "    <tr>\n",
       "      <td>26</td>\n",
       "      <td>0.499300</td>\n",
       "    </tr>\n",
       "    <tr>\n",
       "      <td>28</td>\n",
       "      <td>0.513700</td>\n",
       "    </tr>\n",
       "    <tr>\n",
       "      <td>30</td>\n",
       "      <td>0.464300</td>\n",
       "    </tr>\n",
       "    <tr>\n",
       "      <td>32</td>\n",
       "      <td>0.509500</td>\n",
       "    </tr>\n",
       "    <tr>\n",
       "      <td>34</td>\n",
       "      <td>0.453400</td>\n",
       "    </tr>\n",
       "    <tr>\n",
       "      <td>36</td>\n",
       "      <td>0.446400</td>\n",
       "    </tr>\n",
       "    <tr>\n",
       "      <td>38</td>\n",
       "      <td>0.439100</td>\n",
       "    </tr>\n",
       "    <tr>\n",
       "      <td>40</td>\n",
       "      <td>0.423300</td>\n",
       "    </tr>\n",
       "    <tr>\n",
       "      <td>42</td>\n",
       "      <td>0.399200</td>\n",
       "    </tr>\n",
       "    <tr>\n",
       "      <td>44</td>\n",
       "      <td>0.430700</td>\n",
       "    </tr>\n",
       "    <tr>\n",
       "      <td>46</td>\n",
       "      <td>0.436900</td>\n",
       "    </tr>\n",
       "    <tr>\n",
       "      <td>48</td>\n",
       "      <td>0.429300</td>\n",
       "    </tr>\n",
       "    <tr>\n",
       "      <td>50</td>\n",
       "      <td>0.412800</td>\n",
       "    </tr>\n",
       "    <tr>\n",
       "      <td>52</td>\n",
       "      <td>0.413700</td>\n",
       "    </tr>\n",
       "    <tr>\n",
       "      <td>54</td>\n",
       "      <td>0.392200</td>\n",
       "    </tr>\n",
       "    <tr>\n",
       "      <td>56</td>\n",
       "      <td>0.426300</td>\n",
       "    </tr>\n",
       "    <tr>\n",
       "      <td>58</td>\n",
       "      <td>0.423400</td>\n",
       "    </tr>\n",
       "    <tr>\n",
       "      <td>60</td>\n",
       "      <td>0.394200</td>\n",
       "    </tr>\n",
       "  </tbody>\n",
       "</table><p>"
      ],
      "text/plain": [
       "<IPython.core.display.HTML object>"
      ]
     },
     "metadata": {},
     "output_type": "display_data"
    },
    {
     "name": "stderr",
     "output_type": "stream",
     "text": [
      "/home/admin/.venv/lib/python3.10/site-packages/torch/utils/checkpoint.py:295: FutureWarning: `torch.cpu.amp.autocast(args...)` is deprecated. Please use `torch.amp.autocast('cpu', args...)` instead.\n",
      "  with torch.enable_grad(), device_autocast_ctx, torch.cpu.amp.autocast(**ctx.cpu_autocast_kwargs):  # type: ignore[attr-defined]\n"
     ]
    }
   ],
   "source": [
    "trainer = SFTTrainer(\n",
    "    model=model,\n",
    "    args=args,\n",
    "    train_dataset=dataset[\"train\"],\n",
    "    max_seq_length=2400,\n",
    "    peft_config=peft_config,\n",
    "    tokenizer=tokenizer,\n",
    "    packing=True,\n",
    ")\n",
    "\n",
    "trainer.train()\n",
    "\n",
    "trainer.save_model(f\"{save_dir}\")"
   ]
  },
  {
   "cell_type": "code",
   "execution_count": 13,
   "metadata": {},
   "outputs": [],
   "source": [
    "del model\n",
    "del tokenizer\n",
    "torch.cuda.empty_cache()"
   ]
  },
  {
   "cell_type": "code",
   "execution_count": 14,
   "metadata": {},
   "outputs": [
    {
     "name": "stderr",
     "output_type": "stream",
     "text": [
      "Loading checkpoint shards: 100%|██████████| 4/4 [00:06<00:00,  1.51s/it]\n"
     ]
    }
   ],
   "source": [
    "# 학습한 모델을 경로를 지정합니다.\n",
    "peft_model_id = f\"{save_dir}\"\n",
    "\n",
    "# PEFT 어댑터를 통해 사전 학습된 모델을 로드합니다.\n",
    "fine_tuned_model = AutoPeftModelForCausalLM.from_pretrained(\n",
    "  peft_model_id,\n",
    "  device_map=\"auto\",\n",
    "  torch_dtype=torch.float16\n",
    ").to(\"cuda\")\n",
    "\n",
    "# 토크나이저 로드합니다.\n",
    "tokenizer = AutoTokenizer.from_pretrained(peft_model_id)\n",
    "tokenizer.padding_side = 'right'  \n",
    "tokenizer.pad_token = tokenizer.eos_token\n"
   ]
  },
  {
   "cell_type": "code",
   "execution_count": 15,
   "metadata": {},
   "outputs": [
    {
     "data": {
      "text/plain": [
       "Dataset({\n",
       "    features: ['messages', 'label'],\n",
       "    num_rows: 81\n",
       "})"
      ]
     },
     "execution_count": 15,
     "metadata": {},
     "output_type": "execute_result"
    }
   ],
   "source": [
    "dataset[\"test\"]"
   ]
  },
  {
   "cell_type": "code",
   "execution_count": 16,
   "metadata": {},
   "outputs": [
    {
     "name": "stderr",
     "output_type": "stream",
     "text": [
      "The model 'PeftModelForCausalLM' is not supported for text-generation. Supported models are ['BartForCausalLM', 'BertLMHeadModel', 'BertGenerationDecoder', 'BigBirdForCausalLM', 'BigBirdPegasusForCausalLM', 'BioGptForCausalLM', 'BlenderbotForCausalLM', 'BlenderbotSmallForCausalLM', 'BloomForCausalLM', 'CamembertForCausalLM', 'LlamaForCausalLM', 'CodeGenForCausalLM', 'CohereForCausalLM', 'CpmAntForCausalLM', 'CTRLLMHeadModel', 'Data2VecTextForCausalLM', 'DbrxForCausalLM', 'ElectraForCausalLM', 'ErnieForCausalLM', 'FalconForCausalLM', 'FalconMambaForCausalLM', 'FuyuForCausalLM', 'GemmaForCausalLM', 'Gemma2ForCausalLM', 'GitForCausalLM', 'GPT2LMHeadModel', 'GPT2LMHeadModel', 'GPTBigCodeForCausalLM', 'GPTNeoForCausalLM', 'GPTNeoXForCausalLM', 'GPTNeoXJapaneseForCausalLM', 'GPTJForCausalLM', 'GraniteForCausalLM', 'GraniteMoeForCausalLM', 'JambaForCausalLM', 'JetMoeForCausalLM', 'LlamaForCausalLM', 'MambaForCausalLM', 'Mamba2ForCausalLM', 'MarianForCausalLM', 'MBartForCausalLM', 'MegaForCausalLM', 'MegatronBertForCausalLM', 'MistralForCausalLM', 'MixtralForCausalLM', 'MllamaForCausalLM', 'MptForCausalLM', 'MusicgenForCausalLM', 'MusicgenMelodyForCausalLM', 'MvpForCausalLM', 'NemotronForCausalLM', 'OlmoForCausalLM', 'OlmoeForCausalLM', 'OpenLlamaForCausalLM', 'OpenAIGPTLMHeadModel', 'OPTForCausalLM', 'PegasusForCausalLM', 'PersimmonForCausalLM', 'PhiForCausalLM', 'Phi3ForCausalLM', 'PLBartForCausalLM', 'ProphetNetForCausalLM', 'QDQBertLMHeadModel', 'Qwen2ForCausalLM', 'Qwen2MoeForCausalLM', 'RecurrentGemmaForCausalLM', 'ReformerModelWithLMHead', 'RemBertForCausalLM', 'RobertaForCausalLM', 'RobertaPreLayerNormForCausalLM', 'RoCBertForCausalLM', 'RoFormerForCausalLM', 'RwkvForCausalLM', 'Speech2Text2ForCausalLM', 'StableLmForCausalLM', 'Starcoder2ForCausalLM', 'TransfoXLLMHeadModel', 'TrOCRForCausalLM', 'WhisperForCausalLM', 'XGLMForCausalLM', 'XLMWithLMHeadModel', 'XLMProphetNetForCausalLM', 'XLMRobertaForCausalLM', 'XLMRobertaXLForCausalLM', 'XLNetLMHeadModel', 'XmodForCausalLM'].\n"
     ]
    },
    {
     "name": "stdout",
     "output_type": "stream",
     "text": [
      "<|begin_of_text|><|start_header_id|>system<|end_header_id|>\n",
      "\n",
      "Cutting Knowledge Date: December 2023\n",
      "Today Date: 26 Jul 2024\n",
      "\n",
      "너는 개인정보를 비식별화하는 Assistant야. 너는 주어진 데이터를 바탕으로 개인정보를 비식별화하는 작업을 해야해.<|eot_id|><|start_header_id|>user<|end_header_id|>\n",
      "\n",
      "서울책사랑 동호회 신규 회원 모집 안내\n",
      "\n",
      "안녕하세요, 서울책사랑 동호회입니다! 📚 저희는 책을 사랑하는 사람들이 모여 다양한 책을 함께 읽고 토론하는 모임입니다. 이번에 새로운 회원을 모집하게 되어 안내드립니다.\n",
      "\n",
      "활동 내용: 매월 둘째 주 토요일에 모여 선정된 책을 읽고 자유롭게 토론합니다. 또한, 분기별로 유명 작가 초청 강연과 독서 여행도 계획하고 있습니다.\n",
      "\n",
      "모임 일시: 2023년 11월 11일 토요일 오후 3시\n",
      "\n",
      "장소: 서울특별시 종로구 북촌로 45, 3층 '북토크 카페'\n",
      "\n",
      "가입 방법: 관심 있으신 분들은 아래 연락처로 이름과 연락처를 보내주시면 됩니다. 가입비는 1회 10,000원이며, 국민은행 123-456-789012 (예금주: 김서현)로 입금 부탁드립니다.\n",
      "\n",
      "연락처: \n",
      "- 이메일: seoulbooklover@gmail.com\n",
      "- 카카오톡 ID: booklover123\n",
      "- 전화번호: 010-1234-5678 (담당자: 이민호)\n",
      "\n",
      "저희와 함께 책 읽는 즐거움을 나누고 싶으신 분들의 많은 참여 바랍니다! 🌟\n",
      "\n",
      "문의 사항이 있으시면 언제든지 연락 주세요. 감사합니다! 📖✨<|eot_id|><|start_header_id|>assistant<|end_header_id|>\n",
      "\n",
      "\n"
     ]
    }
   ],
   "source": [
    "pipe = pipeline(\"text-generation\", model=fine_tuned_model, tokenizer=tokenizer, device_map=\"auto\")\n",
    "\n",
    "prompt = pipe.tokenizer.apply_chat_template(dataset[\"test\"][-2][\"messages\"][:2], tokenize=False, add_generation_prompt=True)\n",
    "print(prompt)"
   ]
  },
  {
   "cell_type": "code",
   "execution_count": 17,
   "metadata": {},
   "outputs": [
    {
     "name": "stderr",
     "output_type": "stream",
     "text": [
      "/home/admin/.venv/lib/python3.10/site-packages/transformers/generation/configuration_utils.py:601: UserWarning: `do_sample` is set to `False`. However, `temperature` is set to `0.1` -- this flag is only used in sample-based generation modes. You should set `do_sample=True` or unset `temperature`.\n",
      "  warnings.warn(\n",
      "/home/admin/.venv/lib/python3.10/site-packages/transformers/generation/configuration_utils.py:606: UserWarning: `do_sample` is set to `False`. However, `top_p` is set to `0.1` -- this flag is only used in sample-based generation modes. You should set `do_sample=True` or unset `top_p`.\n",
      "  warnings.warn(\n",
      "/home/admin/.venv/lib/python3.10/site-packages/transformers/generation/configuration_utils.py:623: UserWarning: `do_sample` is set to `False`. However, `top_k` is set to `40` -- this flag is only used in sample-based generation modes. You should set `do_sample=True` or unset `top_k`.\n",
      "  warnings.warn(\n",
      "Starting from v4.46, the `logits` model output will have the same type as the model (except at train time, where it will always be FP32)\n"
     ]
    }
   ],
   "source": [
    "outputs = pipe(\n",
    "    prompt, \n",
    "    max_new_tokens=512, \n",
    "    do_sample=False, \n",
    "    temperature=0.1, \n",
    "    top_k=40, \n",
    "    top_p=0.1, \n",
    "    eos_token_id=pipe.tokenizer.eos_token_id, \n",
    "    pad_token_id=pipe.tokenizer.pad_token_id\n",
    ")\n"
   ]
  },
  {
   "cell_type": "code",
   "execution_count": 18,
   "metadata": {},
   "outputs": [
    {
     "name": "stdout",
     "output_type": "stream",
     "text": [
      "서울책사랑 동호회 신규 회원 모집 안내\n",
      "\n",
      "안녕하세요, 서울책사랑 동호회입니다! 📚 저희는 책을 사랑하는 사람들이 모여 다양한 책을 함께 읽고 토론하는 모임입니다. 이번에 새로운 회원을 모집하게 되어 안내드립니다.\n",
      "\n",
      "활동 내용: 매월 둘째 주 토요일에 모여 선정된 책을 읽고 자유롭게 토론합니다. 또한, 분기별로 유명 작가 초청 강연과 독서 여행도 계획하고 있습니다.\n",
      "\n",
      "모임 일시: 2023년 11월 11일 토요일 오후 3시\n",
      "\n",
      "장소: [LOCATION1], 3층 '북토크 카페'\n",
      "\n",
      "가입 방법: 관심 있으신 분들은 아래 연락처로 이름과 연락처를 보내주시면 됩니다. 가입비는 1회 10,000원이며, 국민은행 [ACCOUNT1] (예금주: [PERSON1])로 입금 부탁드립니다.\n",
      "\n",
      "연락처: \n",
      "- 이메일: [EMAIL1]\n",
      "- 카카오톡 ID: [KAKAO_ID1]\n",
      "- 전화번호: [CONTACT1] (담당자: [PERSON2])\n",
      "\n",
      "저희와 함께 책 읽는 즐거움을 나누고 싶으신 분들의 많은 참여 바랍니다! 🌟\n",
      "\n",
      "문의 사항이 있으시면 언제든지 연락 주세요. 감사합니다! 📖✨\n"
     ]
    }
   ],
   "source": [
    "output_text = outputs[0][\"generated_text\"][len(prompt):]\n",
    "print(output_text)"
   ]
  },
  {
   "cell_type": "code",
   "execution_count": 19,
   "metadata": {},
   "outputs": [
    {
     "name": "stdout",
     "output_type": "stream",
     "text": [
      "서울책사랑 동호회 신규 회원 모집 안내\n",
      "\n",
      "안녕하세요, 서울책사랑 동호회입니다! 📚 저희는 책을 사랑하는 사람들이 모여 다양한 책을 함께 읽고 토론하는 모임입니다. 이번에 새로운 회원을 모집하게 되어 안내드립니다.\n",
      "\n",
      "활동 내용: 매월 둘째 주 토요일에 모여 선정된 책을 읽고 자유롭게 토론합니다. 또한, 분기별로 유명 작가 초청 강연과 독서 여행도 계획하고 있습니다.\n",
      "\n",
      "모임 일시: 2023년 11월 11일 토요일 오후 3시\n",
      "\n",
      "장소: 서울특별시 종로구 북촌로 45, 3층 '북토크 카페'\n",
      "\n",
      "가입 방법: 관심 있으신 분들은 아래 연락처로 이름과 연락처를 보내주시면 됩니다. 가입비는 1회 10,000원이며, 국민은행 123-456-789012 (예금주: 김서현)로 입금 부탁드립니다.\n",
      "\n",
      "연락처: \n",
      "- 이메일: seoulbooklover@gmail.com\n",
      "- 카카오톡 ID: booklover123\n",
      "- 전화번호: 010-1234-5678 (담당자: 이민호)\n",
      "\n",
      "저희와 함께 책 읽는 즐거움을 나누고 싶으신 분들의 많은 참여 바랍니다! 🌟\n",
      "\n",
      "문의 사항이 있으시면 언제든지 연락 주세요. 감사합니다! 📖✨\n"
     ]
    }
   ],
   "source": [
    "input_text = dataset[\"test\"][-2][\"messages\"][1][\"content\"]\n",
    "print(input_text)"
   ]
  },
  {
   "cell_type": "code",
   "execution_count": 20,
   "metadata": {},
   "outputs": [
    {
     "name": "stdout",
     "output_type": "stream",
     "text": [
      "{'서울특별시 종로구 북촌로 45': '[LOCATION1]', '123-456-789012': '[ACCOUNT1]', '김서현': '[PERSON1]', 'seoulbooklover@gmail.com': '[EMAIL1]', '010-1234-5678': '[CONTACT1]', '이민호': '[PERSON2]'}\n"
     ]
    }
   ],
   "source": [
    "mapping_result = extract_placeholder_mapping(\n",
    "    input_text, \n",
    "    output_text, \n",
    "    allowed_types=(\n",
    "        \"PERSON\", \"CONTACT\", \"ADDRESS\", \"ACCOUNT\", \"DATEOFBIRTH\", \n",
    "        \"EMAIL\", \"LOCATION\", \"KAKO_ID\", \"TIWTTER_ID\", \"TELEGRAM_ID\"))\n",
    "\n",
    "print(mapping_result)"
   ]
  },
  {
   "cell_type": "code",
   "execution_count": 21,
   "metadata": {},
   "outputs": [
    {
     "data": {
      "text/plain": [
       "{'서울특별시 종로구 북촌로 45': '[LOCATION1]',\n",
       " '123-456-789012': '[ACCOUNT1]',\n",
       " '김서현': '[PERSON1]',\n",
       " 'seoulbooklover@gmail.com': '[EMAIL1]',\n",
       " '010-1234-5678': '[CONTACT1]',\n",
       " '이민호': '[PERSON2]'}"
      ]
     },
     "execution_count": 21,
     "metadata": {},
     "output_type": "execute_result"
    }
   ],
   "source": [
    "mapping_result"
   ]
  },
  {
   "cell_type": "code",
   "execution_count": 22,
   "metadata": {},
   "outputs": [
    {
     "data": {
      "text/plain": [
       "{'서울특별시 종로구 북촌로 45': '[LOCATION1]',\n",
       " '123-456-789012': '[ACCOUNT1]',\n",
       " '김서현': '[PERSON1]',\n",
       " 'seoulbooklover@gmail.com': '[EMAIL1]',\n",
       " '010-1234-5678': '[CONTACT1]',\n",
       " '이민호': '[PERSON2]'}"
      ]
     },
     "execution_count": 22,
     "metadata": {},
     "output_type": "execute_result"
    }
   ],
   "source": [
    "import json_repair\n",
    "json_repair.loads(dataset[\"test\"][-2][\"label\"])"
   ]
  },
  {
   "cell_type": "code",
   "execution_count": null,
   "metadata": {},
   "outputs": [],
   "source": []
  }
 ],
 "metadata": {
  "kernelspec": {
   "display_name": ".venv",
   "language": "python",
   "name": "python3"
  },
  "language_info": {
   "codemirror_mode": {
    "name": "ipython",
    "version": 3
   },
   "file_extension": ".py",
   "mimetype": "text/x-python",
   "name": "python",
   "nbconvert_exporter": "python",
   "pygments_lexer": "ipython3",
   "version": "3.10.12"
  }
 },
 "nbformat": 4,
 "nbformat_minor": 2
}
