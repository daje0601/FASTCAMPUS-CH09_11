{
 "cells": [
  {
   "cell_type": "code",
   "execution_count": 1,
   "metadata": {},
   "outputs": [
    {
     "name": "stdout",
     "output_type": "stream",
     "text": [
      "['./data/중고나라_게시물_final_20250315_015358.csv', './data/제품_리뷰글_final_20250315_015358.csv', './data/이벤트_안내글_final_20250315_015358.csv', './data/은행 상담_final_20250315_013253.csv', './data/쇼핑 고객 서비스_final_20250315_013253.csv', './data/보험 상담_final_20250315_013253.csv', './data/모임_동호회_홍보글_final_20250315_015358.csv', './data/강의_세미나_홍보글_final_20250315_015358.csv']\n"
     ]
    },
    {
     "data": {
      "text/plain": [
       "(807, 9)"
      ]
     },
     "execution_count": 1,
     "metadata": {},
     "output_type": "execute_result"
    }
   ],
   "source": [
    "import os\n",
    "os.environ[\"CUDA_VISIBLE_DEVICES\"] = \"0\"\n",
    "\n",
    "import re\n",
    "\n",
    "import json \n",
    "import torch\n",
    "import json_repair\n",
    "import pandas as pd\n",
    "from glob import glob \n",
    "from openai import OpenAI\n",
    "from pydantic import BaseModel\n",
    "from dotenv import load_dotenv\n",
    "from pqdm.processes import pqdm\n",
    "from datasets import Dataset, load_dataset\n",
    "from trl import SFTTrainer\n",
    "from peft import AutoPeftModelForCausalLM, LoraConfig\n",
    "from transformers import (AutoTokenizer, \n",
    "                          AutoModelForCausalLM, \n",
    "                          TrainingArguments, \n",
    "                          pipeline)\n",
    "\n",
    "\n",
    "# 제작한 데이터세 불러오기 \n",
    "file_list = glob(\"./data/*.csv\")\n",
    "print(file_list)\n",
    "\n",
    "df = pd.concat([pd.read_csv(file) for file in file_list])\n",
    "df.shape"
   ]
  },
  {
   "cell_type": "code",
   "execution_count": 2,
   "metadata": {},
   "outputs": [
    {
     "data": {
      "text/html": [
       "<div>\n",
       "<style scoped>\n",
       "    .dataframe tbody tr th:only-of-type {\n",
       "        vertical-align: middle;\n",
       "    }\n",
       "\n",
       "    .dataframe tbody tr th {\n",
       "        vertical-align: top;\n",
       "    }\n",
       "\n",
       "    .dataframe thead th {\n",
       "        text-align: right;\n",
       "    }\n",
       "</style>\n",
       "<table border=\"1\" class=\"dataframe\">\n",
       "  <thead>\n",
       "    <tr style=\"text-align: right;\">\n",
       "      <th></th>\n",
       "      <th>origin_data</th>\n",
       "      <th>category</th>\n",
       "      <th>generate_score</th>\n",
       "      <th>generate_reason</th>\n",
       "      <th>anonymized_data</th>\n",
       "      <th>anonymized_prompt</th>\n",
       "      <th>validate_score</th>\n",
       "      <th>validate_reason</th>\n",
       "      <th>mapping</th>\n",
       "    </tr>\n",
       "  </thead>\n",
       "  <tbody>\n",
       "    <tr>\n",
       "      <th>0</th>\n",
       "      <td>서울책사랑 동호회 안내\\n\\n안녕하세요, 책을 사랑하는 모든 분들을 위한 모임, 서...</td>\n",
       "      <td>중고나라_게시물</td>\n",
       "      <td>5</td>\n",
       "      <td>데이터는 모든 평가 기준을 완벽히 만족합니다. 1) 개인정보 포함: 사람 이름(김민...</td>\n",
       "      <td>서울책사랑 동호회 안내\\n\\n안녕하세요, 책을 사랑하는 모든 분들을 위한 모임, 서...</td>\n",
       "      <td>입력 데이터에 포함된 모든 개인정보를 위 placeholder를 사용하여 비식별화 ...</td>\n",
       "      <td>5</td>\n",
       "      <td>모든 개인정보가 적절히 비식별화되었으며, 동일한 개인정보는 일관된 placehold...</td>\n",
       "      <td>{\"서울시 종로구 인사동길 12, 북카페 '책과 커피'\": '[LOCATION1]'...</td>\n",
       "    </tr>\n",
       "    <tr>\n",
       "      <th>1</th>\n",
       "      <td>서울책사랑 동호회 안내\\n\\n안녕하세요, 서울책사랑 동호회 회원 모집 안내드립니다....</td>\n",
       "      <td>중고나라_게시물</td>\n",
       "      <td>5</td>\n",
       "      <td>데이터는 모든 평가 기준을 완벽히 만족하고 있습니다. \\n\\n1. 개인정보 포함: ...</td>\n",
       "      <td>서울책사랑 동호회 안내\\n\\n안녕하세요, 서울책사랑 동호회 회원 모집 안내드립니다....</td>\n",
       "      <td>입력 데이터에 포함된 모든 개인정보를 위 placeholder를 사용하여 비식별화 ...</td>\n",
       "      <td>5</td>\n",
       "      <td>1. 모든 개인정보가 비식별화되었는가?\\n   - 이름, 생년월일, 연락처, 주소,...</td>\n",
       "      <td>{'서울': '[LOCATION1]', '종로구 북촌로 123': '[ADDRESS...</td>\n",
       "    </tr>\n",
       "  </tbody>\n",
       "</table>\n",
       "</div>"
      ],
      "text/plain": [
       "                                         origin_data  category  \\\n",
       "0  서울책사랑 동호회 안내\\n\\n안녕하세요, 책을 사랑하는 모든 분들을 위한 모임, 서...  중고나라_게시물   \n",
       "1  서울책사랑 동호회 안내\\n\\n안녕하세요, 서울책사랑 동호회 회원 모집 안내드립니다....  중고나라_게시물   \n",
       "\n",
       "   generate_score                                    generate_reason  \\\n",
       "0               5  데이터는 모든 평가 기준을 완벽히 만족합니다. 1) 개인정보 포함: 사람 이름(김민...   \n",
       "1               5  데이터는 모든 평가 기준을 완벽히 만족하고 있습니다. \\n\\n1. 개인정보 포함: ...   \n",
       "\n",
       "                                     anonymized_data  \\\n",
       "0  서울책사랑 동호회 안내\\n\\n안녕하세요, 책을 사랑하는 모든 분들을 위한 모임, 서...   \n",
       "1  서울책사랑 동호회 안내\\n\\n안녕하세요, 서울책사랑 동호회 회원 모집 안내드립니다....   \n",
       "\n",
       "                                   anonymized_prompt  validate_score  \\\n",
       "0  입력 데이터에 포함된 모든 개인정보를 위 placeholder를 사용하여 비식별화 ...               5   \n",
       "1  입력 데이터에 포함된 모든 개인정보를 위 placeholder를 사용하여 비식별화 ...               5   \n",
       "\n",
       "                                     validate_reason  \\\n",
       "0  모든 개인정보가 적절히 비식별화되었으며, 동일한 개인정보는 일관된 placehold...   \n",
       "1  1. 모든 개인정보가 비식별화되었는가?\\n   - 이름, 생년월일, 연락처, 주소,...   \n",
       "\n",
       "                                             mapping  \n",
       "0  {\"서울시 종로구 인사동길 12, 북카페 '책과 커피'\": '[LOCATION1]'...  \n",
       "1  {'서울': '[LOCATION1]', '종로구 북촌로 123': '[ADDRESS...  "
      ]
     },
     "execution_count": 2,
     "metadata": {},
     "output_type": "execute_result"
    }
   ],
   "source": [
    "def extract_placeholder_mapping(original_text, transformed_text, allowed_types):\n",
    "    allowed_pattern = re.compile(r'\\[(' + '|'.join(allowed_types) + r')\\d*\\]')\n",
    "    generic_pattern = re.compile(r'(\\[[^]]+\\])')\n",
    "\n",
    "    mapping = {}\n",
    "\n",
    "    orig_lines = original_text.splitlines()\n",
    "    trans_lines = transformed_text.splitlines()\n",
    "    n_lines = min(len(orig_lines), len(trans_lines))\n",
    "\n",
    "    for idx in range(n_lines):\n",
    "        orig_line = orig_lines[idx]\n",
    "        trans_line = trans_lines[idx]\n",
    "\n",
    "        parts = re.split(generic_pattern, trans_line)\n",
    "        orig_pos = 0\n",
    "\n",
    "        for i, part in enumerate(parts):\n",
    "            if allowed_pattern.match(part):\n",
    "                # placeholder 발견\n",
    "                # 다음 literal을 찾음\n",
    "                next_literal = parts[i + 1] if i + 1 < len(parts) else ''\n",
    "                \n",
    "                # 다음 literal이 존재하면, 그 literal까지의 텍스트를 추출\n",
    "                if next_literal:\n",
    "                    next_idx = orig_line.find(next_literal, orig_pos)\n",
    "                    if next_idx != -1:\n",
    "                        replaced_text = orig_line[orig_pos:next_idx]\n",
    "                        orig_pos = next_idx\n",
    "                    else:\n",
    "                        # 다음 literal을 못 찾으면 끝까지\n",
    "                        replaced_text = orig_line[orig_pos:]\n",
    "                        orig_pos = len(orig_line)\n",
    "                else:\n",
    "                    # 다음 literal이 없으면 남은 텍스트 전체\n",
    "                    replaced_text = orig_line[orig_pos:]\n",
    "                    orig_pos = len(orig_line)\n",
    "\n",
    "                replaced_text = replaced_text.strip()\n",
    "                if replaced_text:\n",
    "                    mapping[replaced_text] = part\n",
    "\n",
    "            else:\n",
    "                # literal인 경우, 원본에서 위치 업데이트\n",
    "                found_idx = orig_line.find(part, orig_pos)\n",
    "                if found_idx != -1:\n",
    "                    orig_pos = found_idx + len(part)\n",
    "\n",
    "    return mapping\n",
    "\n",
    "df.head(2)"
   ]
  },
  {
   "cell_type": "code",
   "execution_count": 3,
   "metadata": {},
   "outputs": [
    {
     "name": "stdout",
     "output_type": "stream",
     "text": [
      "서울책사랑 동호회 안내\n",
      "\n",
      "안녕하세요, 책을 사랑하는 모든 분들을 위한 모임, 서울책사랑 동호회입니다! 📚 저희는 매달 다양한 주제의 책을 읽고 토론하며, 책을 통해 세상을 더 깊이 이해하고자 하는 사람들의 모임입니다. 이번 달 모임은 \"기후위기와 우리의 미래\"라는 주제로 진행됩니다. \n",
      "\n",
      "- 모임 일시: 2023년 11월 15일 (수) 오후 7시\n",
      "- 장소: 서울시 중구 명동길 23, 2층 카페 북앤토크\n",
      "- 가입 방법: 아래 연락처로 간단한 자기소개와 함께 신청해주세요.\n",
      "- 연락처: 김민수 (이메일: booklover123@gmail.com, 전화번호: 010-1234-5678)\n",
      "- 카카오톡 ID: booklover_kr\n",
      "\n",
      "참가비는 무료이며, 음료는 각자 부담입니다. 모임 후에는 근처 맛집에서 뒷풀이도 예정되어 있으니 많은 참여 부탁드립니다. 😊\n",
      "\n",
      "서울책사랑 동호회는 책을 통해 서로의 생각을 나누고, 다양한 관점을 배울 수 있는 소중한 시간을 제공합니다. 이번 모임 주제는 최근 유럽의회의 기후 정책과 관련된 책을 중심으로 진행될 예정입니다. 책을 통해 기후위기에 대한 이해를 넓히고, 우리의 역할에 대해 함께 고민해보는 시간이 되었으면 합니다. \n",
      "\n",
      "많은 관심과 참여 부탁드리며, 궁금한 점이 있으면 언제든지 연락주세요! 📖🌍\n",
      "--------------\n",
      "서울책사랑 동호회 안내\n",
      "\n",
      "안녕하세요, 책을 사랑하는 모든 분들을 위한 모임, 서울책사랑 동호회입니다! 📚 저희는 매달 다양한 주제의 책을 읽고 토론하며, 책을 통해 세상을 더 깊이 이해하고자 하는 사람들의 모임입니다. 이번 달 모임은 \"기후위기와 우리의 미래\"라는 주제로 진행됩니다. \n",
      "\n",
      "- 모임 일시: 2023년 11월 15일 (수) 오후 7시\n",
      "- 장소: [LOCATION1], 2층 카페 북앤토크\n",
      "- 가입 방법: 아래 연락처로 간단한 자기소개와 함께 신청해주세요.\n",
      "- 연락처: [PERSON1] (이메일: [EMAIL1], 전화번호: [CONTACT1])\n",
      "- 카카오톡 ID: [KAKAO_ID1]\n",
      "\n",
      "참가비는 무료이며, 음료는 각자 부담입니다. 모임 후에는 근처 맛집에서 뒷풀이도 예정되어 있으니 많은 참여 부탁드립니다. 😊\n",
      "\n",
      "서울책사랑 동호회는 책을 통해 서로의 생각을 나누고, 다양한 관점을 배울 수 있는 소중한 시간을 제공합니다. 이번 모임 주제는 최근 유럽의회의 기후 정책과 관련된 책을 중심으로 진행될 예정입니다. 책을 통해 기후위기에 대한 이해를 넓히고, 우리의 역할에 대해 함께 고민해보는 시간이 되었으면 합니다. \n",
      "\n",
      "많은 관심과 참여 부탁드리며, 궁금한 점이 있으면 언제든지 연락주세요! 📖🌍\n"
     ]
    }
   ],
   "source": [
    "print(df[\"origin_data\"].iloc[20])\n",
    "print(\"--------------\")\n",
    "print(df[\"anonymized_data\"].iloc[20])"
   ]
  },
  {
   "cell_type": "code",
   "execution_count": 4,
   "metadata": {},
   "outputs": [
    {
     "name": "stdout",
     "output_type": "stream",
     "text": [
      "서울책사랑 동호회 신입 회원 모집 안내 📚\n",
      "\n",
      "안녕하세요, 책을 사랑하는 여러분! 서울책사랑 동호회에서 신입 회원을 모집합니다. 저희 모임은 매월 첫째 주 토요일 오후 3시에 서울 마포구 홍익로 123, 3층에서 진행됩니다. 다양한 주제의 책을 함께 읽고 토론하며, 가끔은 저자와의 만남도 주선하고 있습니다. 책을 좋아하고, 새로운 사람들과의 만남을 즐기시는 분이라면 누구나 환영합니다.\n",
      "\n",
      "가입 방법은 간단합니다. 아래 연락처로 성함과 연락처를 보내주시면 됩니다. 이메일로도 문의 가능하니 편한 방법으로 연락 주세요.  \n",
      "- 이메일: seoulbooklove@gmail.com  \n",
      "- 전화번호: 010-1234-5678  \n",
      "- 카카오톡 ID: booklover123\n",
      "\n",
      "회비는 월 1만 원이며, 계좌번호는 국민은행 123-4567-8901 (예금주: 김책사)로 입금해 주시면 됩니다. 회비는 모임 장소 대여 및 간단한 다과 제공에 사용됩니다.\n",
      "\n",
      "책과 함께하는 즐거운 시간을 기대하며, 많은 참여 부탁드립니다! 궁금한 점이 있으시면 언제든지 연락 주세요. 감사합니다. 😊📖\n",
      "--------------\n",
      "서울책사랑 동호회 신입 회원 모집 안내 📚\n",
      "\n",
      "안녕하세요, 책을 사랑하는 여러분! 서울책사랑 동호회에서 신입 회원을 모집합니다. 저희 모임은 매월 첫째 주 토요일 오후 3시에 [LOCATION1]에서 진행됩니다. 다양한 주제의 책을 함께 읽고 토론하며, 가끔은 저자와의 만남도 주선하고 있습니다. 책을 좋아하고, 새로운 사람들과의 만남을 즐기시는 분이라면 누구나 환영합니다.\n",
      "\n",
      "가입 방법은 간단합니다. 아래 연락처로 성함과 연락처를 보내주시면 됩니다. 이메일로도 문의 가능하니 편한 방법으로 연락 주세요.  \n",
      "- 이메일: [EMAIL1]  \n",
      "- 전화번호: [CONTACT1]  \n",
      "- 카카오톡 ID: [KAKAO_ID1]\n",
      "\n",
      "회비는 월 1만 원이며, 계좌번호는 [ACCOUNT1] (예금주: [PERSON1])로 입금해 주시면 됩니다. 회비는 모임 장소 대여 및 간단한 다과 제공에 사용됩니다.\n",
      "\n",
      "책과 함께하는 즐거운 시간을 기대하며, 많은 참여 부탁드립니다! 궁금한 점이 있으시면 언제든지 연락 주세요. 감사합니다. 😊📖\n"
     ]
    }
   ],
   "source": [
    "print(df[\"origin_data\"].iloc[-2])\n",
    "print(\"--------------\")\n",
    "print(df[\"anonymized_data\"].iloc[-2])"
   ]
  },
  {
   "cell_type": "code",
   "execution_count": 5,
   "metadata": {},
   "outputs": [],
   "source": [
    "df[\"mapping\"] = df[\"mapping\"].map(lambda x: str(x))"
   ]
  },
  {
   "cell_type": "code",
   "execution_count": 6,
   "metadata": {},
   "outputs": [
    {
     "data": {
      "application/vnd.jupyter.widget-view+json": {
       "model_id": "25c589fd96b2490d803b6cdc98b24615",
       "version_major": 2,
       "version_minor": 0
      },
      "text/plain": [
       "Map:   0%|          | 0/807 [00:00<?, ? examples/s]"
      ]
     },
     "metadata": {},
     "output_type": "display_data"
    }
   ],
   "source": [
    "import datasets \n",
    "\n",
    "dataset = datasets.Dataset.from_pandas(df)\n",
    "\n",
    "def get_chat_format(element):\n",
    "    system_prompt = \"너는 개인정보를 비식별화하는 Assistant야. 너는 주어진 데이터를 바탕으로 개인정보를 비식별화하는 작업을 해야해.\"\n",
    "\n",
    "    return {\n",
    "        \"messages\": [\n",
    "            {\"role\": \"system\", \"content\": system_prompt},\n",
    "            {\"role\": \"user\", \"content\": element[\"origin_data\"]},\n",
    "            {\"role\": \"assistant\", \"content\": element[\"anonymized_data\"]},\n",
    "        ], \n",
    "        \"label\": element[\"mapping\"]\n",
    "    }\n",
    "\n",
    "dataset = dataset.map(get_chat_format, remove_columns=dataset.features, batched=False)\n",
    "dataset = dataset.shuffle(seed=42)\n",
    "dataset = dataset.train_test_split(test_size=0.1, seed=42)"
   ]
  },
  {
   "cell_type": "code",
   "execution_count": 7,
   "metadata": {},
   "outputs": [
    {
     "data": {
      "text/plain": [
       "DatasetDict({\n",
       "    train: Dataset({\n",
       "        features: ['messages', 'label'],\n",
       "        num_rows: 726\n",
       "    })\n",
       "    test: Dataset({\n",
       "        features: ['messages', 'label'],\n",
       "        num_rows: 81\n",
       "    })\n",
       "})"
      ]
     },
     "execution_count": 7,
     "metadata": {},
     "output_type": "execute_result"
    }
   ],
   "source": [
    "dataset"
   ]
  },
  {
   "cell_type": "code",
   "execution_count": 8,
   "metadata": {},
   "outputs": [
    {
     "data": {
      "text/plain": [
       "{'messages': [{'content': '너는 개인정보를 비식별화하는 Assistant야. 너는 주어진 데이터를 바탕으로 개인정보를 비식별화하는 작업을 해야해.',\n",
       "   'role': 'system'},\n",
       "  {'content': '상담사: \"안녕하세요, 이지현 고객님. 대한 보험사의 김민수 상담사입니다. 오늘 보험 관련 상담 도와드리겠습니다. 생년월일은 1988년 5월 15일 맞으신가요?\"\\n\\n고객: \"네, 맞습니다. 지난번에 상담받았던 적이 있어서 제 정보는 이미 등록되어 있을 것 같네요. 이메일 주소는 아직도 jhlee88@gmail.com으로 되어 있죠?\"\\n\\n상담사: \"네, 확인했습니다. 이메일 주소도 정확히 등록되어 있습니다. 현재 서울 강남구 테헤란로 123에 거주하고 계신 것으로 나오는데, 맞으신가요?\"\\n\\n고객: \"맞습니다. 이번에 자동차 보험 갱신하려고 하는데, 혹시 제 계좌번호 변경은 어떻게 해야 하나요?\"\\n\\n상담사: \"고객님 계좌번호는 이곳에 등록된 대로 끝번호가 1234-5678인 국민은행 계좌로 되어 있습니다. 변경하시려면 제가 바로 접수해드릴 수 있습니다. 새로운 계좌번호 알려주시면 됩니다.\"\\n\\n고객: \"아, 새로 개설한 계좌가 있어요. 987-6543-2100 하나은행인데, 이걸로 변경 부탁드려요.\"\\n\\n상담사: \"네, 변경해 드리겠습니다. 신규 계좌로 모든 보험료가 자동 이체될 예정입니다. 자동차 보험 갱신 관련해 추가로 궁금하신 사항이 있을까요?\"\\n\\n고객: \"네, 갱신 시 보험료가 얼마나 되는지 알고 싶어요.\"\\n\\n상담사: \"네, 현재 고객님 차량 모델과 지난 보험료 기록에 따라 예상되는 보험료는 약 75만 원 정도입니다. 다음 주 금요일인 10월 15일에 갱신될 예정입니다.\"\\n\\n고객: \"알겠습니다. 변경사항 없이 그대로 갱신 진행해 주세요.\"\\n\\n상담사: \"네, 접수했습니다. 갱신 관련 확인 이메일 보내드리겠습니다. 추가로 필요한 사항 있으시면 언제든 010-1234-5678로 연락 주세요.\"\\n\\n고객: \"네, 감사합니다. 수고하세요.\"\\n\\n상담사: \"네, 좋은 하루 되세요, 이지현 고객님.\"',\n",
       "   'role': 'user'},\n",
       "  {'content': '상담사: \"안녕하세요, [PERSON1] 고객님. 대한 보험사의 [PERSON2] 상담사입니다. 오늘 보험 관련 상담 도와드리겠습니다. 생년월일은 [DATEOFBIRTH1] 맞으신가요?\"\\n\\n고객: \"네, 맞습니다. 지난번에 상담받았던 적이 있어서 제 정보는 이미 등록되어 있을 것 같네요. 이메일 주소는 아직도 [EMAIL1]으로 되어 있죠?\"\\n\\n상담사: \"네, 확인했습니다. 이메일 주소도 정확히 등록되어 있습니다. 현재 [ADDRESS1]에 거주하고 계신 것으로 나오는데, 맞으신가요?\"\\n\\n고객: \"맞습니다. 이번에 자동차 보험 갱신하려고 하는데, 혹시 제 계좌번호 변경은 어떻게 해야 하나요?\"\\n\\n상담사: \"고객님 계좌번호는 이곳에 등록된 대로 끝번호가 [ACCOUNT1]인 국민은행 계좌로 되어 있습니다. 변경하시려면 제가 바로 접수해드릴 수 있습니다. 새로운 계좌번호 알려주시면 됩니다.\"\\n\\n고객: \"아, 새로 개설한 계좌가 있어요. [ACCOUNT2] 하나은행인데, 이걸로 변경 부탁드려요.\"\\n\\n상담사: \"네, 변경해 드리겠습니다. 신규 계좌로 모든 보험료가 자동 이체될 예정입니다. 자동차 보험 갱신 관련해 추가로 궁금하신 사항이 있을까요?\"\\n\\n고객: \"네, 갱신 시 보험료가 얼마나 되는지 알고 싶어요.\"\\n\\n상담사: \"네, 현재 고객님 차량 모델과 지난 보험료 기록에 따라 예상되는 보험료는 약 75만 원 정도입니다. 다음 주 금요일인 10월 15일에 갱신될 예정입니다.\"\\n\\n고객: \"알겠습니다. 변경사항 없이 그대로 갱신 진행해 주세요.\"\\n\\n상담사: \"네, 접수했습니다. 갱신 관련 확인 이메일 보내드리겠습니다. 추가로 필요한 사항 있으시면 언제든 [CONTACT1]로 연락 주세요.\"\\n\\n고객: \"네, 감사합니다. 수고하세요.\"\\n\\n상담사: \"네, 좋은 하루 되세요, [PERSON1] 고객님.\"',\n",
       "   'role': 'assistant'}],\n",
       " 'label': \"{'이지현': '[PERSON1]', '김민수': '[PERSON2]', '1988년 5월 15일': '[DATEOFBIRTH1]', 'jhlee88@gmail.com': '[EMAIL1]', '서울 강남구 테헤란로 123': '[ADDRESS1]', '1234-5678': '[ACCOUNT1]', '987-6543-2100': '[ACCOUNT2]', '010-1234-5678': '[CONTACT1]'}\"}"
      ]
     },
     "execution_count": 8,
     "metadata": {},
     "output_type": "execute_result"
    }
   ],
   "source": [
    "dataset[\"train\"][0]"
   ]
  },
  {
   "cell_type": "code",
   "execution_count": 9,
   "metadata": {},
   "outputs": [],
   "source": [
    "lora_alpha = 32\n",
    "lora_r = 64\n",
    "learning_rate = 2e-4\n",
    "\n",
    "peft_config = LoraConfig(\n",
    "        lora_alpha=lora_alpha,\n",
    "        lora_dropout=0.05,\n",
    "        r=lora_r,\n",
    "        bias=\"none\",\n",
    "        target_modules=[\n",
    "            \"q_proj\",\n",
    "            \"up_proj\",\n",
    "            \"o_proj\",\n",
    "            \"k_proj\",\n",
    "            \"down_proj\",\n",
    "            \"gate_proj\",\n",
    "            \"v_proj\"],\n",
    "        task_type=\"CAUSAL_LM\",\n",
    ")\n",
    "\n",
    "save_dir = f\"./model/model_{learning_rate}_alpha-{lora_alpha}_r-{lora_r}\"\n",
    "\n",
    "args = TrainingArguments(\n",
    "    output_dir=f\"{save_dir}\", \n",
    "    num_train_epochs=2,          \n",
    "    per_device_train_batch_size=2,\n",
    "    gradient_accumulation_steps=4,\n",
    "    gradient_checkpointing=True,  \n",
    "    optim=\"adamw_torch_fused\",    \n",
    "    logging_steps=2,            \n",
    "    save_strategy=\"epoch\",        \n",
    "    learning_rate=learning_rate,\n",
    "    bf16=True,                    \n",
    "    tf32=True,                    \n",
    "    max_grad_norm=0.3,            \n",
    "    warmup_ratio=0.03,            \n",
    "    lr_scheduler_type=\"constant\", \n",
    "    push_to_hub=True,             \n",
    "    report_to=\"wandb\",            \n",
    ")"
   ]
  },
  {
   "cell_type": "code",
   "execution_count": 10,
   "metadata": {},
   "outputs": [
    {
     "data": {
      "application/vnd.jupyter.widget-view+json": {
       "model_id": "72d914d5051b4f6d80e60ce2199c77a8",
       "version_major": 2,
       "version_minor": 0
      },
      "text/plain": [
       "Loading checkpoint shards:   0%|          | 0/4 [00:00<?, ?it/s]"
      ]
     },
     "metadata": {},
     "output_type": "display_data"
    }
   ],
   "source": [
    "model_id = \"meta-llama/Meta-Llama-3.1-8B-Instruct\"\n",
    "model = AutoModelForCausalLM.from_pretrained(\n",
    "    model_id,\n",
    "    device_map=\"auto\",\n",
    "    torch_dtype=torch.bfloat16,\n",
    ")\n",
    "\n",
    "tokenizer = AutoTokenizer.from_pretrained(model_id)\n",
    "tokenizer.padding_side = 'right'  \n",
    "tokenizer.pad_token = tokenizer.eos_token"
   ]
  },
  {
   "cell_type": "code",
   "execution_count": 11,
   "metadata": {},
   "outputs": [
    {
     "data": {
      "image/png": "[encoded data removed]",
      "text/plain": [
       "<Figure size 640x480 with 1 Axes>"
      ]
     },
     "metadata": {},
     "output_type": "display_data"
    }
   ],
   "source": [
    "df[\"length\"] = df[\"origin_data\"].apply(len) + df[\"anonymized_data\"].apply(len)\n",
    "\n",
    "import matplotlib.pyplot as plt\n",
    "\n",
    "plt.hist(df[\"length\"], bins=30, color=\"skyblue\", edgecolor=\"black\")\n",
    "plt.title(\"Distribution of Text Length\")\n",
    "plt.xlabel(\"Text Length (characters)\")\n",
    "plt.ylabel(\"Frequency\")\n",
    "plt.show()"
   ]
  },
  {
   "cell_type": "code",
   "execution_count": 12,
   "metadata": {},
   "outputs": [
    {
     "name": "stderr",
     "output_type": "stream",
     "text": [
      "/usr/local/lib/python3.11/dist-packages/huggingface_hub/utils/_deprecation.py:100: FutureWarning: Deprecated argument(s) used in '__init__': max_seq_length, packing. Will not be supported from version '1.0.0'.\n",
      "\n",
      "Deprecated positional argument(s) used in SFTTrainer, please use the SFTConfig to set these arguments instead.\n",
      "  warnings.warn(message, FutureWarning)\n",
      "/usr/local/lib/python3.11/dist-packages/trl/trainer/sft_trainer.py:195: UserWarning: You passed a `packing` argument to the SFTTrainer, the value you passed will override the one in the `SFTConfig`.\n",
      "  warnings.warn(\n",
      "/usr/local/lib/python3.11/dist-packages/trl/trainer/sft_trainer.py:283: UserWarning: You passed a `max_seq_length` argument to the SFTTrainer, the value you passed will override the one in the `SFTConfig`.\n",
      "  warnings.warn(\n",
      "\u001b[34m\u001b[1mwandb\u001b[0m: \u001b[33mWARNING\u001b[0m The `run_name` is currently set to the same value as `TrainingArguments.output_dir`. If this was not intended, please specify a different run name by setting the `TrainingArguments.run_name` parameter.\n",
      "\u001b[34m\u001b[1mwandb\u001b[0m: Using wandb-core as the SDK backend.  Please refer to https://wandb.me/wandb-core for more information.\n",
      "\u001b[34m\u001b[1mwandb\u001b[0m: Currently logged in as: \u001b[33mdaje0601\u001b[0m to \u001b[32mhttps://api.wandb.ai\u001b[0m. Use \u001b[1m`wandb login --relogin`\u001b[0m to force relogin\n"
     ]
    },
    {
     "data": {
      "text/html": [
       "Tracking run with wandb version 0.19.8"
      ],
      "text/plain": [
       "<IPython.core.display.HTML object>"
      ]
     },
     "metadata": {},
     "output_type": "display_data"
    },
    {
     "data": {
      "text/html": [
       "Run data is saved locally in <code>/workspace/FASTCAMPUS-CH09_11/chapter10-De_identification/wandb/run-20250322_153624-aqscpvpq</code>"
      ],
      "text/plain": [
       "<IPython.core.display.HTML object>"
      ]
     },
     "metadata": {},
     "output_type": "display_data"
    },
    {
     "data": {
      "text/html": [
       "Syncing run <strong><a href='https://wandb.ai/daje0601/huggingface/runs/aqscpvpq' target=\"_blank\">./model/model_0.0002_alpha-32_r-64</a></strong> to <a href='https://wandb.ai/daje0601/huggingface' target=\"_blank\">Weights & Biases</a> (<a href='https://wandb.me/developer-guide' target=\"_blank\">docs</a>)<br>"
      ],
      "text/plain": [
       "<IPython.core.display.HTML object>"
      ]
     },
     "metadata": {},
     "output_type": "display_data"
    },
    {
     "data": {
      "text/html": [
       " View project at <a href='https://wandb.ai/daje0601/huggingface' target=\"_blank\">https://wandb.ai/daje0601/huggingface</a>"
      ],
      "text/plain": [
       "<IPython.core.display.HTML object>"
      ]
     },
     "metadata": {},
     "output_type": "display_data"
    },
    {
     "data": {
      "text/html": [
       " View run at <a href='https://wandb.ai/daje0601/huggingface/runs/aqscpvpq' target=\"_blank\">https://wandb.ai/daje0601/huggingface/runs/aqscpvpq</a>"
      ],
      "text/plain": [
       "<IPython.core.display.HTML object>"
      ]
     },
     "metadata": {},
     "output_type": "display_data"
    },
    {
     "name": "stderr",
     "output_type": "stream",
     "text": [
      "`use_cache=True` is incompatible with gradient checkpointing. Setting `use_cache=False`.\n",
      "/usr/local/lib/python3.11/dist-packages/torch/utils/checkpoint.py:295: FutureWarning: `torch.cpu.amp.autocast(args...)` is deprecated. Please use `torch.amp.autocast('cpu', args...)` instead.\n",
      "  with torch.enable_grad(), device_autocast_ctx, torch.cpu.amp.autocast(**ctx.cpu_autocast_kwargs):  # type: ignore[attr-defined]\n"
     ]
    },
    {
     "data": {
      "text/html": [
       "\n",
       "    <div>\n",
       "      \n",
       "      <progress value='60' max='60' style='width:300px; height:20px; vertical-align: middle;'></progress>\n",
       "      [60/60 14:37, Epoch 1/2]\n",
       "    </div>\n",
       "    <table border=\"1\" class=\"dataframe\">\n",
       "  <thead>\n",
       " <tr style=\"text-align: left;\">\n",
       "      <th>Step</th>\n",
       "      <th>Training Loss</th>\n",
       "    </tr>\n",
       "  </thead>\n",
       "  <tbody>\n",
       "    <tr>\n",
       "      <td>2</td>\n",
       "      <td>1.058500</td>\n",
       "    </tr>\n",
       "    <tr>\n",
       "      <td>4</td>\n",
       "      <td>0.952100</td>\n",
       "    </tr>\n",
       "    <tr>\n",
       "      <td>6</td>\n",
       "      <td>0.790200</td>\n",
       "    </tr>\n",
       "    <tr>\n",
       "      <td>8</td>\n",
       "      <td>0.714100</td>\n",
       "    </tr>\n",
       "    <tr>\n",
       "      <td>10</td>\n",
       "      <td>0.650000</td>\n",
       "    </tr>\n",
       "    <tr>\n",
       "      <td>12</td>\n",
       "      <td>0.604400</td>\n",
       "    </tr>\n",
       "    <tr>\n",
       "      <td>14</td>\n",
       "      <td>0.603500</td>\n",
       "    </tr>\n",
       "    <tr>\n",
       "      <td>16</td>\n",
       "      <td>0.602700</td>\n",
       "    </tr>\n",
       "    <tr>\n",
       "      <td>18</td>\n",
       "      <td>0.564800</td>\n",
       "    </tr>\n",
       "    <tr>\n",
       "      <td>20</td>\n",
       "      <td>0.540000</td>\n",
       "    </tr>\n",
       "    <tr>\n",
       "      <td>22</td>\n",
       "      <td>0.528500</td>\n",
       "    </tr>\n",
       "    <tr>\n",
       "      <td>24</td>\n",
       "      <td>0.531000</td>\n",
       "    </tr>\n",
       "    <tr>\n",
       "      <td>26</td>\n",
       "      <td>0.536100</td>\n",
       "    </tr>\n",
       "    <tr>\n",
       "      <td>28</td>\n",
       "      <td>0.506500</td>\n",
       "    </tr>\n",
       "    <tr>\n",
       "      <td>30</td>\n",
       "      <td>0.491600</td>\n",
       "    </tr>\n",
       "    <tr>\n",
       "      <td>32</td>\n",
       "      <td>0.443300</td>\n",
       "    </tr>\n",
       "    <tr>\n",
       "      <td>34</td>\n",
       "      <td>0.465000</td>\n",
       "    </tr>\n",
       "    <tr>\n",
       "      <td>36</td>\n",
       "      <td>0.432900</td>\n",
       "    </tr>\n",
       "    <tr>\n",
       "      <td>38</td>\n",
       "      <td>0.452100</td>\n",
       "    </tr>\n",
       "    <tr>\n",
       "      <td>40</td>\n",
       "      <td>0.432500</td>\n",
       "    </tr>\n",
       "    <tr>\n",
       "      <td>42</td>\n",
       "      <td>0.455000</td>\n",
       "    </tr>\n",
       "    <tr>\n",
       "      <td>44</td>\n",
       "      <td>0.437000</td>\n",
       "    </tr>\n",
       "    <tr>\n",
       "      <td>46</td>\n",
       "      <td>0.420300</td>\n",
       "    </tr>\n",
       "    <tr>\n",
       "      <td>48</td>\n",
       "      <td>0.443300</td>\n",
       "    </tr>\n",
       "    <tr>\n",
       "      <td>50</td>\n",
       "      <td>0.406500</td>\n",
       "    </tr>\n",
       "    <tr>\n",
       "      <td>52</td>\n",
       "      <td>0.433000</td>\n",
       "    </tr>\n",
       "    <tr>\n",
       "      <td>54</td>\n",
       "      <td>0.417200</td>\n",
       "    </tr>\n",
       "    <tr>\n",
       "      <td>56</td>\n",
       "      <td>0.432700</td>\n",
       "    </tr>\n",
       "    <tr>\n",
       "      <td>58</td>\n",
       "      <td>0.432900</td>\n",
       "    </tr>\n",
       "    <tr>\n",
       "      <td>60</td>\n",
       "      <td>0.412200</td>\n",
       "    </tr>\n",
       "  </tbody>\n",
       "</table><p>"
      ],
      "text/plain": [
       "<IPython.core.display.HTML object>"
      ]
     },
     "metadata": {},
     "output_type": "display_data"
    },
    {
     "name": "stderr",
     "output_type": "stream",
     "text": [
      "/usr/local/lib/python3.11/dist-packages/torch/utils/checkpoint.py:295: FutureWarning: `torch.cpu.amp.autocast(args...)` is deprecated. Please use `torch.amp.autocast('cpu', args...)` instead.\n",
      "  with torch.enable_grad(), device_autocast_ctx, torch.cpu.amp.autocast(**ctx.cpu_autocast_kwargs):  # type: ignore[attr-defined]\n"
     ]
    }
   ],
   "source": [
    "trainer = SFTTrainer(\n",
    "    model=model,\n",
    "    args=args,\n",
    "    train_dataset=dataset[\"train\"],\n",
    "    max_seq_length=2400,\n",
    "    peft_config=peft_config,\n",
    "    tokenizer=tokenizer,\n",
    "    packing=True,\n",
    ")\n",
    "\n",
    "trainer.train()\n",
    "\n",
    "trainer.save_model(f\"{save_dir}\")"
   ]
  },
  {
   "cell_type": "code",
   "execution_count": 13,
   "metadata": {},
   "outputs": [],
   "source": [
    "del model\n",
    "del tokenizer\n",
    "torch.cuda.empty_cache()"
   ]
  },
  {
   "cell_type": "code",
   "execution_count": 14,
   "metadata": {},
   "outputs": [
    {
     "data": {
      "application/vnd.jupyter.widget-view+json": {
       "model_id": "805ad11fb3424b24aaef720dfb423ff3",
       "version_major": 2,
       "version_minor": 0
      },
      "text/plain": [
       "Loading checkpoint shards:   0%|          | 0/4 [00:00<?, ?it/s]"
      ]
     },
     "metadata": {},
     "output_type": "display_data"
    }
   ],
   "source": [
    "# 학습한 모델을 경로를 지정합니다.\n",
    "peft_model_id = f\"{save_dir}\"\n",
    "\n",
    "# PEFT 어댑터를 통해 사전 학습된 모델을 로드합니다.\n",
    "fine_tuned_model = AutoPeftModelForCausalLM.from_pretrained(\n",
    "  peft_model_id,\n",
    "  device_map=\"auto\",\n",
    "  torch_dtype=torch.float16\n",
    ").to(\"cuda\")\n",
    "\n",
    "# 토크나이저 로드합니다.\n",
    "tokenizer = AutoTokenizer.from_pretrained(peft_model_id)\n",
    "tokenizer.padding_side = 'right'  \n",
    "tokenizer.pad_token = tokenizer.eos_token\n"
   ]
  },
  {
   "cell_type": "code",
   "execution_count": 15,
   "metadata": {},
   "outputs": [
    {
     "data": {
      "text/plain": [
       "Dataset({\n",
       "    features: ['messages', 'label'],\n",
       "    num_rows: 81\n",
       "})"
      ]
     },
     "execution_count": 15,
     "metadata": {},
     "output_type": "execute_result"
    }
   ],
   "source": [
    "dataset[\"test\"]"
   ]
  },
  {
   "cell_type": "code",
   "execution_count": 16,
   "metadata": {},
   "outputs": [
    {
     "name": "stderr",
     "output_type": "stream",
     "text": [
      "The model 'PeftModelForCausalLM' is not supported for text-generation. Supported models are ['BartForCausalLM', 'BertLMHeadModel', 'BertGenerationDecoder', 'BigBirdForCausalLM', 'BigBirdPegasusForCausalLM', 'BioGptForCausalLM', 'BlenderbotForCausalLM', 'BlenderbotSmallForCausalLM', 'BloomForCausalLM', 'CamembertForCausalLM', 'LlamaForCausalLM', 'CodeGenForCausalLM', 'CohereForCausalLM', 'CpmAntForCausalLM', 'CTRLLMHeadModel', 'Data2VecTextForCausalLM', 'DbrxForCausalLM', 'ElectraForCausalLM', 'ErnieForCausalLM', 'FalconForCausalLM', 'FalconMambaForCausalLM', 'FuyuForCausalLM', 'GemmaForCausalLM', 'Gemma2ForCausalLM', 'GitForCausalLM', 'GPT2LMHeadModel', 'GPT2LMHeadModel', 'GPTBigCodeForCausalLM', 'GPTNeoForCausalLM', 'GPTNeoXForCausalLM', 'GPTNeoXJapaneseForCausalLM', 'GPTJForCausalLM', 'GraniteForCausalLM', 'GraniteMoeForCausalLM', 'JambaForCausalLM', 'JetMoeForCausalLM', 'LlamaForCausalLM', 'MambaForCausalLM', 'Mamba2ForCausalLM', 'MarianForCausalLM', 'MBartForCausalLM', 'MegaForCausalLM', 'MegatronBertForCausalLM', 'MistralForCausalLM', 'MixtralForCausalLM', 'MllamaForCausalLM', 'MptForCausalLM', 'MusicgenForCausalLM', 'MusicgenMelodyForCausalLM', 'MvpForCausalLM', 'NemotronForCausalLM', 'OlmoForCausalLM', 'OlmoeForCausalLM', 'OpenLlamaForCausalLM', 'OpenAIGPTLMHeadModel', 'OPTForCausalLM', 'PegasusForCausalLM', 'PersimmonForCausalLM', 'PhiForCausalLM', 'Phi3ForCausalLM', 'PLBartForCausalLM', 'ProphetNetForCausalLM', 'QDQBertLMHeadModel', 'Qwen2ForCausalLM', 'Qwen2MoeForCausalLM', 'RecurrentGemmaForCausalLM', 'ReformerModelWithLMHead', 'RemBertForCausalLM', 'RobertaForCausalLM', 'RobertaPreLayerNormForCausalLM', 'RoCBertForCausalLM', 'RoFormerForCausalLM', 'RwkvForCausalLM', 'Speech2Text2ForCausalLM', 'StableLmForCausalLM', 'Starcoder2ForCausalLM', 'TransfoXLLMHeadModel', 'TrOCRForCausalLM', 'WhisperForCausalLM', 'XGLMForCausalLM', 'XLMWithLMHeadModel', 'XLMProphetNetForCausalLM', 'XLMRobertaForCausalLM', 'XLMRobertaXLForCausalLM', 'XLNetLMHeadModel', 'XmodForCausalLM'].\n"
     ]
    },
    {
     "name": "stdout",
     "output_type": "stream",
     "text": [
      "<|begin_of_text|><|start_header_id|>system<|end_header_id|>\n",
      "\n",
      "Cutting Knowledge Date: December 2023\n",
      "Today Date: 26 Jul 2024\n",
      "\n",
      "너는 개인정보를 비식별화하는 Assistant야. 너는 주어진 데이터를 바탕으로 개인정보를 비식별화하는 작업을 해야해.<|eot_id|><|start_header_id|>user<|end_header_id|>\n",
      "\n",
      "상담사: \"안녕하세요, 고객님. 쇼핑 고객 서비스입니다. 무엇을 도와드릴까요?\"\n",
      "\n",
      "고객: \"안녕하세요. 제가 며칠 전에 주문한 제품이 아직 도착하지 않아서요. 제 이름은 김민준이고, 생년월일은 1985년 5월 20일이에요.\"\n",
      "\n",
      "상담사: \"확인해드리겠습니다, 김민준님. 등록된 연락처가 010-1234-5678이 맞으신가요?\"\n",
      "\n",
      "고객: \"네, 맞아요. 주문한 제품이 언제쯤 도착할까요?\"\n",
      "\n",
      "상담사: \"주문 내역을 확인해보니, 상품이 어제 배송센터에서 출발한 것으로 나옵니다. 아마 내일 정도에 서울시 강남구 테헤란로 123, 301호로 배송될 것 같습니다.\"\n",
      "\n",
      "고객: \"알겠습니다. 혹시나 문제가 생기면 다시 연락드릴게요. 이메일은 minjun.kim@example.com입니다.\"\n",
      "\n",
      "상담사: \"네, 김민준 고객님. 혹시 다른 문의사항 있으신가요?\"\n",
      "\n",
      "고객: \"아니요, 지금은 괜찮습니다. 친절히 답변해주셔서 감사합니다.\"\n",
      "\n",
      "상담사: \"언제든지 문의주세요. 좋은 하루 보내세요!\"<|eot_id|><|start_header_id|>assistant<|end_header_id|>\n",
      "\n",
      "\n"
     ]
    }
   ],
   "source": [
    "pipe = pipeline(\"text-generation\", model=fine_tuned_model, tokenizer=tokenizer, device_map=\"auto\")\n",
    "\n",
    "prompt = pipe.tokenizer.apply_chat_template(dataset[\"test\"][-2][\"messages\"][:2], tokenize=False, add_generation_prompt=True)\n",
    "print(prompt)"
   ]
  },
  {
   "cell_type": "code",
   "execution_count": 17,
   "metadata": {},
   "outputs": [
    {
     "name": "stderr",
     "output_type": "stream",
     "text": [
      "/usr/local/lib/python3.11/dist-packages/transformers/generation/configuration_utils.py:601: UserWarning: `do_sample` is set to `False`. However, `temperature` is set to `0.1` -- this flag is only used in sample-based generation modes. You should set `do_sample=True` or unset `temperature`.\n",
      "  warnings.warn(\n",
      "/usr/local/lib/python3.11/dist-packages/transformers/generation/configuration_utils.py:606: UserWarning: `do_sample` is set to `False`. However, `top_p` is set to `0.1` -- this flag is only used in sample-based generation modes. You should set `do_sample=True` or unset `top_p`.\n",
      "  warnings.warn(\n",
      "/usr/local/lib/python3.11/dist-packages/transformers/generation/configuration_utils.py:623: UserWarning: `do_sample` is set to `False`. However, `top_k` is set to `40` -- this flag is only used in sample-based generation modes. You should set `do_sample=True` or unset `top_k`.\n",
      "  warnings.warn(\n",
      "Starting from v4.46, the `logits` model output will have the same type as the model (except at train time, where it will always be FP32)\n"
     ]
    }
   ],
   "source": [
    "outputs = pipe(\n",
    "    prompt, \n",
    "    max_new_tokens=512, \n",
    "    do_sample=False, \n",
    "    temperature=0.1, \n",
    "    top_k=40, \n",
    "    top_p=0.1, \n",
    "    eos_token_id=pipe.tokenizer.eos_token_id, \n",
    "    pad_token_id=pipe.tokenizer.pad_token_id\n",
    ")\n"
   ]
  },
  {
   "cell_type": "code",
   "execution_count": 18,
   "metadata": {},
   "outputs": [
    {
     "name": "stdout",
     "output_type": "stream",
     "text": [
      "상담사: \"안녕하세요, 고객님. 쇼핑 고객 서비스입니다. 무엇을 도와드릴까요?\"\n",
      "\n",
      "고객: \"안녕하세요. 제가 며칠 전에 주문한 제품이 아직 도착하지 않아서요. 제 이름은 [PERSON1]이고, 생년월일은 [DATEOFBIRTH1]이에요.\"\n",
      "\n",
      "상담사: \"확인해드리겠습니다, [PERSON1]님. 등록된 연락처가 [CONTACT1]이 맞으신가요?\"\n",
      "\n",
      "고객: \"네, 맞아요. 주문한 제품이 언제쯤 도착할까요?\"\n",
      "\n",
      "상담사: \"주문 내역을 확인해보니, 상품이 어제 배송센터에서 출발한 것으로 나옵니다. 아마 내일 정도에 [ADDRESS1]로 배송될 것 같습니다.\"\n",
      "\n",
      "고객: \"알겠습니다. 혹시나 문제가 생기면 다시 연락드릴게요. 이메일은 [EMAIL1]입니다.\"\n",
      "\n",
      "상담사: \"네, [PERSON1] 고객님. 혹시 다른 문의사항 있으신가요?\"\n",
      "\n",
      "고객: \"아니요, 지금은 괜찮습니다. 친절히 답변해주셔서 감사합니다.\"\n",
      "\n",
      "상담사: \"언제든지 문의주세요. 좋은 하루 보내세요!\"\n"
     ]
    }
   ],
   "source": [
    "output_text = outputs[0][\"generated_text\"][len(prompt):]\n",
    "print(output_text)"
   ]
  },
  {
   "cell_type": "code",
   "execution_count": 19,
   "metadata": {},
   "outputs": [
    {
     "name": "stdout",
     "output_type": "stream",
     "text": [
      "상담사: \"안녕하세요, 고객님. 쇼핑 고객 서비스입니다. 무엇을 도와드릴까요?\"\n",
      "\n",
      "고객: \"안녕하세요. 제가 며칠 전에 주문한 제품이 아직 도착하지 않아서요. 제 이름은 김민준이고, 생년월일은 1985년 5월 20일이에요.\"\n",
      "\n",
      "상담사: \"확인해드리겠습니다, 김민준님. 등록된 연락처가 010-1234-5678이 맞으신가요?\"\n",
      "\n",
      "고객: \"네, 맞아요. 주문한 제품이 언제쯤 도착할까요?\"\n",
      "\n",
      "상담사: \"주문 내역을 확인해보니, 상품이 어제 배송센터에서 출발한 것으로 나옵니다. 아마 내일 정도에 서울시 강남구 테헤란로 123, 301호로 배송될 것 같습니다.\"\n",
      "\n",
      "고객: \"알겠습니다. 혹시나 문제가 생기면 다시 연락드릴게요. 이메일은 minjun.kim@example.com입니다.\"\n",
      "\n",
      "상담사: \"네, 김민준 고객님. 혹시 다른 문의사항 있으신가요?\"\n",
      "\n",
      "고객: \"아니요, 지금은 괜찮습니다. 친절히 답변해주셔서 감사합니다.\"\n",
      "\n",
      "상담사: \"언제든지 문의주세요. 좋은 하루 보내세요!\"\n"
     ]
    }
   ],
   "source": [
    "input_text = dataset[\"test\"][-2][\"messages\"][1][\"content\"]\n",
    "print(input_text)"
   ]
  },
  {
   "cell_type": "code",
   "execution_count": 20,
   "metadata": {},
   "outputs": [
    {
     "name": "stdout",
     "output_type": "stream",
     "text": [
      "{'김민준': '[PERSON1]', '1985년 5월 20일': '[DATEOFBIRTH1]', '010-1234-5678': '[CONTACT1]', '서울시 강남구 테헤란로 123, 301호': '[ADDRESS1]', 'minjun.kim@example.com': '[EMAIL1]'}\n"
     ]
    }
   ],
   "source": [
    "mapping_result = extract_placeholder_mapping(\n",
    "    input_text, \n",
    "    output_text, \n",
    "    allowed_types=(\n",
    "        \"PERSON\", \"CONTACT\", \"ADDRESS\", \"ACCOUNT\", \"DATEOFBIRTH\", \n",
    "        \"EMAIL\", \"LOCATION\", \"KAKO_ID\", \"TIWTTER_ID\", \"TELEGRAM_ID\"))\n",
    "\n",
    "print(mapping_result)"
   ]
  },
  {
   "cell_type": "code",
   "execution_count": 21,
   "metadata": {},
   "outputs": [
    {
     "data": {
      "text/plain": [
       "{'김민준': '[PERSON1]',\n",
       " '1985년 5월 20일': '[DATEOFBIRTH1]',\n",
       " '010-1234-5678': '[CONTACT1]',\n",
       " '서울시 강남구 테헤란로 123, 301호': '[ADDRESS1]',\n",
       " 'minjun.kim@example.com': '[EMAIL1]'}"
      ]
     },
     "execution_count": 21,
     "metadata": {},
     "output_type": "execute_result"
    }
   ],
   "source": [
    "mapping_result"
   ]
  },
  {
   "cell_type": "code",
   "execution_count": 22,
   "metadata": {},
   "outputs": [
    {
     "data": {
      "text/plain": [
       "{'김민준': '[PERSON1]',\n",
       " '1985년 5월 20일': '[DATEOFBIRTH1]',\n",
       " '010-1234-5678': '[CONTACT1]',\n",
       " '서울시 강남구 테헤란로 123, 301호': '[ADDRESS1]',\n",
       " 'minjun.kim@example.com': '[EMAIL1]'}"
      ]
     },
     "execution_count": 22,
     "metadata": {},
     "output_type": "execute_result"
    }
   ],
   "source": [
    "import json_repair\n",
    "json_repair.loads(dataset[\"test\"][-2][\"label\"])"
   ]
  },
  {
   "cell_type": "code",
   "execution_count": null,
   "metadata": {},
   "outputs": [],
   "source": []
  }
 ],
 "metadata": {
  "kernelspec": {
   "display_name": "Python 3 (ipykernel)",
   "language": "python",
   "name": "python3"
  },
  "language_info": {
   "codemirror_mode": {
    "name": "ipython",
    "version": 3
   },
   "file_extension": ".py",
   "mimetype": "text/x-python",
   "name": "python",
   "nbconvert_exporter": "python",
   "pygments_lexer": "ipython3",
   "version": "3.11.10"
  }
 },
 "nbformat": 4,
 "nbformat_minor": 4
}
