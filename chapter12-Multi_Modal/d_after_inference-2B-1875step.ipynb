{
 "cells": [
  {
   "cell_type": "code",
   "execution_count": 1,
   "metadata": {},
   "outputs": [],
   "source": [
    "import os \n",
    "import json\n",
    "from dotenv import load_dotenv\n",
    "\n",
    "# API 암호화를 위해 dotenv를 활용 \n",
    "load_dotenv()\n",
    "huggingface_token = os.environ.get(\"HUGGINGFACE_TOKEN\")\n",
    "ckp_number = 1875 "
   ]
  },
  {
   "cell_type": "markdown",
   "metadata": {},
   "source": [
    "# 데이터 불러오기 "
   ]
  },
  {
   "cell_type": "code",
   "execution_count": 2,
   "metadata": {},
   "outputs": [],
   "source": [
    "# 시스템 프롬프트 설정 \n",
    "system_message = \"당신은 이미지와 제품명(name)으로부터 패션/스타일 정보를 추론하는 분류 모델입니다.\"\n",
    "\n",
    "# 실제로 사용자 입력 -> 모델이 답해야 하는 프롬프트\n",
    "prompt = \"\"\"입력 정보:\n",
    "- name: {name}\n",
    "- image: [image]\n",
    "\n",
    "위 정보를 바탕으로, 아래 7가지 key에 대한 값을 JSON 형태로 추론해 주세요:\n",
    "1) gender\n",
    "2) masterCategory\n",
    "3) subCategory\n",
    "4) season\n",
    "5) usage\n",
    "6) baseColour\n",
    "7) articleType\n",
    "\n",
    "출력 시 **아래 JSON 예시 형태**를 반드시 지키세요:\n",
    "{{\n",
    "  \"gender\": \"예시값\",\n",
    "  \"masterCategory\": \"예시값\",\n",
    "  \"subCategory\": \"예시값\",\n",
    "  \"season\": \"예시값\",\n",
    "  \"usage\": \"예시값\",\n",
    "  \"baseColour\": \"예시값\",\n",
    "  \"articleType\": \"예시값\"\n",
    "}}\n",
    "\n",
    "# 예시\n",
    "{{\n",
    "  \"gender\": \"Men\",\n",
    "  \"masterCategory\": \"Accessories\",\n",
    "  \"subCategory\": \"Eyewear\",\n",
    "  \"season\": \"Winter\",\n",
    "  \"usage\": \"Casual\",\n",
    "  \"baseColour\": \"Blue\",\n",
    "  \"articleType\": \"Sunglasses\"\n",
    "}}\n",
    "\n",
    "# 주의\n",
    "- 7개 항목 이외의 정보(텍스트, 문장 등)는 절대 포함하지 마세요.\n",
    "\"\"\""
   ]
  },
  {
   "cell_type": "code",
   "execution_count": 3,
   "metadata": {},
   "outputs": [
    {
     "name": "stderr",
     "output_type": "stream",
     "text": [
      "/root/anaconda3/envs/image_train/lib/python3.11/site-packages/tqdm/auto.py:21: TqdmWarning: IProgress not found. Please update jupyter and ipywidgets. See https://ipywidgets.readthedocs.io/en/stable/user_install.html\n",
      "  from .autonotebook import tqdm as notebook_tqdm\n"
     ]
    }
   ],
   "source": [
    "from datasets import load_dataset\n",
    "\n",
    "# label을 생성하기 위한 함수 \n",
    "def combine_cols_to_label(example):\n",
    "    label_dict = {\n",
    "        \"gender\": example[\"gender\"],\n",
    "        \"masterCategory\": example[\"masterCategory\"],\n",
    "        \"subCategory\": example[\"subCategory\"],\n",
    "        \"season\": example[\"season\"],\n",
    "        \"usage\": example[\"usage\"],\n",
    "        \"baseColour\": example[\"baseColour\"],\n",
    "        \"articleType\": example[\"articleType\"],\n",
    "    }\n",
    "    example[\"label\"] = json.dumps(label_dict, ensure_ascii=False)\n",
    "    return example\n",
    "\n",
    "# 대화용 포맷으로 변환하는 함수 \n",
    "def format_data(sample):\n",
    "    return {\n",
    "        \"messages\": [\n",
    "            {\n",
    "                \"role\": \"system\",\n",
    "                \"content\": [\n",
    "                    {\n",
    "                        \"type\": \"text\",\n",
    "                        \"text\": system_message\n",
    "                    }\n",
    "                ],\n",
    "            },\n",
    "            {\n",
    "                \"role\": \"user\",\n",
    "                \"content\": [\n",
    "                    {\n",
    "                        \"type\": \"text\",\n",
    "                        # 제품명 \n",
    "                        \"text\": prompt.format(name=sample[\"productDisplayName\"]),\n",
    "                    },\n",
    "                    {\n",
    "                        \"type\": \"image\",\n",
    "                        # 이미지 파일 \n",
    "                        \"image\": sample[\"file_path\"],  \n",
    "                    }\n",
    "                ],\n",
    "            },\n",
    "            {\n",
    "                \"role\": \"assistant\",\n",
    "                \"content\": [\n",
    "                    {\n",
    "                        \"type\": \"text\",\n",
    "                        # combine_cols_to_label에서 만든 JSON 문자열\n",
    "                        \"text\": sample[\"label\"],\n",
    "                    }\n",
    "                ],\n",
    "            },\n",
    "        ],\n",
    "    }\n",
    "\n",
    "# 전처리한 데이터셋 불러오기 \n",
    "dataset = load_dataset(\"daje/kaggle-image-datasets\", split=\"train\")\n",
    "dataset_add_label = dataset.map(combine_cols_to_label)\n",
    "dataset_add_label = dataset_add_label.shuffle(seed=4242)"
   ]
  },
  {
   "cell_type": "code",
   "execution_count": 4,
   "metadata": {},
   "outputs": [
    {
     "data": {
      "text/plain": [
       "{'file_path': <PIL.PngImagePlugin.PngImageFile image mode=RGB size=60x80>,\n",
       " 'id': 14014,\n",
       " 'gender': 'Men',\n",
       " 'masterCategory': 'Apparel',\n",
       " 'subCategory': 'Topwear',\n",
       " 'articleType': 'Tshirts',\n",
       " 'baseColour': 'White',\n",
       " 'season': 'Summer',\n",
       " 'year': '2012',\n",
       " 'usage': 'Sports',\n",
       " 'productDisplayName': 'Nike Men Solid Off-White Polo Jerseys',\n",
       " 'label': '{\"gender\": \"Men\", \"masterCategory\": \"Apparel\", \"subCategory\": \"Topwear\", \"season\": \"Summer\", \"usage\": \"Sports\", \"baseColour\": \"White\", \"articleType\": \"Tshirts\"}'}"
      ]
     },
     "execution_count": 4,
     "metadata": {},
     "output_type": "execute_result"
    }
   ],
   "source": [
    "# 라벨을 추가한 데이터의 예시 \n",
    "dataset_add_label[0]"
   ]
  },
  {
   "cell_type": "code",
   "execution_count": 5,
   "metadata": {},
   "outputs": [],
   "source": [
    "# 메세지 포맷으로 데이터셋 변환 \n",
    "formatted_dataset = [format_data(row) for row in dataset_add_label]"
   ]
  },
  {
   "cell_type": "code",
   "execution_count": 6,
   "metadata": {},
   "outputs": [
    {
     "data": {
      "text/plain": [
       "{'messages': [{'role': 'system',\n",
       "   'content': [{'type': 'text',\n",
       "     'text': '당신은 이미지와 제품명(name)으로부터 패션/스타일 정보를 추론하는 분류 모델입니다.'}]},\n",
       "  {'role': 'user',\n",
       "   'content': [{'type': 'text',\n",
       "     'text': '입력 정보:\\n- name: Nike Men Solid Off-White Polo Jerseys\\n- image: [image]\\n\\n위 정보를 바탕으로, 아래 7가지 key에 대한 값을 JSON 형태로 추론해 주세요:\\n1) gender\\n2) masterCategory\\n3) subCategory\\n4) season\\n5) usage\\n6) baseColour\\n7) articleType\\n\\n출력 시 **아래 JSON 예시 형태**를 반드시 지키세요:\\n{\\n  \"gender\": \"예시값\",\\n  \"masterCategory\": \"예시값\",\\n  \"subCategory\": \"예시값\",\\n  \"season\": \"예시값\",\\n  \"usage\": \"예시값\",\\n  \"baseColour\": \"예시값\",\\n  \"articleType\": \"예시값\"\\n}\\n\\n# 예시\\n{\\n  \"gender\": \"Men\",\\n  \"masterCategory\": \"Accessories\",\\n  \"subCategory\": \"Eyewear\",\\n  \"season\": \"Winter\",\\n  \"usage\": \"Casual\",\\n  \"baseColour\": \"Blue\",\\n  \"articleType\": \"Sunglasses\"\\n}\\n\\n# 주의\\n- 7개 항목 이외의 정보(텍스트, 문장 등)는 절대 포함하지 마세요.\\n'},\n",
       "    {'type': 'image',\n",
       "     'image': <PIL.PngImagePlugin.PngImageFile image mode=RGB size=60x80>}]},\n",
       "  {'role': 'assistant',\n",
       "   'content': [{'type': 'text',\n",
       "     'text': '{\"gender\": \"Men\", \"masterCategory\": \"Apparel\", \"subCategory\": \"Topwear\", \"season\": \"Summer\", \"usage\": \"Sports\", \"baseColour\": \"White\", \"articleType\": \"Tshirts\"}'}]}]}"
      ]
     },
     "execution_count": 6,
     "metadata": {},
     "output_type": "execute_result"
    }
   ],
   "source": [
    "# 메세지 포맷으로 변환 데이터 예시 \n",
    "formatted_dataset[0]"
   ]
  },
  {
   "cell_type": "code",
   "execution_count": 7,
   "metadata": {},
   "outputs": [],
   "source": [
    "from sklearn.model_selection import train_test_split\n",
    "\n",
    "# test_size=0.1로 설정하여 전체 데이터의 10%를 테스트 세트로 분리\n",
    "train_dataset, test_dataset = train_test_split(formatted_dataset, \n",
    "                                             test_size=0.1, \n",
    "                                             random_state=42)"
   ]
  },
  {
   "cell_type": "code",
   "execution_count": 8,
   "metadata": {},
   "outputs": [
    {
     "data": {
      "text/plain": [
       "(39996, 4445)"
      ]
     },
     "execution_count": 8,
     "metadata": {},
     "output_type": "execute_result"
    }
   ],
   "source": [
    "# train_dataset, test_dataset 데이터 수 확인 \n",
    "len(train_dataset), len(test_dataset)"
   ]
  },
  {
   "cell_type": "code",
   "execution_count": 9,
   "metadata": {},
   "outputs": [],
   "source": [
    "import torch\n",
    "from tqdm.auto import tqdm\n",
    "from torch.utils.data import DataLoader\n",
    "from qwen_vl_utils import process_vision_info\n",
    "\n",
    "#############################################\n",
    "# \"배치 추론\"용 함수\n",
    "#############################################\n",
    "def generate_batch_description(batch_messages, model, processor):\n",
    "    # 배치 전체의 text / images / videos를 한번에 준비\n",
    "    texts = []\n",
    "    all_image_inputs = []\n",
    "    all_video_inputs = []\n",
    "\n",
    "    # (A) 각 샘플마다 QWen-VL용 텍스트 생성 + 이미지/비디오 추출\n",
    "    for messages in batch_messages:\n",
    "        # 1) QWen-VL 텍스트 템플릿 생성\n",
    "        text_prompt = processor.apply_chat_template(\n",
    "            messages, \n",
    "            tokenize=False, \n",
    "            add_generation_prompt=True\n",
    "        )\n",
    "        texts.append(text_prompt)\n",
    "\n",
    "        # 2) 이미지/비디오 추출\n",
    "        image_inputs, video_inputs = process_vision_info(messages)\n",
    "\n",
    "        # 비디오가 없는 경우가 대부분이면, video_inputs를 무조건 None으로 처리해도 됨.\n",
    "        all_image_inputs.append(image_inputs[0] if image_inputs else None)\n",
    "        all_video_inputs.append(video_inputs[0] if video_inputs else None)\n",
    "\n",
    "    # (B) 비디오가 전혀 없으면 videos=None으로 넘기도록 처리\n",
    "    if any(x is not None for x in all_video_inputs):\n",
    "        videos_to_pass = all_video_inputs\n",
    "    else:\n",
    "        videos_to_pass = None  \n",
    "\n",
    "    # (C) processor로 배치 전체 인코딩\n",
    "    inputs = processor(\n",
    "        text=texts,\n",
    "        images=all_image_inputs if any(x is not None for x in all_image_inputs) else None,\n",
    "        videos=videos_to_pass,\n",
    "        return_tensors=\"pt\",\n",
    "        padding=True\n",
    "    )\n",
    "    inputs = inputs.to(model.device)\n",
    "\n",
    "    # (D) 모델 추론\n",
    "    with torch.no_grad():\n",
    "        generated_ids = model.generate(\n",
    "            **inputs,\n",
    "            max_new_tokens=128,\n",
    "            top_p=1.0,\n",
    "            do_sample=True,\n",
    "            temperature=0.1\n",
    "        )\n",
    "\n",
    "    # (E) 디코딩\n",
    "    batch_outputs = []\n",
    "    for i, out_ids in enumerate(generated_ids):\n",
    "        prompt_len = len(inputs.input_ids[i])\n",
    "        trimmed_out_ids = out_ids[prompt_len:]\n",
    "        decoded = processor.decode(\n",
    "            trimmed_out_ids,\n",
    "            skip_special_tokens=True,\n",
    "            clean_up_tokenization_spaces=False\n",
    "        )\n",
    "        batch_outputs.append(decoded)\n",
    "\n",
    "    return batch_outputs"
   ]
  },
  {
   "cell_type": "markdown",
   "metadata": {},
   "source": [
    "# 모델 불러오기 "
   ]
  },
  {
   "cell_type": "code",
   "execution_count": 10,
   "metadata": {},
   "outputs": [
    {
     "name": "stderr",
     "output_type": "stream",
     "text": [
      "`Qwen2VLRotaryEmbedding` can now be fully parameterized by passing the model config through the `config` argument. All other arguments will be removed in v4.46\n",
      "Loading checkpoint shards: 100%|██████████| 2/2 [00:01<00:00,  1.17it/s]\n"
     ]
    }
   ],
   "source": [
    "from transformers import AutoModelForVision2Seq, AutoProcessor\n",
    "\n",
    "# 허깅페이스 모델 ID\n",
    "model_id = \"Qwen/Qwen2-VL-2B-Instruct\" \n",
    "\n",
    "# 모델과 프로세서 불러오기 \n",
    "model = AutoModelForVision2Seq.from_pretrained(\n",
    "   model_id,\n",
    "   # GPU 메모리에 자동 할당\n",
    "   device_map=\"auto\",                            \n",
    "   # bfloat16 정밀도 사용\n",
    "   torch_dtype=torch.bfloat16,                   \n",
    ")\n",
    "\n",
    "# 텍스트/이미지 전처리 프로세스 \n",
    "processor = AutoProcessor.from_pretrained(model_id)  "
   ]
  },
  {
   "cell_type": "code",
   "execution_count": 11,
   "metadata": {},
   "outputs": [],
   "source": [
    "# 학습한 로라 어댑터가 있는 경로\n",
    "adapter_path = f\"./qkvupdg_1e-5_seperate-2B/checkpoint-{ckp_number}\"\n",
    "\n",
    "# Adapter 로드\n",
    "model.load_adapter(\n",
    "    adapter_path,\n",
    "    adapter_name=\"adapter\") "
   ]
  },
  {
   "cell_type": "markdown",
   "metadata": {},
   "source": [
    "# 단일 인퍼런스"
   ]
  },
  {
   "cell_type": "code",
   "execution_count": 12,
   "metadata": {},
   "outputs": [],
   "source": [
    "# 한 개만 이미지만 인퍼런스하는 함수 \n",
    "def generate_description(messages, model, processor):\n",
    "   text = processor.apply_chat_template(\n",
    "       messages, tokenize=False, add_generation_prompt=True\n",
    "   )\n",
    "   image_inputs, video_inputs = process_vision_info(messages)\n",
    "   inputs = processor(\n",
    "       text=[text],\n",
    "       images=image_inputs,\n",
    "       videos=video_inputs,\n",
    "       padding=True,\n",
    "       return_tensors=\"pt\",\n",
    "   )\n",
    "   inputs = inputs.to(model.device)\n",
    "   \n",
    "   generated_ids = model.generate(\n",
    "      **inputs, \n",
    "      max_new_tokens=128,\n",
    "      top_p=1.0, \n",
    "      do_sample=True, \n",
    "      temperature=0.1\n",
    "      )\n",
    "   generated_ids_trimmed = [\n",
    "      out_ids[len(in_ids) :] \n",
    "      for in_ids, out_ids in zip(inputs.input_ids, generated_ids)\n",
    "    ]\n",
    "   output_text = processor.batch_decode(\n",
    "       generated_ids_trimmed, \n",
    "       skip_special_tokens=True, \n",
    "       clean_up_tokenization_spaces=False\n",
    "   )\n",
    "   return output_text[0]"
   ]
  },
  {
   "cell_type": "code",
   "execution_count": 13,
   "metadata": {},
   "outputs": [],
   "source": [
    "# 1번 데이터만 예측하기 \n",
    "idx = 1 \n",
    "messages =  test_dataset[idx][\"messages\"][:2]\n",
    "answer = test_dataset[idx][\"messages\"][2][\"content\"][0][\"text\"]\n",
    "ft_description = generate_description(messages, model, processor)"
   ]
  },
  {
   "cell_type": "code",
   "execution_count": 14,
   "metadata": {},
   "outputs": [
    {
     "data": {
      "text/plain": [
       "('{\"gender\": \"Women\", \"masterCategory\": \"Apparel\", \"subCategory\": \"Topwear\", \"season\": \"Summer\", \"usage\": \"Casual\", \"baseColour\": \"White\", \"articleType\": \"Tshirts\"}',\n",
       " '{\"gender\": \"Women\", \"masterCategory\": \"Apparel\", \"subCategory\": \"Topwear\", \"season\": \"Fall\", \"usage\": \"Casual\", \"baseColour\": \"White\", \"articleType\": \"Tshirts\"}',\n",
       " False)"
      ]
     },
     "execution_count": 14,
     "metadata": {},
     "output_type": "execute_result"
    }
   ],
   "source": [
    "# 예측결과, 정답, 일치여부\n",
    "ft_description, answer, ft_description == answer"
   ]
  },
  {
   "cell_type": "markdown",
   "metadata": {},
   "source": [
    "정답을 맞추지 못한 것을 관찰하였습니다.  \n",
    "총 7개의 라벨 중 season만 Fall로 예측하여 exact match에서는 False를 받게 됩니다. "
   ]
  },
  {
   "cell_type": "markdown",
   "metadata": {},
   "source": [
    "어떤 이미지를 Fall(가을)로 예측하였는지 확인해겠습니다."
   ]
  },
  {
   "cell_type": "code",
   "execution_count": 15,
   "metadata": {},
   "outputs": [
    {
     "data": {
      "image/jpeg": "[encoded data removed]",
      "image/png": "[encoded data removed]",
      "text/plain": [
       "<PIL.PngImagePlugin.PngImageFile image mode=RGB size=60x80>"
      ]
     },
     "execution_count": 15,
     "metadata": {},
     "output_type": "execute_result"
    }
   ],
   "source": [
    "test_dataset[idx][\"messages\"][1][\"content\"][1][\"image\"]"
   ]
  },
  {
   "cell_type": "markdown",
   "metadata": {},
   "source": [
    "# 배치 인퍼런스 "
   ]
  },
  {
   "cell_type": "code",
   "execution_count": 16,
   "metadata": {},
   "outputs": [
    {
     "name": "stderr",
     "output_type": "stream",
     "text": [
      "  0%|          | 0/35 [00:00<?, ?it/s]"
     ]
    },
    {
     "name": "stderr",
     "output_type": "stream",
     "text": [
      "100%|██████████| 35/35 [01:53<00:00,  3.25s/it]\n"
     ]
    }
   ],
   "source": [
    "model.eval()\n",
    "after_train_results = []\n",
    "batch_size = 128\n",
    "\n",
    "# 배치단위로 for문을 돌면서 generate_batch_description함수를 이용하여 인퍼런스를 진행합니다. \n",
    "for start_idx in tqdm(range(0, len(test_dataset), batch_size)):\n",
    "    batch_data = test_dataset[start_idx : start_idx + batch_size]\n",
    "\n",
    "    batch_messages = []\n",
    "    answers = []  # 각 샘플 정답\n",
    "    for item in batch_data:\n",
    "        # system+user 메시지\n",
    "        sys_usr = item[\"messages\"][:2]\n",
    "        batch_messages.append(sys_usr)\n",
    "\n",
    "        # 정답(assistant)\n",
    "        ans_text = item[\"messages\"][2][\"content\"][0][\"text\"]\n",
    "        answers.append(ans_text)\n",
    "\n",
    "    # 한 번에 모델 추론\n",
    "    predicted_texts = generate_batch_description(batch_messages, model, processor)\n",
    "\n",
    "    # 결과 저장\n",
    "    for ans, pred in zip(answers, predicted_texts):\n",
    "        after_train_results.append((ans, pred))"
   ]
  },
  {
   "cell_type": "markdown",
   "metadata": {},
   "source": [
    "# 예측 결과 확인 "
   ]
  },
  {
   "cell_type": "markdown",
   "metadata": {},
   "source": [
    "#### 4번 데이터 예측 "
   ]
  },
  {
   "cell_type": "code",
   "execution_count": 17,
   "metadata": {},
   "outputs": [
    {
     "data": {
      "text/plain": [
       "('{\"gender\": \"Women\", \"masterCategory\": \"Accessories\", \"subCategory\": \"Jewellery\", \"season\": \"Summer\", \"usage\": \"Casual\", \"baseColour\": \"Silver\", \"articleType\": \"Bangle\"}',\n",
       " '{\"gender\": \"Women\", \"masterCategory\": \"Accessories\", \"subCategory\": \"Jewellery\", \"season\": \"Summer\", \"usage\": \"Casual\", \"baseColour\": \"Silver\", \"articleType\": \"Bangle\"}')"
      ]
     },
     "execution_count": 17,
     "metadata": {},
     "output_type": "execute_result"
    }
   ],
   "source": [
    "after_train_results[4]"
   ]
  },
  {
   "cell_type": "code",
   "execution_count": 18,
   "metadata": {},
   "outputs": [
    {
     "data": {
      "image/jpeg": "[encoded data removed]",
      "image/png": "[encoded data removed]",
      "text/plain": [
       "<PIL.PngImagePlugin.PngImageFile image mode=RGB size=60x80>"
      ]
     },
     "execution_count": 18,
     "metadata": {},
     "output_type": "execute_result"
    }
   ],
   "source": [
    "test_dataset[4][\"messages\"][1][\"content\"][1][\"image\"]"
   ]
  },
  {
   "cell_type": "markdown",
   "metadata": {},
   "source": [
    "#### 2번 데이터 예측"
   ]
  },
  {
   "cell_type": "code",
   "execution_count": 19,
   "metadata": {},
   "outputs": [
    {
     "data": {
      "text/plain": [
       "('{\"gender\": \"Women\", \"masterCategory\": \"Footwear\", \"subCategory\": \"Shoes\", \"season\": \"Summer\", \"usage\": \"Casual\", \"baseColour\": \"Taupe\", \"articleType\": \"Casual Shoes\"}',\n",
       " '{\"gender\": \"Women\", \"masterCategory\": \"Footwear\", \"subCategory\": \"Shoes\", \"season\": \"Winter\", \"usage\": \"Casual\", \"baseColour\": \"Brown\", \"articleType\": \"Casual Shoes\"}')"
      ]
     },
     "execution_count": 19,
     "metadata": {},
     "output_type": "execute_result"
    }
   ],
   "source": [
    "after_train_results[2]"
   ]
  },
  {
   "cell_type": "code",
   "execution_count": 20,
   "metadata": {},
   "outputs": [
    {
     "data": {
      "image/jpeg": "[encoded data removed]",
      "image/png": "[encoded data removed]",
      "text/plain": [
       "<PIL.PngImagePlugin.PngImageFile image mode=RGB size=60x80>"
      ]
     },
     "execution_count": 20,
     "metadata": {},
     "output_type": "execute_result"
    }
   ],
   "source": [
    "test_dataset[2][\"messages\"][1][\"content\"][1][\"image\"]"
   ]
  },
  {
   "cell_type": "markdown",
   "metadata": {},
   "source": [
    "#### 3번 데이터 예측"
   ]
  },
  {
   "cell_type": "code",
   "execution_count": 21,
   "metadata": {},
   "outputs": [
    {
     "data": {
      "text/plain": [
       "('{\"gender\": \"Women\", \"masterCategory\": \"Accessories\", \"subCategory\": \"Jewellery\", \"season\": \"Winter\", \"usage\": \"Casual\", \"baseColour\": \"Green\", \"articleType\": \"Necklace and Chains\"}',\n",
       " '{\"gender\": \"Women\", \"masterCategory\": \"Accessories\", \"subCategory\": \"Jewellery\", \"season\": \"Fall\", \"usage\": \"Casual\", \"baseColour\": \"Orange\", \"articleType\": \"Necklace and Chains\"}')"
      ]
     },
     "execution_count": 21,
     "metadata": {},
     "output_type": "execute_result"
    }
   ],
   "source": [
    "after_train_results[3]"
   ]
  },
  {
   "cell_type": "code",
   "execution_count": 22,
   "metadata": {},
   "outputs": [
    {
     "data": {
      "image/jpeg": "[encoded data removed]",
      "image/png": "[encoded data removed]",
      "text/plain": [
       "<PIL.PngImagePlugin.PngImageFile image mode=RGB size=60x80>"
      ]
     },
     "execution_count": 22,
     "metadata": {},
     "output_type": "execute_result"
    }
   ],
   "source": [
    "test_dataset[3][\"messages\"][1][\"content\"][1][\"image\"]"
   ]
  },
  {
   "cell_type": "markdown",
   "metadata": {},
   "source": [
    "드디어 articleType을 예측하는 것을 볼 수 있습니다. "
   ]
  },
  {
   "cell_type": "code",
   "execution_count": 23,
   "metadata": {},
   "outputs": [],
   "source": [
    "import json_repair\n",
    "after_json_results = [(json_repair.repair_json(ans, return_objects=True), json_repair.repair_json(pred, return_objects=True)) for (ans, pred) in after_train_results]\n",
    "after_answers = [ans for (ans, pred) in after_json_results]\n",
    "after_predicts = [pred for (ans, pred) in after_json_results]"
   ]
  },
  {
   "cell_type": "markdown",
   "metadata": {},
   "source": [
    "# 성능 확인 "
   ]
  },
  {
   "cell_type": "markdown",
   "metadata": {},
   "source": [
    "### 1. accuracy, F1 score 등 지표 확인 "
   ]
  },
  {
   "cell_type": "code",
   "execution_count": 24,
   "metadata": {},
   "outputs": [
    {
     "name": "stdout",
     "output_type": "stream",
     "text": [
      "Field Accuracy (Micro):93.86%\n",
      "Field Accuracy (Macro):93.86%\n"
     ]
    }
   ],
   "source": [
    "# (Micro) 방식으로 전체 필드를 한꺼번에 세어 정확도(Accuracy) 구하는 함수 \n",
    "def field_accuracy_micro(y_true_list, y_pred_list):\n",
    "\n",
    "    total_matched = 0\n",
    "    total_fields = 0\n",
    "    \n",
    "    for dtrue, dpred in zip(y_true_list, y_pred_list):\n",
    "        for key in dtrue.keys():\n",
    "            total_fields += 1\n",
    "            if key in dpred and dtrue[key] == dpred[key]:\n",
    "                total_matched += 1\n",
    "    \n",
    "    # 분모가 0인 경우(비어 있는 dict 등)를 대비\n",
    "    return total_matched / total_fields if total_fields > 0 else 0\n",
    "\n",
    "# (Macro) 방식으로 각 샘플별 Accuracy를 구한 뒤 평균 구하는 함수 \n",
    "def field_accuracy_macro(y_true_list, y_pred_list):\n",
    "    \n",
    "    acc_list = []\n",
    "    for dtrue, dpred in zip(y_true_list, y_pred_list):\n",
    "        matched = 0\n",
    "        total = len(dtrue.keys())  \n",
    "        for key in dtrue.keys():\n",
    "            if key in dpred and dtrue[key] == dpred[key]:\n",
    "                matched += 1\n",
    "        \n",
    "        acc = matched / total if total > 0 else 0\n",
    "        acc_list.append(acc)\n",
    "    \n",
    "    # 모든 샘플에 대한 Accuracy의 평균\n",
    "    return sum(acc_list) / len(acc_list) if len(acc_list) > 0 else 0\n",
    "\n",
    "# 전체 필드를 한꺼번에 세는 방식 (Micro)\n",
    "print(f\"Field Accuracy (Micro):{field_accuracy_micro(after_answers, after_predicts)*100:.2f}%\")\n",
    "\n",
    "# 샘플별 Accuracy를 구한 뒤 평균 (Macro)\n",
    "print(f\"Field Accuracy (Macro):{field_accuracy_macro(after_answers, after_predicts)*100:.2f}%\")\n"
   ]
  },
  {
   "cell_type": "code",
   "execution_count": 25,
   "metadata": {},
   "outputs": [
    {
     "name": "stdout",
     "output_type": "stream",
     "text": [
      "Micro Scores(Precision) : 93.86%\n",
      "Micro Scores(Recall) : 93.86%\n",
      "Micro Scores(F1)  93.86%\n",
      "Macro Scores(Precision) : 93.86%\n",
      "Macro Scores(Recall) : 93.86%\n",
      "Macro Scores(F1)  93.86%\n"
     ]
    }
   ],
   "source": [
    "# precision, recall, f1 구하는 함수 \n",
    "## (Micro) 방식으로 전체 필드를 한꺼번에 세어 정확도(Accuracy)를 구하는 함수 \n",
    "def dict_set_scores_micro(y_true_list, y_pred_list):\n",
    "\n",
    "    total_true_pairs = 0\n",
    "    total_pred_pairs = 0\n",
    "    total_intersect_pairs = 0\n",
    "    \n",
    "    for dtrue, dpred in zip(y_true_list, y_pred_list):\n",
    "        # 1) 만약 빈 문자열 \"\" 이거나 None이라면, 빈 dict로 처리\n",
    "        if isinstance(dpred, str) and dpred.strip() == \"\":\n",
    "            dpred = {}\n",
    "        if dpred is None:\n",
    "            dpred = {}\n",
    "        \n",
    "        # 필요하다면 y_true도 동일하게 처리 (빈 문자열일 수 있다면)\n",
    "        if isinstance(dtrue, str) and dtrue.strip() == \"\":\n",
    "            dtrue = {}\n",
    "        if dtrue is None:\n",
    "            dtrue = {}\n",
    "        \n",
    "        # 2) (key, value) 쌍 집합 만들기\n",
    "        true_pairs = set(dtrue.items())\n",
    "        pred_pairs = set(dpred.items())\n",
    "        \n",
    "        intersection = true_pairs.intersection(pred_pairs)\n",
    "        \n",
    "        total_true_pairs += len(true_pairs)\n",
    "        total_pred_pairs += len(pred_pairs)\n",
    "        total_intersect_pairs += len(intersection)\n",
    "    \n",
    "    precision = total_intersect_pairs / total_pred_pairs if total_pred_pairs else 0\n",
    "    recall = total_intersect_pairs / total_true_pairs if total_true_pairs else 0\n",
    "    f1 = 2 * precision * recall / (precision + recall) if (precision + recall) else 0\n",
    "    \n",
    "    return {\n",
    "        \"precision\": precision,\n",
    "        \"recall\": recall,\n",
    "        \"f1\": f1\n",
    "    }\n",
    "\n",
    "scores_micro = dict_set_scores_micro(after_answers, after_predicts)\n",
    "print(f'Micro Scores(Precision) : {scores_micro[\"precision\"]*100:.2f}%')\n",
    "print(f'Micro Scores(Recall) : {scores_micro[\"recall\"]*100:.2f}%')\n",
    "print(f'Micro Scores(F1)  {scores_micro[\"f1\"]*100:.2f}%')\n",
    "\n",
    "\n",
    "## 샘플별로 (k,v) 쌍 집합 Precision, Recall, F1을 구하고, 그걸 다시 평균(Macro) 구하는 함수 \n",
    "def dict_set_scores_macro(y_true_list, y_pred_list):\n",
    "    \n",
    "    precisions = []\n",
    "    recalls = []\n",
    "    f1s = []\n",
    "    \n",
    "    for dtrue, dpred in zip(y_true_list, y_pred_list):\n",
    "        # 1) 만약 빈 문자열 \"\" 이거나 None이라면, 빈 dict로 처리\n",
    "        if isinstance(dpred, str) and dpred.strip() == \"\":\n",
    "            dpred = {}\n",
    "        if dpred is None:\n",
    "            dpred = {}\n",
    "        \n",
    "        # 필요하다면 y_true도 동일하게 처리 (빈 문자열일 수 있다면)\n",
    "        if isinstance(dtrue, str) and dtrue.strip() == \"\":\n",
    "            dtrue = {}\n",
    "        if dtrue is None:\n",
    "            dtrue = {}\n",
    "        \n",
    "        # 2) (key, value) 쌍 집합 만들기\n",
    "        true_pairs = set(dtrue.items())\n",
    "        pred_pairs = set(dpred.items())\n",
    "        \n",
    "        # 3) 교집합 크기\n",
    "        intersection = true_pairs.intersection(pred_pairs)\n",
    "        \n",
    "        # 4) Precision, Recall, F1\n",
    "        precision = len(intersection) / len(pred_pairs) if len(pred_pairs) > 0 else 0\n",
    "        recall = len(intersection) / len(true_pairs) if len(true_pairs) > 0 else 0\n",
    "        f1 = 2 * precision * recall / (precision + recall) if (precision + recall) > 0 else 0\n",
    "        \n",
    "        # 5) 리스트에 저장\n",
    "        precisions.append(precision)\n",
    "        recalls.append(recall)\n",
    "        f1s.append(f1)\n",
    "    \n",
    "    # 6) 모든 샘플의 평균(Macro)\n",
    "    n = len(precisions)  # = len(y_true_list) = len(y_pred_list)\n",
    "    avg_precision = sum(precisions) / n if n > 0 else 0\n",
    "    avg_recall = sum(recalls) / n if n > 0 else 0\n",
    "    avg_f1 = sum(f1s) / n if n > 0 else 0\n",
    "    \n",
    "    return {\n",
    "        \"precision\": avg_precision,\n",
    "        \"recall\": avg_recall,\n",
    "        \"f1\": avg_f1\n",
    "    }\n",
    "\n",
    "scores_macro = dict_set_scores_macro(after_answers, after_predicts)\n",
    "print(f'Macro Scores(Precision) : {scores_macro[\"precision\"]*100:.2f}%')\n",
    "print(f'Macro Scores(Recall) : {scores_macro[\"recall\"]*100:.2f}%')\n",
    "print(f'Macro Scores(F1)  {scores_macro[\"f1\"]*100:.2f}%')"
   ]
  },
  {
   "cell_type": "code",
   "execution_count": 26,
   "metadata": {},
   "outputs": [
    {
     "name": "stdout",
     "output_type": "stream",
     "text": [
      "Accuracy excluding Gender: 93.86%\n",
      "Accuracy excluding masterCategory: 92.90%\n",
      "Accuracy excluding subCategory: 91.71%\n",
      "Accuracy excluding articleType: 90.50%\n",
      "Accuracy excluding season: 94.95%\n",
      "Accuracy excluding usage: 95.66%\n",
      "Accuracy excluding baseColour: 99.66%\n",
      "----\n",
      "Gender accuracy: 99.66%\n",
      "masterCategory accuracy: 99.64%\n",
      "subCategory accuracy: 98.85%\n",
      "articleType accuracy: 96.54%\n",
      "season accuracy: 77.14%\n",
      "usage accuracy: 93.54%\n",
      "baseColour accuracy: 91.65%\n"
     ]
    }
   ],
   "source": [
    "# 특정 필드만 제외하고 정확도 계산하는 함수 \n",
    "def compute_partial_accuracy(predictions, targets, exclude_fields=None):\n",
    "    if exclude_fields is None:\n",
    "        exclude_fields = []\n",
    "    \n",
    "    total = 0\n",
    "    correct = 0\n",
    "    \n",
    "    for pred, target in zip(predictions, targets):\n",
    "        pred_dict = pred\n",
    "        target_dict = target\n",
    "        \n",
    "        for field in exclude_fields:\n",
    "            pred_dict.pop(field, None)\n",
    "            target_dict.pop(field, None)\n",
    "        \n",
    "        for key in pred_dict:\n",
    "            total += 1\n",
    "            if key in target_dict and pred_dict[key] == target_dict[key]:\n",
    "                correct += 1\n",
    "    \n",
    "    return correct / total if total > 0 else 0\n",
    "\n",
    "# 특정 필드만의 정확도 계산하는 함수\n",
    "def compute_field_accuracy(predictions, targets, field):\n",
    "    total = 0\n",
    "    correct = 0\n",
    "    \n",
    "    for pred, target in zip(predictions, targets):\n",
    "        pred_dict = pred\n",
    "        target_dict = target\n",
    "        if field in pred_dict and field in target_dict:\n",
    "            total += 1\n",
    "            if pred_dict[field] == target_dict[field]:\n",
    "                correct += 1\n",
    "    \n",
    "    return correct / total if total > 0 else 0\n",
    "\n",
    "# season을 제외한 정확도 계산\n",
    "accuracy_excl_Gender = compute_partial_accuracy(after_predicts, after_answers, exclude_fields=['Gender'])\n",
    "print(f\"Accuracy excluding Gender: {accuracy_excl_Gender:.2%}\")\n",
    "accuracy_excl_masterCategory = compute_partial_accuracy(after_predicts, after_answers, exclude_fields=['masterCategory'])\n",
    "print(f\"Accuracy excluding masterCategory: {accuracy_excl_masterCategory:.2%}\")\n",
    "accuracy_excl_subCategory = compute_partial_accuracy(after_predicts, after_answers, exclude_fields=['subCategory'])\n",
    "print(f\"Accuracy excluding subCategory: {accuracy_excl_subCategory:.2%}\")\n",
    "accuracy_excl_articleType = compute_partial_accuracy(after_predicts, after_answers, exclude_fields=['articleType'])\n",
    "print(f\"Accuracy excluding articleType: {accuracy_excl_articleType:.2%}\")\n",
    "accuracy_excl_season = compute_partial_accuracy(after_predicts, after_answers, exclude_fields=['season'])\n",
    "print(f\"Accuracy excluding season: {accuracy_excl_season:.2%}\")\n",
    "accuracy_excl_usage = compute_partial_accuracy(after_predicts, after_answers, exclude_fields=['usage'])\n",
    "print(f\"Accuracy excluding usage: {accuracy_excl_usage:.2%}\")\n",
    "accuracy_excl_baseColour = compute_partial_accuracy(after_predicts, after_answers, exclude_fields=['baseColour'])\n",
    "print(f\"Accuracy excluding baseColour: {accuracy_excl_baseColour:.2%}\")\n",
    "\n",
    "print(\"----\")\n",
    "\n",
    "import json_repair\n",
    "after_json_results = [(json_repair.repair_json(ans, return_objects=True), json_repair.repair_json(pred, return_objects=True)) for (ans, pred) in after_train_results]\n",
    "after_answers = [ans for (ans, pred) in after_json_results]\n",
    "after_predicts = [pred for (ans, pred) in after_json_results]\n",
    "\n",
    "# 특정 필드별 정확도 계산\n",
    "gender_accuracy = compute_field_accuracy(after_predicts, after_answers, 'gender')\n",
    "print(f\"Gender accuracy: {gender_accuracy:.2%}\")\n",
    "masterCategory_accuracy = compute_field_accuracy(after_predicts, after_answers, 'masterCategory')\n",
    "print(f\"masterCategory accuracy: {masterCategory_accuracy:.2%}\")\n",
    "subCategory_accuracy = compute_field_accuracy(after_predicts, after_answers, 'subCategory')\n",
    "print(f\"subCategory accuracy: {subCategory_accuracy:.2%}\")\n",
    "articleType_accuracy = compute_field_accuracy(after_predicts, after_answers, 'articleType')\n",
    "print(f\"articleType accuracy: {articleType_accuracy:.2%}\")\n",
    "season_accuracy = compute_field_accuracy(after_predicts, after_answers, 'season')\n",
    "print(f\"season accuracy: {season_accuracy:.2%}\")\n",
    "usage_accuracy = compute_field_accuracy(after_predicts, after_answers, 'usage')\n",
    "print(f\"usage accuracy: {usage_accuracy:.2%}\")\n",
    "baseColour_accuracy = compute_field_accuracy(after_predicts, after_answers, 'baseColour')\n",
    "print(f\"baseColour accuracy: {baseColour_accuracy:.2%}\")"
   ]
  },
  {
   "cell_type": "markdown",
   "metadata": {},
   "source": [
    "### 2. 에러 분석을 위한 DataFrame 만들기"
   ]
  },
  {
   "cell_type": "code",
   "execution_count": 27,
   "metadata": {},
   "outputs": [
    {
     "data": {
      "text/html": [
       "<div>\n",
       "<style scoped>\n",
       "    .dataframe tbody tr th:only-of-type {\n",
       "        vertical-align: middle;\n",
       "    }\n",
       "\n",
       "    .dataframe tbody tr th {\n",
       "        vertical-align: top;\n",
       "    }\n",
       "\n",
       "    .dataframe thead th {\n",
       "        text-align: right;\n",
       "    }\n",
       "</style>\n",
       "<table border=\"1\" class=\"dataframe\">\n",
       "  <thead>\n",
       "    <tr style=\"text-align: right;\">\n",
       "      <th></th>\n",
       "      <th>sample_id</th>\n",
       "      <th>gender_true</th>\n",
       "      <th>gender_pred</th>\n",
       "      <th>gender_correct</th>\n",
       "      <th>masterCategory_true</th>\n",
       "      <th>masterCategory_pred</th>\n",
       "      <th>masterCategory_correct</th>\n",
       "      <th>subCategory_true</th>\n",
       "      <th>subCategory_pred</th>\n",
       "      <th>subCategory_correct</th>\n",
       "      <th>...</th>\n",
       "      <th>season_correct</th>\n",
       "      <th>usage_true</th>\n",
       "      <th>usage_pred</th>\n",
       "      <th>usage_correct</th>\n",
       "      <th>baseColour_true</th>\n",
       "      <th>baseColour_pred</th>\n",
       "      <th>baseColour_correct</th>\n",
       "      <th>articleType_true</th>\n",
       "      <th>articleType_pred</th>\n",
       "      <th>articleType_correct</th>\n",
       "    </tr>\n",
       "  </thead>\n",
       "  <tbody>\n",
       "    <tr>\n",
       "      <th>0</th>\n",
       "      <td>0</td>\n",
       "      <td>Men</td>\n",
       "      <td>Men</td>\n",
       "      <td>True</td>\n",
       "      <td>Footwear</td>\n",
       "      <td>Footwear</td>\n",
       "      <td>True</td>\n",
       "      <td>Shoes</td>\n",
       "      <td>Shoes</td>\n",
       "      <td>True</td>\n",
       "      <td>...</td>\n",
       "      <td>True</td>\n",
       "      <td>Formal</td>\n",
       "      <td>Formal</td>\n",
       "      <td>True</td>\n",
       "      <td>Black</td>\n",
       "      <td>Black</td>\n",
       "      <td>True</td>\n",
       "      <td>Formal Shoes</td>\n",
       "      <td>Formal Shoes</td>\n",
       "      <td>True</td>\n",
       "    </tr>\n",
       "    <tr>\n",
       "      <th>1</th>\n",
       "      <td>1</td>\n",
       "      <td>Women</td>\n",
       "      <td>Women</td>\n",
       "      <td>True</td>\n",
       "      <td>Apparel</td>\n",
       "      <td>Apparel</td>\n",
       "      <td>True</td>\n",
       "      <td>Topwear</td>\n",
       "      <td>Topwear</td>\n",
       "      <td>True</td>\n",
       "      <td>...</td>\n",
       "      <td>False</td>\n",
       "      <td>Casual</td>\n",
       "      <td>Casual</td>\n",
       "      <td>True</td>\n",
       "      <td>White</td>\n",
       "      <td>White</td>\n",
       "      <td>True</td>\n",
       "      <td>Tshirts</td>\n",
       "      <td>Tshirts</td>\n",
       "      <td>True</td>\n",
       "    </tr>\n",
       "    <tr>\n",
       "      <th>2</th>\n",
       "      <td>2</td>\n",
       "      <td>Women</td>\n",
       "      <td>Women</td>\n",
       "      <td>True</td>\n",
       "      <td>Footwear</td>\n",
       "      <td>Footwear</td>\n",
       "      <td>True</td>\n",
       "      <td>Shoes</td>\n",
       "      <td>Shoes</td>\n",
       "      <td>True</td>\n",
       "      <td>...</td>\n",
       "      <td>False</td>\n",
       "      <td>Casual</td>\n",
       "      <td>Casual</td>\n",
       "      <td>True</td>\n",
       "      <td>Taupe</td>\n",
       "      <td>Brown</td>\n",
       "      <td>False</td>\n",
       "      <td>Casual Shoes</td>\n",
       "      <td>Casual Shoes</td>\n",
       "      <td>True</td>\n",
       "    </tr>\n",
       "    <tr>\n",
       "      <th>3</th>\n",
       "      <td>3</td>\n",
       "      <td>Women</td>\n",
       "      <td>Women</td>\n",
       "      <td>True</td>\n",
       "      <td>Accessories</td>\n",
       "      <td>Accessories</td>\n",
       "      <td>True</td>\n",
       "      <td>Jewellery</td>\n",
       "      <td>Jewellery</td>\n",
       "      <td>True</td>\n",
       "      <td>...</td>\n",
       "      <td>False</td>\n",
       "      <td>Casual</td>\n",
       "      <td>Casual</td>\n",
       "      <td>True</td>\n",
       "      <td>Green</td>\n",
       "      <td>Orange</td>\n",
       "      <td>False</td>\n",
       "      <td>Necklace and Chains</td>\n",
       "      <td>Necklace and Chains</td>\n",
       "      <td>True</td>\n",
       "    </tr>\n",
       "    <tr>\n",
       "      <th>4</th>\n",
       "      <td>4</td>\n",
       "      <td>Women</td>\n",
       "      <td>Women</td>\n",
       "      <td>True</td>\n",
       "      <td>Accessories</td>\n",
       "      <td>Accessories</td>\n",
       "      <td>True</td>\n",
       "      <td>Jewellery</td>\n",
       "      <td>Jewellery</td>\n",
       "      <td>True</td>\n",
       "      <td>...</td>\n",
       "      <td>True</td>\n",
       "      <td>Casual</td>\n",
       "      <td>Casual</td>\n",
       "      <td>True</td>\n",
       "      <td>Silver</td>\n",
       "      <td>Silver</td>\n",
       "      <td>True</td>\n",
       "      <td>Bangle</td>\n",
       "      <td>Bangle</td>\n",
       "      <td>True</td>\n",
       "    </tr>\n",
       "  </tbody>\n",
       "</table>\n",
       "<p>5 rows × 22 columns</p>\n",
       "</div>"
      ],
      "text/plain": [
       "   sample_id gender_true gender_pred  gender_correct masterCategory_true  \\\n",
       "0          0         Men         Men            True            Footwear   \n",
       "1          1       Women       Women            True             Apparel   \n",
       "2          2       Women       Women            True            Footwear   \n",
       "3          3       Women       Women            True         Accessories   \n",
       "4          4       Women       Women            True         Accessories   \n",
       "\n",
       "  masterCategory_pred  masterCategory_correct subCategory_true  \\\n",
       "0            Footwear                    True            Shoes   \n",
       "1             Apparel                    True          Topwear   \n",
       "2            Footwear                    True            Shoes   \n",
       "3         Accessories                    True        Jewellery   \n",
       "4         Accessories                    True        Jewellery   \n",
       "\n",
       "  subCategory_pred  subCategory_correct  ... season_correct usage_true  \\\n",
       "0            Shoes                 True  ...           True     Formal   \n",
       "1          Topwear                 True  ...          False     Casual   \n",
       "2            Shoes                 True  ...          False     Casual   \n",
       "3        Jewellery                 True  ...          False     Casual   \n",
       "4        Jewellery                 True  ...           True     Casual   \n",
       "\n",
       "   usage_pred usage_correct baseColour_true  baseColour_pred  \\\n",
       "0      Formal          True           Black            Black   \n",
       "1      Casual          True           White            White   \n",
       "2      Casual          True           Taupe            Brown   \n",
       "3      Casual          True           Green           Orange   \n",
       "4      Casual          True          Silver           Silver   \n",
       "\n",
       "  baseColour_correct     articleType_true     articleType_pred  \\\n",
       "0               True         Formal Shoes         Formal Shoes   \n",
       "1               True              Tshirts              Tshirts   \n",
       "2              False         Casual Shoes         Casual Shoes   \n",
       "3              False  Necklace and Chains  Necklace and Chains   \n",
       "4               True               Bangle               Bangle   \n",
       "\n",
       "  articleType_correct  \n",
       "0                True  \n",
       "1                True  \n",
       "2                True  \n",
       "3                True  \n",
       "4                True  \n",
       "\n",
       "[5 rows x 22 columns]"
      ]
     },
     "execution_count": 27,
     "metadata": {},
     "output_type": "execute_result"
    }
   ],
   "source": [
    "import pandas as pd\n",
    "\n",
    "fields = [\"gender\", \"masterCategory\", \"subCategory\", \n",
    "          \"season\", \"usage\", \"baseColour\", \"articleType\"]\n",
    "\n",
    "def make_error_analysis_df(answers, predicts):\n",
    "    \"\"\"\n",
    "    answers: list of dict (정답)\n",
    "    predicts: list of dict (예측)\n",
    "    \n",
    "    returns: pd.DataFrame\n",
    "      - 각 row가 하나의 샘플\n",
    "      - 각 column이 해당 field의 (정답, 예측, 정/오답 여부) 등\n",
    "    \"\"\"\n",
    "    records = []\n",
    "    for i, (ans, pred) in enumerate(zip(answers, predicts)):\n",
    "        row_data = {\"sample_id\": i}  # 혹은 실제 파일 경로, productDisplayName 등 식별자\n",
    "        for f in fields:\n",
    "            true_val = ans.get(f, None)\n",
    "            pred_val = pred.get(f, None)\n",
    "            row_data[f+\"_true\"] = true_val\n",
    "            row_data[f+\"_pred\"] = pred_val\n",
    "            row_data[f+\"_correct\"] = (true_val == pred_val)\n",
    "        records.append(row_data)\n",
    "    return pd.DataFrame(records)\n",
    "\n",
    "df_errors = make_error_analysis_df(after_answers, after_predicts)\n",
    "\n",
    "# 예시 출력\n",
    "df_errors.head(5)"
   ]
  },
  {
   "cell_type": "markdown",
   "metadata": {},
   "source": [
    "### 3. Field별 혼동행렬(Confusion Matrix) & Heatmap"
   ]
  },
  {
   "cell_type": "code",
   "execution_count": 28,
   "metadata": {},
   "outputs": [
    {
     "data": {
      "image/png": "[encoded data removed]",
      "text/plain": [
       "<Figure size 500x400 with 2 Axes>"
      ]
     },
     "metadata": {},
     "output_type": "display_data"
    }
   ],
   "source": [
    "from sklearn.metrics import confusion_matrix\n",
    "import seaborn as sns\n",
    "import matplotlib.pyplot as plt\n",
    "\n",
    "def plot_confusion_matrix_for_field(df, field):\n",
    "    # 실제값, 예측값\n",
    "    y_true = df[f\"{field}_true\"]\n",
    "    y_pred = df[f\"{field}_pred\"]\n",
    "    \n",
    "    # Label 목록 (전체에서 등장한 순서 / set 기반)\n",
    "    labels = sorted(set(y_true.unique()).union(y_pred.unique()))\n",
    "    \n",
    "    # 혼동행렬 계산\n",
    "    cm = confusion_matrix(y_true, y_pred, labels=labels)\n",
    "    \n",
    "    # 시각화\n",
    "    plt.figure(figsize=(5,4))\n",
    "    sns.heatmap(cm, annot=True, fmt='d', cmap='Blues', \n",
    "                xticklabels=labels, yticklabels=labels)\n",
    "    plt.title(f\"Confusion Matrix - {field}\")\n",
    "    plt.xlabel(\"Predicted\")\n",
    "    plt.ylabel(\"True\")\n",
    "    plt.show()\n",
    "\n",
    "fields = [\"gender\", \"season\", \"masterCategory\", \"subCategory\", \n",
    "          \"usage\", \"baseColour\", \"articleType\"]\n",
    "\n",
    "# 필드 혼동행렬\n",
    "# plot_confusion_matrix_for_field(df_errors, \"gender\")\n",
    "plot_confusion_matrix_for_field(df_errors, \"season\")\n",
    "# plot_confusion_matrix_for_field(df_errors, \"masterCategory\")\n",
    "# plot_confusion_matrix_for_field(df_errors, \"subCategory\")\n",
    "# plot_confusion_matrix_for_field(df_errors, \"usage\")\n",
    "# plot_confusion_matrix_for_field(df_errors, \"baseColour\")\n",
    "# plot_confusion_matrix_for_field(df_errors, \"articleType\")\n"
   ]
  },
  {
   "cell_type": "markdown",
   "metadata": {},
   "source": [
    "### 4. 어떤 클래스(값)에서 많이 틀리는지 통계"
   ]
  },
  {
   "cell_type": "code",
   "execution_count": 29,
   "metadata": {},
   "outputs": [
    {
     "name": "stdout",
     "output_type": "stream",
     "text": [
      "틀린 데이터에서 실제 season 분포:\n",
      "season_true\n",
      "Fall      529\n",
      "Summer    278\n",
      "Winter    141\n",
      "Spring     67\n",
      "            1\n",
      "Name: count, dtype: int64\n",
      "\n",
      "틀린 데이터에서 예측된 season 분포:\n",
      "season_pred\n",
      "Summer    649\n",
      "Fall      241\n",
      "Winter    118\n",
      "Spring      8\n",
      "Name: count, dtype: int64\n"
     ]
    }
   ],
   "source": [
    "# season 필드에서만 정오답 여부 확인\n",
    "df_season_wrong = df_errors[df_errors[\"season_correct\"] == False].copy()\n",
    "\n",
    "# 이 데이터프레임 안에서, 어떤 season(true)가 많은지\n",
    "count_true = df_season_wrong[\"season_true\"].value_counts()\n",
    "print(\"틀린 데이터에서 실제 season 분포:\")\n",
    "print(count_true)\n",
    "\n",
    "# 어떤 season(pred)가 많은지\n",
    "count_pred = df_season_wrong[\"season_pred\"].value_counts()\n",
    "print(\"\\n틀린 데이터에서 예측된 season 분포:\")\n",
    "print(count_pred)\n"
   ]
  }
 ],
 "metadata": {
  "kernelspec": {
   "display_name": "image_train",
   "language": "python",
   "name": "python3"
  },
  "language_info": {
   "codemirror_mode": {
    "name": "ipython",
    "version": 3
   },
   "file_extension": ".py",
   "mimetype": "text/x-python",
   "name": "python",
   "nbconvert_exporter": "python",
   "pygments_lexer": "ipython3",
   "version": "3.11.11"
  }
 },
 "nbformat": 4,
 "nbformat_minor": 2
}
