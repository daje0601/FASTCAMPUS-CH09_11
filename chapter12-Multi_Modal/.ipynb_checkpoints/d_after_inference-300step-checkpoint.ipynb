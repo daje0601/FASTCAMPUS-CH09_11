{
 "cells": [
  {
   "cell_type": "code",
   "execution_count": 1,
   "metadata": {},
   "outputs": [],
   "source": [
    "import os \n",
    "os.environ[\"CUDA_VISIBLE_DEVICES\"] = \"1\"\n",
    "import json\n",
    "from dotenv import load_dotenv\n",
    "\n",
    "# API 암호화를 위해 dotenv를 활용 \n",
    "load_dotenv()\n",
    "huggingface_token = os.environ.get(\"HUGGINGFACE_TOKEN\")\n",
    "ckp_number = 300 "
   ]
  },
  {
   "cell_type": "markdown",
   "metadata": {},
   "source": [
    "# 데이터 불러오기 "
   ]
  },
  {
   "cell_type": "code",
   "execution_count": 2,
   "metadata": {},
   "outputs": [],
   "source": [
    "# 시스템 프롬프트 설정 \n",
    "system_message = \"당신은 이미지와 제품명(name)으로부터 패션/스타일 정보를 추론하는 분류 모델입니다.\"\n",
    "\n",
    "# 실제로 사용자 입력 -> 모델이 답해야 하는 프롬프트\n",
    "prompt = \"\"\"입력 정보:\n",
    "- name: {name}\n",
    "- image: [image]\n",
    "\n",
    "위 정보를 바탕으로, 아래 7가지 key에 대한 값을 JSON 형태로 추론해 주세요:\n",
    "1) gender\n",
    "2) masterCategory\n",
    "3) subCategory\n",
    "4) season\n",
    "5) usage\n",
    "6) baseColour\n",
    "7) articleType\n",
    "\n",
    "출력 시 **아래 JSON 예시 형태**를 반드시 지키세요:\n",
    "{{\n",
    "  \"gender\": \"예시값\",\n",
    "  \"masterCategory\": \"예시값\",\n",
    "  \"subCategory\": \"예시값\",\n",
    "  \"season\": \"예시값\",\n",
    "  \"usage\": \"예시값\",\n",
    "  \"baseColour\": \"예시값\",\n",
    "  \"articleType\": \"예시값\"\n",
    "}}\n",
    "\n",
    "# 예시\n",
    "{{\n",
    "  \"gender\": \"Men\",\n",
    "  \"masterCategory\": \"Accessories\",\n",
    "  \"subCategory\": \"Eyewear\",\n",
    "  \"season\": \"Winter\",\n",
    "  \"usage\": \"Casual\",\n",
    "  \"baseColour\": \"Blue\",\n",
    "  \"articleType\": \"Sunglasses\"\n",
    "}}\n",
    "\n",
    "# 주의\n",
    "- 7개 항목 이외의 정보(텍스트, 문장 등)는 절대 포함하지 마세요.\n",
    "\"\"\""
   ]
  },
  {
   "cell_type": "code",
   "execution_count": 3,
   "metadata": {},
   "outputs": [
    {
     "name": "stderr",
     "output_type": "stream",
     "text": [
      "/root/anaconda3/envs/image_train/lib/python3.11/site-packages/tqdm/auto.py:21: TqdmWarning: IProgress not found. Please update jupyter and ipywidgets. See https://ipywidgets.readthedocs.io/en/stable/user_install.html\n",
      "  from .autonotebook import tqdm as notebook_tqdm\n"
     ]
    }
   ],
   "source": [
    "from datasets import load_dataset\n",
    "\n",
    "# label을 생성하기 위한 함수 \n",
    "def combine_cols_to_label(example):\n",
    "    label_dict = {\n",
    "        \"gender\": example[\"gender\"],\n",
    "        \"masterCategory\": example[\"masterCategory\"],\n",
    "        \"subCategory\": example[\"subCategory\"],\n",
    "        \"season\": example[\"season\"],\n",
    "        \"usage\": example[\"usage\"],\n",
    "        \"baseColour\": example[\"baseColour\"],\n",
    "        \"articleType\": example[\"articleType\"],\n",
    "    }\n",
    "    example[\"label\"] = json.dumps(label_dict, ensure_ascii=False)\n",
    "    return example\n",
    "\n",
    "# 대화용 포맷으로 변환하는 함수 \n",
    "def format_data(sample):\n",
    "    return {\n",
    "        \"messages\": [\n",
    "            {\n",
    "                \"role\": \"system\",\n",
    "                \"content\": [\n",
    "                    {\n",
    "                        \"type\": \"text\",\n",
    "                        \"text\": system_message\n",
    "                    }\n",
    "                ],\n",
    "            },\n",
    "            {\n",
    "                \"role\": \"user\",\n",
    "                \"content\": [\n",
    "                    {\n",
    "                        \"type\": \"text\",\n",
    "                        # 제품명 \n",
    "                        \"text\": prompt.format(name=sample[\"productDisplayName\"]),\n",
    "                    },\n",
    "                    {\n",
    "                        \"type\": \"image\",\n",
    "                        # 이미지 파일 \n",
    "                        \"image\": sample[\"file_path\"],  \n",
    "                    }\n",
    "                ],\n",
    "            },\n",
    "            {\n",
    "                \"role\": \"assistant\",\n",
    "                \"content\": [\n",
    "                    {\n",
    "                        \"type\": \"text\",\n",
    "                        # combine_cols_to_label에서 만든 JSON 문자열\n",
    "                        \"text\": sample[\"label\"],\n",
    "                    }\n",
    "                ],\n",
    "            },\n",
    "        ],\n",
    "    }\n",
    "\n",
    "# 전처리한 데이터셋 불러오기 \n",
    "dataset = load_dataset(\"daje/kaggle-image-datasets\", split=\"train\")\n",
    "dataset_add_label = dataset.map(combine_cols_to_label)\n",
    "dataset_add_label = dataset_add_label.shuffle(seed=4242)"
   ]
  },
  {
   "cell_type": "code",
   "execution_count": 4,
   "metadata": {},
   "outputs": [
    {
     "data": {
      "text/plain": [
       "{'file_path': <PIL.PngImagePlugin.PngImageFile image mode=RGB size=60x80>,\n",
       " 'id': 14014,\n",
       " 'gender': 'Men',\n",
       " 'masterCategory': 'Apparel',\n",
       " 'subCategory': 'Topwear',\n",
       " 'articleType': 'Tshirts',\n",
       " 'baseColour': 'White',\n",
       " 'season': 'Summer',\n",
       " 'year': '2012',\n",
       " 'usage': 'Sports',\n",
       " 'productDisplayName': 'Nike Men Solid Off-White Polo Jerseys',\n",
       " 'label': '{\"gender\": \"Men\", \"masterCategory\": \"Apparel\", \"subCategory\": \"Topwear\", \"season\": \"Summer\", \"usage\": \"Sports\", \"baseColour\": \"White\", \"articleType\": \"Tshirts\"}'}"
      ]
     },
     "execution_count": 4,
     "metadata": {},
     "output_type": "execute_result"
    }
   ],
   "source": [
    "# 라벨을 추가한 데이터의 예시 \n",
    "dataset_add_label[0]"
   ]
  },
  {
   "cell_type": "code",
   "execution_count": 5,
   "metadata": {},
   "outputs": [],
   "source": [
    "# 메세지 포맷으로 데이터셋 변환 \n",
    "formatted_dataset = [format_data(row) for row in dataset_add_label]"
   ]
  },
  {
   "cell_type": "code",
   "execution_count": 6,
   "metadata": {},
   "outputs": [
    {
     "data": {
      "text/plain": [
       "{'messages': [{'role': 'system',\n",
       "   'content': [{'type': 'text',\n",
       "     'text': '당신은 이미지와 제품명(name)으로부터 패션/스타일 정보를 추론하는 분류 모델입니다.'}]},\n",
       "  {'role': 'user',\n",
       "   'content': [{'type': 'text',\n",
       "     'text': '입력 정보:\\n- name: Nike Men Solid Off-White Polo Jerseys\\n- image: [image]\\n\\n위 정보를 바탕으로, 아래 7가지 key에 대한 값을 JSON 형태로 추론해 주세요:\\n1) gender\\n2) masterCategory\\n3) subCategory\\n4) season\\n5) usage\\n6) baseColour\\n7) articleType\\n\\n출력 시 **아래 JSON 예시 형태**를 반드시 지키세요:\\n{\\n  \"gender\": \"예시값\",\\n  \"masterCategory\": \"예시값\",\\n  \"subCategory\": \"예시값\",\\n  \"season\": \"예시값\",\\n  \"usage\": \"예시값\",\\n  \"baseColour\": \"예시값\",\\n  \"articleType\": \"예시값\"\\n}\\n\\n# 예시\\n{\\n  \"gender\": \"Men\",\\n  \"masterCategory\": \"Accessories\",\\n  \"subCategory\": \"Eyewear\",\\n  \"season\": \"Winter\",\\n  \"usage\": \"Casual\",\\n  \"baseColour\": \"Blue\",\\n  \"articleType\": \"Sunglasses\"\\n}\\n\\n# 주의\\n- 7개 항목 이외의 정보(텍스트, 문장 등)는 절대 포함하지 마세요.\\n'},\n",
       "    {'type': 'image',\n",
       "     'image': <PIL.PngImagePlugin.PngImageFile image mode=RGB size=60x80>}]},\n",
       "  {'role': 'assistant',\n",
       "   'content': [{'type': 'text',\n",
       "     'text': '{\"gender\": \"Men\", \"masterCategory\": \"Apparel\", \"subCategory\": \"Topwear\", \"season\": \"Summer\", \"usage\": \"Sports\", \"baseColour\": \"White\", \"articleType\": \"Tshirts\"}'}]}]}"
      ]
     },
     "execution_count": 6,
     "metadata": {},
     "output_type": "execute_result"
    }
   ],
   "source": [
    "# 메세지 포맷으로 변환 데이터 예시 \n",
    "formatted_dataset[0]"
   ]
  },
  {
   "cell_type": "code",
   "execution_count": 7,
   "metadata": {},
   "outputs": [],
   "source": [
    "from sklearn.model_selection import train_test_split\n",
    "\n",
    "# test_size=0.1로 설정하여 전체 데이터의 10%를 테스트 세트로 분리\n",
    "train_dataset, test_dataset = train_test_split(formatted_dataset, \n",
    "                                             test_size=0.1, \n",
    "                                             random_state=42)"
   ]
  },
  {
   "cell_type": "code",
   "execution_count": 8,
   "metadata": {},
   "outputs": [
    {
     "data": {
      "text/plain": [
       "(39996, 4445)"
      ]
     },
     "execution_count": 8,
     "metadata": {},
     "output_type": "execute_result"
    }
   ],
   "source": [
    "# train_dataset, test_dataset 데이터 수 확인 \n",
    "len(train_dataset), len(test_dataset)"
   ]
  },
  {
   "cell_type": "code",
   "execution_count": 9,
   "metadata": {},
   "outputs": [],
   "source": [
    "import torch\n",
    "from tqdm.auto import tqdm\n",
    "from torch.utils.data import DataLoader\n",
    "from qwen_vl_utils import process_vision_info\n",
    "\n",
    "#############################################\n",
    "# \"배치 추론\"용 함수\n",
    "#############################################\n",
    "def generate_batch_description(batch_messages, model, processor):\n",
    "    # 배치 전체의 text / images / videos를 한번에 준비\n",
    "    texts = []\n",
    "    all_image_inputs = []\n",
    "    all_video_inputs = []\n",
    "\n",
    "    # (A) 각 샘플마다 QWen-VL용 텍스트 생성 + 이미지/비디오 추출\n",
    "    for messages in batch_messages:\n",
    "        # 1) QWen-VL 텍스트 템플릿 생성\n",
    "        text_prompt = processor.apply_chat_template(\n",
    "            messages, \n",
    "            tokenize=False, \n",
    "            add_generation_prompt=True\n",
    "        )\n",
    "        texts.append(text_prompt)\n",
    "\n",
    "        # 2) 이미지/비디오 추출\n",
    "        image_inputs, video_inputs = process_vision_info(messages)\n",
    "\n",
    "        # 비디오가 없는 경우가 대부분이면, video_inputs를 무조건 None으로 처리해도 됨.\n",
    "        all_image_inputs.append(image_inputs[0] if image_inputs else None)\n",
    "        all_video_inputs.append(video_inputs[0] if video_inputs else None)\n",
    "\n",
    "    # (B) 비디오가 전혀 없으면 videos=None으로 넘기도록 처리\n",
    "    if any(x is not None for x in all_video_inputs):\n",
    "        videos_to_pass = all_video_inputs\n",
    "    else:\n",
    "        videos_to_pass = None  \n",
    "\n",
    "    # (C) processor로 배치 전체 인코딩\n",
    "    inputs = processor(\n",
    "        text=texts,\n",
    "        images=all_image_inputs if any(x is not None for x in all_image_inputs) else None,\n",
    "        videos=videos_to_pass,\n",
    "        return_tensors=\"pt\",\n",
    "        padding=True\n",
    "    )\n",
    "    inputs = inputs.to(model.device)\n",
    "\n",
    "    # (D) 모델 추론\n",
    "    with torch.no_grad():\n",
    "        generated_ids = model.generate(\n",
    "            **inputs,\n",
    "            max_new_tokens=128,\n",
    "            top_p=1.0,\n",
    "            do_sample=True,\n",
    "            temperature=0.1\n",
    "        )\n",
    "\n",
    "    # (E) 디코딩\n",
    "    batch_outputs = []\n",
    "    for i, out_ids in enumerate(generated_ids):\n",
    "        prompt_len = len(inputs.input_ids[i])\n",
    "        trimmed_out_ids = out_ids[prompt_len:]\n",
    "        decoded = processor.decode(\n",
    "            trimmed_out_ids,\n",
    "            skip_special_tokens=True,\n",
    "            clean_up_tokenization_spaces=False\n",
    "        )\n",
    "        batch_outputs.append(decoded)\n",
    "\n",
    "    return batch_outputs"
   ]
  },
  {
   "cell_type": "markdown",
   "metadata": {},
   "source": [
    "# 모델 불러오기 "
   ]
  },
  {
   "cell_type": "code",
   "execution_count": 10,
   "metadata": {},
   "outputs": [
    {
     "name": "stderr",
     "output_type": "stream",
     "text": [
      "`Qwen2VLRotaryEmbedding` can now be fully parameterized by passing the model config through the `config` argument. All other arguments will be removed in v4.46\n",
      "Loading checkpoint shards: 100%|██████████| 5/5 [00:04<00:00,  1.16it/s]\n"
     ]
    }
   ],
   "source": [
    "from transformers import AutoModelForVision2Seq, AutoProcessor\n",
    "\n",
    "# 허깅페이스 모델 ID\n",
    "model_id = \"Qwen/Qwen2-VL-7B-Instruct\" \n",
    "\n",
    "# 모델과 프로세서 불러오기 \n",
    "model = AutoModelForVision2Seq.from_pretrained(\n",
    "   model_id,\n",
    "   # GPU 메모리에 자동 할당\n",
    "   device_map=\"auto\",                            \n",
    "   # bfloat16 정밀도 사용\n",
    "   torch_dtype=torch.bfloat16,                   \n",
    ")\n",
    "\n",
    "# 텍스트/이미지 전처리 프로세스 \n",
    "processor = AutoProcessor.from_pretrained(model_id)  "
   ]
  },
  {
   "cell_type": "code",
   "execution_count": 11,
   "metadata": {},
   "outputs": [],
   "source": [
    "# 학습한 로라 어댑터가 있는 경로\n",
    "adapter_path = f\"./kaggle_image_prediction_qkvupdg_1e-5_seperate/checkpoint-{ckp_number}\"\n",
    "\n",
    "# Adapter 로드\n",
    "model.load_adapter(\n",
    "    adapter_path,\n",
    "    adapter_name=\"adapter\") "
   ]
  },
  {
   "cell_type": "markdown",
   "metadata": {},
   "source": [
    "# 단일 인퍼런스"
   ]
  },
  {
   "cell_type": "code",
   "execution_count": 12,
   "metadata": {},
   "outputs": [],
   "source": [
    "# 한 개만 이미지만 인퍼런스하는 함수 \n",
    "def generate_description(messages, model, processor):\n",
    "   text = processor.apply_chat_template(\n",
    "       messages, tokenize=False, add_generation_prompt=True\n",
    "   )\n",
    "   image_inputs, video_inputs = process_vision_info(messages)\n",
    "   inputs = processor(\n",
    "       text=[text],\n",
    "       images=image_inputs,\n",
    "       videos=video_inputs,\n",
    "       padding=True,\n",
    "       return_tensors=\"pt\",\n",
    "   )\n",
    "   inputs = inputs.to(model.device)\n",
    "   \n",
    "   generated_ids = model.generate(\n",
    "      **inputs, \n",
    "      max_new_tokens=128,\n",
    "      top_p=1.0, \n",
    "      do_sample=True, \n",
    "      temperature=0.1\n",
    "      )\n",
    "   generated_ids_trimmed = [\n",
    "      out_ids[len(in_ids) :] \n",
    "      for in_ids, out_ids in zip(inputs.input_ids, generated_ids)\n",
    "    ]\n",
    "   output_text = processor.batch_decode(\n",
    "       generated_ids_trimmed, \n",
    "       skip_special_tokens=True, \n",
    "       clean_up_tokenization_spaces=False\n",
    "   )\n",
    "   return output_text[0]"
   ]
  },
  {
   "cell_type": "code",
   "execution_count": 13,
   "metadata": {},
   "outputs": [],
   "source": [
    "# 1번 데이터만 예측하기 \n",
    "idx = 1 \n",
    "messages =  test_dataset[idx][\"messages\"][:2]\n",
    "answer = test_dataset[idx][\"messages\"][2][\"content\"][0][\"text\"]\n",
    "ft_description = generate_description(messages, model, processor)"
   ]
  },
  {
   "cell_type": "code",
   "execution_count": 14,
   "metadata": {},
   "outputs": [
    {
     "data": {
      "text/plain": [
       "('{\"gender\": \"Women\", \"masterCategory\": \"Apparel\", \"subCategory\": \"Topwear\", \"season\": \"Summer\", \"usage\": \"Casual\", \"baseColour\": \"White\", \"articleType\": \"Tshirts\"}',\n",
       " '{\"gender\": \"Women\", \"masterCategory\": \"Apparel\", \"subCategory\": \"Topwear\", \"season\": \"Fall\", \"usage\": \"Casual\", \"baseColour\": \"White\", \"articleType\": \"Tshirts\"}',\n",
       " False)"
      ]
     },
     "execution_count": 14,
     "metadata": {},
     "output_type": "execute_result"
    }
   ],
   "source": [
    "# 예측결과, 정답, 일치여부\n",
    "ft_description, answer, ft_description == answer"
   ]
  },
  {
   "cell_type": "markdown",
   "metadata": {},
   "source": [
    "정답을 맞추지 못한 것을 관찰하였습니다.  \n",
    "총 7개의 라벨 중 season만 Fall로 예측하여 exact match에서는 False를 받게 됩니다. "
   ]
  },
  {
   "cell_type": "markdown",
   "metadata": {},
   "source": [
    "어떤 이미지를 Fall(가을)로 예측하였는지 확인해겠습니다."
   ]
  },
  {
   "cell_type": "code",
   "execution_count": 15,
   "metadata": {},
   "outputs": [
    {
     "data": {
      "image/jpeg": "[encoded data removed]",
      "image/png": "[encoded data removed]",
      "text/plain": [
       "<PIL.PngImagePlugin.PngImageFile image mode=RGB size=60x80>"
      ]
     },
     "execution_count": 15,
     "metadata": {},
     "output_type": "execute_result"
    }
   ],
   "source": [
    "test_dataset[idx][\"messages\"][1][\"content\"][1][\"image\"]"
   ]
  },
  {
   "cell_type": "markdown",
   "metadata": {},
   "source": [
    "# 배치 인퍼런스 "
   ]
  },
  {
   "cell_type": "code",
   "execution_count": 16,
   "metadata": {},
   "outputs": [
    {
     "name": "stderr",
     "output_type": "stream",
     "text": [
      "100%|██████████| 35/35 [02:58<00:00,  5.11s/it]\n"
     ]
    }
   ],
   "source": [
    "model.eval()\n",
    "after_train_results = []\n",
    "batch_size = 128\n",
    "\n",
    "# 배치단위로 for문을 돌면서 generate_batch_description함수를 이용하여 인퍼런스를 진행합니다. \n",
    "for start_idx in tqdm(range(0, len(test_dataset), batch_size)):\n",
    "    batch_data = test_dataset[start_idx : start_idx + batch_size]\n",
    "\n",
    "    batch_messages = []\n",
    "    answers = []  # 각 샘플 정답\n",
    "    for item in batch_data:\n",
    "        # system+user 메시지\n",
    "        sys_usr = item[\"messages\"][:2]\n",
    "        batch_messages.append(sys_usr)\n",
    "\n",
    "        # 정답(assistant)\n",
    "        ans_text = item[\"messages\"][2][\"content\"][0][\"text\"]\n",
    "        answers.append(ans_text)\n",
    "\n",
    "    # 한 번에 모델 추론\n",
    "    predicted_texts = generate_batch_description(batch_messages, model, processor)\n",
    "\n",
    "    # 결과 저장\n",
    "    for ans, pred in zip(answers, predicted_texts):\n",
    "        after_train_results.append((ans, pred))"
   ]
  },
  {
   "cell_type": "markdown",
   "metadata": {},
   "source": [
    "# 예측 결과 확인 "
   ]
  },
  {
   "cell_type": "markdown",
   "metadata": {},
   "source": [
    "#### 4번 데이터 예측 "
   ]
  },
  {
   "cell_type": "code",
   "execution_count": 17,
   "metadata": {},
   "outputs": [
    {
     "data": {
      "text/plain": [
       "('{\"gender\": \"Women\", \"masterCategory\": \"Accessories\", \"subCategory\": \"Jewellery\", \"season\": \"Summer\", \"usage\": \"Casual\", \"baseColour\": \"Silver\", \"articleType\": \"Bangle\"}',\n",
       " '{\"gender\": \"Women\", \"masterCategory\": \"Accessories\", \"subCategory\": \"Jewellery\", \"season\": \"Winter\", \"usage\": \"Casual\", \"baseColour\": \"Silver\", \"articleType\": \"Bangles\"}')"
      ]
     },
     "execution_count": 17,
     "metadata": {},
     "output_type": "execute_result"
    }
   ],
   "source": [
    "after_train_results[4]"
   ]
  },
  {
   "cell_type": "markdown",
   "metadata": {},
   "source": [
    "4번 데이터의 정답과 예측결과를 확인해보면 articleType라벨에서 Bangle을 Bangles로 예측하여 틀린 것을 관찰할 수 있었습니다.  "
   ]
  },
  {
   "cell_type": "code",
   "execution_count": 18,
   "metadata": {},
   "outputs": [
    {
     "data": {
      "image/jpeg": "[encoded data removed]",
      "image/png": "[encoded data removed]",
      "text/plain": [
       "<PIL.PngImagePlugin.PngImageFile image mode=RGB size=60x80>"
      ]
     },
     "execution_count": 18,
     "metadata": {},
     "output_type": "execute_result"
    }
   ],
   "source": [
    "test_dataset[4][\"messages\"][1][\"content\"][1][\"image\"]"
   ]
  },
  {
   "cell_type": "markdown",
   "metadata": {},
   "source": [
    "이는 학습을 더 하면 해결할 수 있는 이슈로 보입니다.  \n",
    "추가적으로 틀린 데이터를 더 살펴보겠습니다.   "
   ]
  },
  {
   "cell_type": "markdown",
   "metadata": {},
   "source": [
    "#### 2번 데이터 예측"
   ]
  },
  {
   "cell_type": "code",
   "execution_count": 19,
   "metadata": {},
   "outputs": [
    {
     "data": {
      "text/plain": [
       "('{\"gender\": \"Women\", \"masterCategory\": \"Footwear\", \"subCategory\": \"Shoes\", \"season\": \"Summer\", \"usage\": \"Casual\", \"baseColour\": \"Taupe\", \"articleType\": \"Casual Shoes\"}',\n",
       " '{\"gender\": \"Women\", \"masterCategory\": \"Footwear\", \"subCategory\": \"Shoes\", \"season\": \"Winter\", \"usage\": \"Casual\", \"baseColour\": \"Taupe\", \"articleType\": \"Casual Shoes\"}')"
      ]
     },
     "execution_count": 19,
     "metadata": {},
     "output_type": "execute_result"
    }
   ],
   "source": [
    "after_train_results[2]"
   ]
  },
  {
   "cell_type": "code",
   "execution_count": 20,
   "metadata": {},
   "outputs": [
    {
     "data": {
      "image/jpeg": "[encoded data removed]",
      "image/png": "[encoded data removed]",
      "text/plain": [
       "<PIL.PngImagePlugin.PngImageFile image mode=RGB size=60x80>"
      ]
     },
     "execution_count": 20,
     "metadata": {},
     "output_type": "execute_result"
    }
   ],
   "source": [
    "test_dataset[2][\"messages\"][1][\"content\"][1][\"image\"]"
   ]
  },
  {
   "cell_type": "markdown",
   "metadata": {},
   "source": [
    "300step부터는 색상을 맞추는 것을 확인할 수 있습니다. "
   ]
  },
  {
   "cell_type": "markdown",
   "metadata": {},
   "source": [
    "#### 3번 데이터 예측"
   ]
  },
  {
   "cell_type": "code",
   "execution_count": 21,
   "metadata": {},
   "outputs": [
    {
     "data": {
      "text/plain": [
       "('{\"gender\": \"Women\", \"masterCategory\": \"Accessories\", \"subCategory\": \"Jewellery\", \"season\": \"Winter\", \"usage\": \"Casual\", \"baseColour\": \"Green\", \"articleType\": \"Necklace and Chains\"}',\n",
       " '{\"gender\": \"Women\", \"masterCategory\": \"Accessories\", \"subCategory\": \"Jewellery\", \"season\": \"Winter\", \"usage\": \"Casual\", \"baseColour\": \"Orange\", \"articleType\": \"Necklace\"}')"
      ]
     },
     "execution_count": 21,
     "metadata": {},
     "output_type": "execute_result"
    }
   ],
   "source": [
    "after_train_results[3]"
   ]
  },
  {
   "cell_type": "code",
   "execution_count": 22,
   "metadata": {},
   "outputs": [
    {
     "data": {
      "image/jpeg": "[encoded data removed]",
      "image/png": "[encoded data removed]",
      "text/plain": [
       "<PIL.PngImagePlugin.PngImageFile image mode=RGB size=60x80>"
      ]
     },
     "execution_count": 22,
     "metadata": {},
     "output_type": "execute_result"
    }
   ],
   "source": [
    "test_dataset[3][\"messages\"][1][\"content\"][1][\"image\"]"
   ]
  },
  {
   "cell_type": "markdown",
   "metadata": {},
   "source": [
    "3번 데이터는 articleType가 Necklace and Chains인데, Necklace로 예측한 것을 볼 수 있습니다."
   ]
  },
  {
   "cell_type": "code",
   "execution_count": 23,
   "metadata": {},
   "outputs": [],
   "source": [
    "import json_repair\n",
    "after_json_results = [(json_repair.repair_json(ans, return_objects=True), json_repair.repair_json(pred, return_objects=True)) for (ans, pred) in after_train_results]\n",
    "after_answers = [ans for (ans, pred) in after_json_results]\n",
    "after_predicts = [pred for (ans, pred) in after_json_results]"
   ]
  },
  {
   "cell_type": "markdown",
   "metadata": {},
   "source": [
    "# 성능 확인 "
   ]
  },
  {
   "cell_type": "code",
   "execution_count": 24,
   "metadata": {},
   "outputs": [
    {
     "name": "stdout",
     "output_type": "stream",
     "text": [
      "Field Accuracy (Micro):90.20%\n",
      "Field Accuracy (Macro):90.20%\n"
     ]
    }
   ],
   "source": [
    "# 전체 정확도를 계산하는 함수\n",
    "def calculate_accuracy(y_true_list, y_pred_list):\n",
    "    total_matched = 0\n",
    "    total_fields = 0\n",
    "    \n",
    "    for dtrue, dpred in zip(y_true_list, y_pred_list):\n",
    "        for key in dtrue.keys():\n",
    "            total_fields += 1\n",
    "            if key in dpred and dtrue[key] == dpred[key]:\n",
    "                total_matched += 1\n",
    "    \n",
    "    return total_matched / total_fields if total_fields > 0 else 0\n",
    "\n",
    "# 전체 정확도 출력\n",
    "accuracy = calculate_accuracy(after_answers, after_predicts)\n",
    "print(f\"Overall Accuracy: {accuracy*100:.2f}%\")\n"
   ]
  },
  {
   "cell_type": "code",
   "execution_count": 25,
   "metadata": {},
   "outputs": [
    {
     "name": "stdout",
     "output_type": "stream",
     "text": [
      "Micro Scores(Precision) : 90.20%\n",
      "Micro Scores(Recall) : 90.20%\n",
      "Micro Scores(F1)  90.20%\n",
      "Macro Scores(Precision) : 90.20%\n",
      "Macro Scores(Recall) : 90.20%\n",
      "Macro Scores(F1)  90.20%\n"
     ]
    }
   ],
   "source": [
    "def to_dict_if_str(obj):\n",
    "    \"\"\"\n",
    "    obj가 str이면 JSON으로 로드하고,\n",
    "    이미 dict 등의 타입이면 그대로 반환.\n",
    "    \"\"\"\n",
    "    if isinstance(obj, str):\n",
    "        try:\n",
    "            return json.loads(obj)\n",
    "        except json.JSONDecodeError:\n",
    "            # json.loads()가 실패하면 json_repair로 한 번 더 시도\n",
    "            return json_repair.repair_json(obj, return_objects=True)\n",
    "    return obj\n",
    "\n",
    "def compute_field_accuracy(predictions, targets, field):\n",
    "    total = 0\n",
    "    correct = 0\n",
    "    \n",
    "    for pred, target in zip(predictions, targets):\n",
    "        # 문자열(JSON)인지 확인 후 dict로 변환\n",
    "        pred_dict = to_dict_if_str(pred)\n",
    "        target_dict = to_dict_if_str(target)\n",
    "        \n",
    "        if not isinstance(pred_dict, dict) or not isinstance(target_dict, dict):\n",
    "            continue\n",
    "        \n",
    "        if field in pred_dict and field in target_dict:\n",
    "            total += 1\n",
    "            if pred_dict[field] == target_dict[field]:\n",
    "                correct += 1\n",
    "    \n",
    "    return correct / total if total > 0 else 0\n",
    "\n",
    "\n",
    "# 각 필드별 정확도 출력\n",
    "for field in ['gender', 'masterCategory', 'subCategory', 'articleType', 'season', 'usage', 'baseColour']:\n",
    "    field_acc = compute_field_accuracy(after_predicts, after_answers, field)\n",
    "    print(f\"{field} accuracy: {field_acc:.2%}\")"
   ]
  },
  {
   "cell_type": "code",
   "execution_count": null,
   "metadata": {},
   "outputs": [],
   "source": []
  }
 ],
 "metadata": {
  "kernelspec": {
   "display_name": "Python 3 (ipykernel)",
   "language": "python",
   "name": "python3"
  },
  "language_info": {
   "codemirror_mode": {
    "name": "ipython",
    "version": 3
   },
   "file_extension": ".py",
   "mimetype": "text/x-python",
   "name": "python",
   "nbconvert_exporter": "python",
   "pygments_lexer": "ipython3",
   "version": "3.11.10"
  }
 },
 "nbformat": 4,
 "nbformat_minor": 4
}
