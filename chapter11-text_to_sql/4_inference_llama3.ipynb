{
 "cells": [
  {
   "cell_type": "code",
   "execution_count": null,
   "id": "087baa2a",
   "metadata": {},
   "outputs": [],
   "source": [
    "import os \n",
    "os.environ[\"CUDA_VISIBLE_DEVICES\"] = \"0\" "
   ]
  },
  {
   "cell_type": "code",
   "execution_count": 9,
   "id": "3bcadfe4-6ef4-4523-b04c-5ffe50294e0a",
   "metadata": {},
   "outputs": [],
   "source": [
    "from openai import OpenAI\n",
    "\n",
    "openai_api_key = \"EMPTY\"\n",
    "openai_api_base = \"http://localhost:8000/v1\"\n",
    "client = OpenAI(\n",
    "    api_key=openai_api_key,\n",
    "    base_url=openai_api_base,\n",
    ")"
   ]
  },
  {
   "cell_type": "code",
   "execution_count": 10,
   "id": "a3acae7c",
   "metadata": {},
   "outputs": [
    {
     "data": {
      "text/plain": [
       "Dataset({\n",
       "    features: ['messages'],\n",
       "    num_rows: 5245\n",
       "})"
      ]
     },
     "execution_count": 10,
     "metadata": {},
     "output_type": "execute_result"
    }
   ],
   "source": [
    "from datasets import load_dataset\n",
    "eval_dataset = load_dataset(\"json\", data_files=\"/root/workspace/test_dataset.json\", split=\"train\")\n",
    "eval_dataset"
   ]
  },
  {
   "cell_type": "code",
   "execution_count": 3,
   "id": "b6df819b",
   "metadata": {},
   "outputs": [
    {
     "data": {
      "text/plain": [
       "[{'content': 'You are a helpful programmer assistant that excels at SQL. Below are sql tables schemas paired with instruction that describes a task. Using valid SQLite, write a response that appropriately completes the request for the provided tables.',\n",
       "  'role': 'system'},\n",
       " {'content': \"### instruction:'성별이 여성(f)이고 주요 질병이 대동맥 판막 기능 부전(aortic valve insufficiency) 또는 대동맥 판막 치환술(aortic valve replacement)인 환자의 수를 세세요. ### Input:CREATE TABLE diagnoses (\\n    subject_id text,\\n    hadm_id text,\\n    icd9_code text,\\n    short_title text,\\n    long_title text\\n)\\n\\nCREATE TABLE prescriptions (\\n    subject_id text,\\n    hadm_id text,\\n    icustay_id text,\\n    drug_type text,\\n    drug text,\\n    formulary_drug_cd text,\\n    route text,\\n    drug_dose text\\n)\\n\\nCREATE TABLE demographic (\\n    subject_id text,\\n    hadm_id text,\\n    name text,\\n    marital_status text,\\n    age text,\\n    dob text,\\n    gender text,\\n    language text,\\n    religion text,\\n    admission_type text,\\n    days_stay text,\\n    insurance text,\\n    ethnicity text,\\n    expire_flag text,\\n    admission_location text,\\n    discharge_location text,\\n    diagnosis text,\\n    dod text,\\n    dob_year text,\\n    dod_year text,\\n    admittime text,\\n    dischtime text,\\n    admityear text\\n)\\n\\nCREATE TABLE procedures (\\n    subject_id text,\\n    hadm_id text,\\n    icd9_code text,\\n    short_title text,\\n    long_title text\\n)\\n\\nCREATE TABLE lab (\\n    subject_id text,\\n    hadm_id text,\\n    itemid text,\\n    charttime text,\\n    flag text,\\n    value_unit text,\\n    label text,\\n    fluid text\\n) ### response:\",\n",
       "  'role': 'user'}]"
      ]
     },
     "execution_count": 3,
     "metadata": {},
     "output_type": "execute_result"
    }
   ],
   "source": [
    "eval_dataset[0][\"messages\"][:2]"
   ]
  },
  {
   "cell_type": "code",
   "execution_count": 4,
   "id": "604679d6",
   "metadata": {},
   "outputs": [],
   "source": [
    "idx = 0\n",
    "sql_chat_completion = client.chat.completions.create(\n",
    "    model=\"lora_adapter1\",\n",
    "    messages=eval_dataset[idx][\"messages\"][:2],\n",
    "    temperature=0.1,\n",
    "    max_tokens=500,\n",
    ")"
   ]
  },
  {
   "cell_type": "code",
   "execution_count": 5,
   "id": "27e71a36",
   "metadata": {},
   "outputs": [
    {
     "data": {
      "text/plain": [
       "{'content': 'SELECT COUNT(DISTINCT demographic.subject_id) FROM demographic WHERE demographic.gender = \"F\" AND demographic.diagnosis = \"AORTIC VALVE INSUFFIENCY\\\\AORTIC VALVE REPLACEMENT /SDA\"<|end_of_text|>',\n",
       " 'role': 'assistant'}"
      ]
     },
     "execution_count": 5,
     "metadata": {},
     "output_type": "execute_result"
    }
   ],
   "source": [
    "eval_dataset[idx][\"messages\"][2]"
   ]
  },
  {
   "cell_type": "code",
   "execution_count": 6,
   "id": "9a488d8f",
   "metadata": {},
   "outputs": [
    {
     "name": "stdout",
     "output_type": "stream",
     "text": [
      "SELECT COUNT(DISTINCT demographic.subject_id) FROM demographic WHERE demographic.gender = \"F\" AND demographic.diagnosis = \"AORTIC VALVE INSUFFIENCY\\AORTIC VALVE REPLACEMENT /SDA\"\n"
     ]
    }
   ],
   "source": [
    "print(sql_chat_completion.choices[0].message.content)"
   ]
  },
  {
   "cell_type": "code",
   "execution_count": 11,
   "id": "5554f916",
   "metadata": {},
   "outputs": [
    {
     "name": "stderr",
     "output_type": "stream",
     "text": [
      "100%|██████████| 5245/5245 [45:56<00:00,  1.90it/s]  \n"
     ]
    },
    {
     "name": "stdout",
     "output_type": "stream",
     "text": [
      "결과가 /root/workspace/text_to_sql/inference_output_2차.json 파일에 저장되었습니다.\n"
     ]
    }
   ],
   "source": [
    "import json \n",
    "from tqdm.auto import tqdm \n",
    "result = [] \n",
    "for idx in tqdm(range(len(eval_dataset))):\n",
    "    sql_chat_completion = client.chat.completions.create(\n",
    "    model=\"lora_adapter1\",\n",
    "    messages=eval_dataset[idx][\"messages\"][:2],\n",
    "    temperature=0.1,\n",
    "    max_tokens=500,\n",
    "    )\n",
    "    result.append(\n",
    "        (\n",
    "            eval_dataset[idx][\"messages\"][:2],\n",
    "            eval_dataset[idx][\"messages\"][2][\"content\"], \n",
    "            sql_chat_completion.choices[0].message.content\n",
    "        )\n",
    "    )\n",
    "\n",
    "output_file = \"/root/workspace/text_to_sql/inference_output_2차.json\"  # 저장할 파일 이름\n",
    "with open(output_file, \"w\", encoding=\"utf-8\") as f:\n",
    "    json.dump(result, f, ensure_ascii=False, indent=4)\n",
    "\n",
    "print(f\"결과가 {output_file} 파일에 저장되었습니다.\")"
   ]
  },
  {
   "cell_type": "code",
   "execution_count": 1,
   "id": "4f30824b",
   "metadata": {},
   "outputs": [],
   "source": [
    "import json \n",
    "with open(\"/root/workspace/text_to_sql/inference_output_2차.json\", \"r\") as file:\n",
    "    data = json.load(file)"
   ]
  },
  {
   "cell_type": "code",
   "execution_count": 2,
   "id": "3a2595ea",
   "metadata": {},
   "outputs": [],
   "source": [
    "score = [result[1].replace(\"<|end_of_text|>\",\"\").strip() == result[2].strip() for result in data]"
   ]
  },
  {
   "cell_type": "code",
   "execution_count": 3,
   "id": "01329be6",
   "metadata": {},
   "outputs": [
    {
     "name": "stdout",
     "output_type": "stream",
     "text": [
      "56.396568160152526\n"
     ]
    }
   ],
   "source": [
    "print(sum(score) / len(score) * 100 )"
   ]
  },
  {
   "cell_type": "code",
   "execution_count": null,
   "id": "2d6a9148",
   "metadata": {},
   "outputs": [],
   "source": []
  }
 ],
 "metadata": {
  "kernelspec": {
   "display_name": "text_to_sql",
   "language": "python",
   "name": "python3"
  },
  "language_info": {
   "codemirror_mode": {
    "name": "ipython",
    "version": 3
   },
   "file_extension": ".py",
   "mimetype": "text/x-python",
   "name": "python",
   "nbconvert_exporter": "python",
   "pygments_lexer": "ipython3",
   "version": "3.11.11"
  }
 },
 "nbformat": 4,
 "nbformat_minor": 5
}
