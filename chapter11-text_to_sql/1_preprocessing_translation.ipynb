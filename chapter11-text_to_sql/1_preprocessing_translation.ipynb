{
 "cells": [
  {
   "cell_type": "code",
   "execution_count": 12,
   "metadata": {},
   "outputs": [],
   "source": [
    "# SQL 데이터셋 번역기\n",
    "## 필요한 라이브러리 임포트\n",
    "import os\n",
    "import pandas as pd\n",
    "from openai import OpenAI\n",
    "from datasets import load_dataset\n",
    "from pqdm.threads import pqdm  # 병렬 처리 라이브러리\n",
    "from datasets import Dataset\n",
    "from dotenv import load_dotenv\n",
    "\n",
    "from google import genai\n",
    "from google.genai import types\n",
    "from pydantic import BaseModel \n",
    "\n",
    "# 환경 변수 파일을 로드함. 이는 API 키와 같은 민감한 정보를 소스 코드에 직접 포함시키지 않기 위함임\n",
    "load_dotenv(\"./credit-env\")\n",
    "\n",
    "# OpenAI API 클라이언트를 초기화함. 환경 변수에서 API 키를 가져와 사용함\n",
    "# 이를 통해 GPT-4o 모델에 안전하게 접근할 수 있음\n",
    "client = OpenAI(api_key=os.getenv(\"SELF_OPENAI_API_KEY\"))"
   ]
  },
  {
   "cell_type": "code",
   "execution_count": 5,
   "metadata": {},
   "outputs": [],
   "source": [
    "def add_length_column(dataset):\n",
    "    \"\"\"\n",
    "    데이터셋의 텍스트 길이를 분석하여 총 단어 수를 계산하는 함수\n",
    "    \n",
    "    Args:\n",
    "        dataset: Hugging Face 데이터셋 객체\n",
    "        \n",
    "    Returns:\n",
    "        DataFrame: 'total_length' 열이 추가된 pandas DataFrame\n",
    "    \"\"\"\n",
    "    # 데이터셋을 pandas DataFrame으로 변환함\n",
    "    # 이는 보다 다양한 데이터 조작 기능을 활용하기 위함임\n",
    "    df = dataset.to_pandas()\n",
    "    \n",
    "    # 총 단어 수를 저장할 새로운 열 'total_length'를 초기화함\n",
    "    # 처음에는 모든 행의 값을 0으로 설정함\n",
    "    df[\"total_length\"] = 0\n",
    "    \n",
    "    # 지정된 열(instruction, input, response)에 대해 반복하여 단어 수를 계산함\n",
    "    for column_name in [\"instruction\", \"input\", \"response\"]:\n",
    "        # 각 열의 텍스트 데이터를 문자열로 변환하고, 공백을 기준으로 단어를 분리한 후, 각 리스트의 길이(단어 수)를 계산함\n",
    "        # 이 과정은 다음과 같이 진행됨:\n",
    "        # 1. df[column_name] - 해당 열의 데이터를 가져옴\n",
    "        # 2. .astype(str) - 모든 값을 문자열로 변환함 (비문자열 값이 있을 경우 대비)\n",
    "        # 3. .str.split() - 각 문자열을 공백 기준으로 분리하여 단어 리스트를 생성함\n",
    "        # 4. .apply(len) - 각 리스트의 길이(단어 수)를 계산함\n",
    "        num_words = df[column_name].astype(str).str.split().apply(len)\n",
    "        \n",
    "        # 계산된 단어 수를 'total_length' 열에 누적하여 더함\n",
    "        # 이를 통해 'instruction', 'input', 'response' 열의 총 단어 수를 구할 수 있음\n",
    "        df[\"total_length\"] += num_words\n",
    "\n",
    "    # 'total_length' 열이 추가된 DataFrame을 반환함\n",
    "    return df\n",
    "\n",
    "\n",
    "def filter_by_total_length(df, difficulty, number_of_samples):\n",
    "    \"\"\"\n",
    "    총 단어 수에 기반하여 난이도별로 데이터를 필터링하는 함수\n",
    "    \n",
    "    Args:\n",
    "        df: 'total_length' 열이 포함된 pandas DataFrame\n",
    "        difficulty: 난이도 수준 (\"easy\", \"moderate\", \"difficult\" 중 하나)\n",
    "        number_of_samples: 반환할 최대 샘플 수\n",
    "        \n",
    "    Returns:\n",
    "        DataFrame: 지정된 난이도와 샘플 수에 맞게 필터링된 DataFrame\n",
    "    \"\"\"\n",
    "    # 난이도에 따라 적절한 단어 수 범위로 필터링함\n",
    "    if difficulty == \"easy\":\n",
    "        # 쉬운 난이도: 총 단어 수가 10~100개인 데이터를 선택함\n",
    "        # .between(10, 100)은 10 <= total_length <= 100 조건을 적용함\n",
    "        # .iloc[:number_of_samples]는 필터링된 결과에서 지정된 샘플 수만큼만 선택함\n",
    "        return df[df[\"total_length\"].between(10, 100)].iloc[:number_of_samples]\n",
    "    elif difficulty == \"moderate\":\n",
    "        # 중간 난이도: 총 단어 수가 101~300개인 데이터를 선택함\n",
    "        return df[df[\"total_length\"].between(101, 300)].iloc[:number_of_samples]\n",
    "    elif difficulty == \"difficult\":\n",
    "        # 어려운 난이도: 총 단어 수가 301~1000개인 데이터를 선택함\n",
    "        return df[df[\"total_length\"].between(301, 1000)].iloc[:number_of_samples]"
   ]
  },
  {
   "cell_type": "code",
   "execution_count": 6,
   "metadata": {},
   "outputs": [
    {
     "name": "stdout",
     "output_type": "stream",
     "text": [
      "데이터셋 로드 중: Clinton/Text-to-sql-v1 (train)...\n",
      "로드 완료! 데이터셋 크기: 2000 항목\n"
     ]
    }
   ],
   "source": [
    "## 번역 프롬프트 설정\n",
    "# 번역을 위한 시스템 프롬프트를 정의함. 이는 AI 모델에게 번역 작업 방식을 지시하는 역할을 함\n",
    "translation_system_prompt = \"\"\"\n",
    "당신은 SQL 관련 지시문을 영어에서 한국어로 번역하는 전문가입니다. 다음 규칙을 반드시 준수하세요:\n",
    "\n",
    "1. SQL 쿼리 구문(SELECT, FROM, WHERE 등)은 번역하지 않고 원문 그대로 유지합니다.\n",
    "2. 테이블 이름과 필드 이름(home_team, away_team 등)은 번역하지 않습니다.\n",
    "3. 지시사항만 자연스러운 한국어로 번역합니다.\n",
    "4. 불필요한 설명이나 주석은 추가하지 않습니다.\n",
    "5. 기술 용어는 한국에서 통용되는 용어를 사용합니다.\n",
    "\"\"\"\n",
    "\n",
    "# 번역을 위한 사용자 프롬프트를 정의함. 이는 실제 번역 요청을 담는 템플릿으로 사용됨\n",
    "# {instruction}, {input}, {response}는 나중에 실제 데이터로 대체될 포맷 플레이스홀더임\n",
    "translation_user_prompt = \"\"\"\n",
    "다음 SQL 관련 영어 지시문을 한국어로 번역해주세요. \n",
    "SQL 구문, 테이블 이름, 필드 이름은 원문 그대로 유지하고 지시사항만 자연스러운 한국어로 번역하세요.\n",
    "\n",
    "instruction(번역할 내용): {instruction}\n",
    "input(참고용): {input}\n",
    "response(참고용): {response}\n",
    "\n",
    "한국어 번역(instruction만):\n",
    "\"\"\"\n",
    "\n",
    "## 데이터셋 로드 섹션\n",
    "# 사용할 데이터셋의 이름과 분할(split)을 지정함\n",
    "# 'Clinton/Text-to-sql-v1'은 텍스트를 SQL로 변환하는 데이터셋임\n",
    "dataset_name = \"Clinton/Text-to-sql-v1\"  # 사용할 데이터셋 이름\n",
    "split = \"train\"  # 학습용 데이터셋 분할을 선택함\n",
    "\n",
    "# Hugging Face 라이브러리를 사용하여 지정된 데이터셋을 로드함\n",
    "# 로딩 시작을 알리는 메시지를 출력함\n",
    "print(f\"데이터셋 로드 중: {dataset_name} ({split})...\")\n",
    "# load_dataset 함수를 사용하여 지정한 데이터셋과 분할을 로드함\n",
    "dataset = load_dataset(dataset_name, split=split)\n",
    "\n",
    "# 이전에 정의된 add_length_column 함수를 사용하여 데이터셋에 총 단어 수를 계산하고 추가함\n",
    "# 이 함수는 'instruction', 'input', 'response' 열의 텍스트 길이(단어 수)를 합산함\n",
    "df = add_length_column(dataset)\n",
    "\n",
    "# 이전에 정의된 filter_by_total_length 함수를 사용하여 난이도별로 데이터를 필터링함\n",
    "# 단어 수 기준: easy(10-100단어), moderate(101-300단어), difficult(301-1000단어)\n",
    "# 세 번째 매개변수는 각 난이도에서 선택할 최대 샘플 수를 지정함\n",
    "# 여기서는 쉬운 난이도와 중간 난이도는 0개(선택하지 않음), 어려운 난이도는 2000개를 선택함\n",
    "easy = filter_by_total_length(df, \"easy\", 0)  # 쉬운 난이도 데이터 0개 선택 (사용하지 않음)\n",
    "medium = filter_by_total_length(df, \"moderate\", 0)  # 중간 난이도 데이터 0개 선택 (사용하지 않음)\n",
    "hard = filter_by_total_length(df, \"difficult\", 2000)  # 어려운 난이도 데이터 2000개 선택\n",
    "\n",
    "# 필터링된 데이터프레임들을 하나로 합침\n",
    "# 여기서는 easy와 medium은 0개로 설정했으므로 실질적으로 hard 데이터만 사용됨\n",
    "dataset = pd.concat([easy, medium, hard])\n",
    "\n",
    "# 데이터셋을 랜덤하게 섞음(셔플링)\n",
    "# frac=1은 전체 데이터를 사용함을 의미하고, random_state=42는 재현 가능성을 위한 시드값임\n",
    "dataset = dataset.sample(frac=1, random_state=42)\n",
    "\n",
    "# 처리된 pandas DataFrame을 다시 Hugging Face 데이터셋 형식으로 변환함\n",
    "# 이는 Hugging Face의 기능(예: 배치 처리, 변환 파이프라인)을 활용하기 위함임\n",
    "dataset = Dataset.from_pandas(dataset)\n",
    "\n",
    "# 데이터셋 로딩 완료 메시지와 최종 데이터셋 크기를 출력함\n",
    "print(f\"로드 완료! 데이터셋 크기: {len(dataset)} 항목\")"
   ]
  },
  {
   "cell_type": "code",
   "execution_count": 7,
   "metadata": {},
   "outputs": [
    {
     "name": "stdout",
     "output_type": "stream",
     "text": [
      "\n",
      "데이터셋 샘플:\n",
      "instruction: Top answers in algorithm tag since 2011.\n",
      "input: CREATE TABLE Tags (\n",
      "    Id number,\n",
      "    TagName text,\n",
      "    Count number,\n",
      "    ExcerptPostId number,\n",
      "   ...\n",
      "response: SELECT Users.DisplayName, COUNT(*) AS UpVotes FROM Tags INNER JOIN PostTags ON PostTags.TagId = Tags...\n",
      "source: sede\n",
      "text: Below are sql tables schemas paired with instruction that describes a task. Using valid SQLite, writ...\n",
      "total_length: 638\n",
      "__index_level_0__: 15479\n",
      "\n",
      "2개 항목 번역 테스트:\n",
      "\n",
      "항목 1:\n",
      "원본: Top answers in algorithm tag since 2011....\n",
      "번역: 2011년 이후 알고리즘 태그에서 상위 답변....\n",
      "\n",
      "항목 2:\n",
      "원본: A bar chart for what are the number of the order dates of orders with price higher than 1000?...\n",
      "번역: 가격이 1000보다 높은 주문의 주문 날짜 수에 대한 막대 차트를 만드세요....\n"
     ]
    }
   ],
   "source": [
    "# 데이터셋의 첫 번째 샘플 항목을 출력하여 내용을 확인함\n",
    "print(\"\\n데이터셋 샘플:\")\n",
    "# 데이터셋의 첫 번째 항목(인덱스 0)을 가져옴\n",
    "sample = dataset[0]\n",
    "\n",
    "# 샘플의 모든 키-값 쌍을 순회하며 내용을 출력함\n",
    "for key, value in sample.items():\n",
    "    # 값이 문자열이고 길이가 100자를 초과하는 경우, 처음 100자만 표시하고 '...'를 추가함\n",
    "    # 이는 너무 긴 텍스트가 콘솔을 가득 채우는 것을 방지하기 위함임\n",
    "    if isinstance(value, str) and len(value) > 100:\n",
    "        print(f\"{key}: {value[:100]}...\")\n",
    "    else:\n",
    "        # 짧은 텍스트나 문자열이 아닌 값은 전체를 그대로 출력함\n",
    "        print(f\"{key}: {value}\")\n",
    "\n",
    "## 단일 항목 번역 함수 정의\n",
    "def translate_single_item(item):\n",
    "    \"\"\"\n",
    "    단일 데이터셋 항목을 영어에서 한국어로 번역하는 함수\n",
    "    \n",
    "    Args:\n",
    "        item (dict): 번역할 데이터셋 항목 (instruction, input, response 키를 포함해야 함)\n",
    "        \n",
    "    Returns:\n",
    "        str: 번역된 지시문(instruction) 또는 오류 발생 시 '번역 실패' 메시지\n",
    "    \"\"\"\n",
    "    try:\n",
    "        # OpenAI API를 호출하여 번역을 수행함\n",
    "        # GPT-4o 모델을 사용하여 높은 품질의 번역을 얻음\n",
    "        response = client.chat.completions.create(\n",
    "            model=\"gpt-4o\",  # 최신 GPT-4o 모델을 사용함\n",
    "            messages=[\n",
    "                # 시스템 프롬프트로 번역 규칙을 설정함 (SQL 구문은 번역하지 않음 등)\n",
    "                {\"role\": \"system\", \"content\": translation_system_prompt},\n",
    "                # 사용자 프롬프트에 번역할 내용을 포맷팅하여 전달함\n",
    "                # format 메서드를 사용하여 템플릿의 플레이스홀더를 실제 데이터로 채움\n",
    "                {\"role\": \"user\", \"content\": translation_user_prompt.format(\n",
    "                    instruction=item[\"instruction\"],  # 번역할 주요 지시문\n",
    "                    input=item[\"input\"],             # 참고용 입력 데이터\n",
    "                    response=item[\"response\"]        # 참고용 응답 데이터\n",
    "                )}\n",
    "            ],\n",
    "            temperature=0.0  # 온도를 0으로 설정하여 일관된 번역 결과를 얻음\n",
    "        )\n",
    "        \n",
    "        # API 응답에서 번역된 텍스트를 추출함\n",
    "        # choices[0].message.content는 AI 모델이 생성한 응답 텍스트를 가리킴\n",
    "        # strip() 메서드로 앞뒤 공백을 제거하여 깔끔한 텍스트를 얻음\n",
    "        translated_instruction = response.choices[0].message.content.strip()\n",
    "        # 번역된 텍스트를 반환함\n",
    "        return translated_instruction\n",
    "    \n",
    "    # 번역 과정에서 발생할 수 있는 모든 예외를 처리함\n",
    "    # API 호출 실패, 타임아웃, 권한 오류 등 다양한 오류가 발생할 수 있음\n",
    "    except Exception as e:\n",
    "        # 오류 메시지를 출력하여 디버깅을 용이하게 함\n",
    "        print(f\"번역 중 오류 발생: {e}\")\n",
    "        # 오류 발생 시 '번역 실패' 문자열을 반환하여 처리 가능하게 함\n",
    "        return \"번역 실패\"\n",
    "\n",
    "## 번역 테스트 함수 정의\n",
    "def test_translation(num_samples=3):\n",
    "    \"\"\"\n",
    "    지정된 수의 데이터셋 샘플을 번역하여 테스트하는 함수\n",
    "    \n",
    "    Args:\n",
    "        num_samples (int): 테스트할 샘플 수 (기본값: 3)\n",
    "    \"\"\"\n",
    "    # 테스트 시작을 알리는 메시지 출력\n",
    "    print(f\"\\n{num_samples}개 항목 번역 테스트:\")\n",
    "    \n",
    "    # 지정된 수만큼 데이터셋 항목을 순회함\n",
    "    # min() 함수를 사용하여 요청한 샘플 수가 데이터셋 크기를 초과하지 않도록 함\n",
    "    for i in range(min(num_samples, len(dataset))):\n",
    "        # 현재 인덱스의 데이터셋 항목을 가져옴\n",
    "        item = dataset[i]\n",
    "        # 항목 번호를 출력하여 구분함\n",
    "        print(f\"\\n항목 {i+1}:\")\n",
    "        # 원본 지시문의 처음 100자를 출력함 (너무 길면 '...'로 표시)\n",
    "        print(f\"원본: {item['instruction'][:100]}...\")\n",
    "        \n",
    "        # 번역 함수를 호출하여 현재 항목을 번역함\n",
    "        translated = translate_single_item(item)\n",
    "        # 번역된 텍스트의 처음 100자를 출력함 (너무 길면 '...'로 표시)\n",
    "        print(f\"번역: {translated[:100]}...\")\n",
    "\n",
    "# 테스트 함수를 호출하여 2개 항목에 대해 번역을 테스트함\n",
    "# 적은 수로 테스트하는 이유는 API 호출 비용을 절약하고 기능 확인에 충분하기 때문임\n",
    "test_translation(2)"
   ]
  },
  {
   "cell_type": "code",
   "execution_count": 8,
   "metadata": {},
   "outputs": [],
   "source": [
    "def translate_item_for_parallel(item):\n",
    "    \"\"\"pqdm 병렬 처리에 사용할 번역 함수\"\"\"\n",
    "    try:\n",
    "        # 항목 복사 - 원본 데이터를 보존하기 위해 복사본을 만드는 과정임\n",
    "        result = item.copy()\n",
    "        \n",
    "        # API 호출 - OpenAI의 GPT-4o 모델을 사용하여 번역을 수행함\n",
    "        response = client.chat.completions.create(\n",
    "            model=\"gpt-4o\",          # 사용할 AI 모델을 지정하는 매개변수임\n",
    "            messages=[               # 모델에게 전달할 메시지 목록을 구성함\n",
    "                {\"role\": \"system\", \"content\": translation_system_prompt},  # 시스템 프롬프트로 번역 작업의 기본 지침을 설정함\n",
    "                {\"role\": \"user\", \"content\": translation_user_prompt.format(  # 사용자 프롬프트를 형식화하여 번역할 내용을 전달함\n",
    "                    instruction=item[\"instruction\"],  # 지시사항 부분을 전달함\n",
    "                    input=item[\"input\"],             # 입력 데이터를 전달함\n",
    "                    response=item[\"response\"]        # 응답 데이터를 전달함\n",
    "                )}\n",
    "            ],\n",
    "            temperature=0.0  # 온도 값을 0으로 설정하여 일관된 번역 결과를 얻도록 함\n",
    "        )\n",
    "        \n",
    "        # 번역된 결과 저장 - API 응답에서 번역된 텍스트를 추출하여 결과 딕셔너리에 저장함\n",
    "        result[\"translated_instruction\"] = response.choices[0].message.content.strip()\n",
    "        return result\n",
    "    \n",
    "    except Exception as e:\n",
    "        # 오류 발생 시 원본 반환 (번역 실패 표시 추가) - 예외 처리를 통해 프로그램이 중단되지 않도록 함\n",
    "        result = item.copy()\n",
    "        result[\"translated_instruction\"] = f\"번역 실패: {str(e)[:100]}...\"  # 오류 메시지의 앞부분만 표시하여 가독성을 유지함\n",
    "        return result"
   ]
  },
  {
   "cell_type": "code",
   "execution_count": 9,
   "metadata": {},
   "outputs": [],
   "source": [
    "def translate_batch_parallel_pqdm(start_idx=0, batch_size=10, n_jobs=4):\n",
    "    \"\"\"pqdm을 사용하여 지정된 범위의 항목을 병렬로 번역함\"\"\"\n",
    "    # 작업 시작 시 기본 정보를 출력하여 사용자에게 작업 범위와 스레드 수를 알려줌\n",
    "    print(f\"\\n{batch_size}개 항목 병렬 번역 (시작 인덱스: {start_idx}, 쓰레드 수: {n_jobs}):\")\n",
    "    \n",
    "    # 번역할 항목 준비 - 전체 데이터셋에서 지정된 범위의 항목들을 추출함\n",
    "    end_idx = min(start_idx + batch_size, len(dataset))  # 데이터셋 범위를 벗어나지 않도록 끝 인덱스를 조정함\n",
    "    items_to_translate = [dataset[i] for i in range(start_idx, end_idx)]  # 번역할 항목들의 리스트를 생성함\n",
    "    \n",
    "    try:\n",
    "        # 병렬 처리 시작 전 상태 메시지를 출력하여 사용자에게 진행 상황을 알려줌\n",
    "        print(f\"{n_jobs}개의 쓰레드로 {len(items_to_translate)}개 항목 번역 중...\")\n",
    "        \n",
    "        # pqdm을 사용한 병렬 처리 - 단 한 줄의 코드로 복잡한 병렬 처리를 구현함\n",
    "        # items_to_translate: 처리할 항목들의 리스트임\n",
    "        # translate_item_for_parallel: 각 항목에 적용할 함수임\n",
    "        # n_jobs: 동시에 실행할 스레드 수를 지정함\n",
    "        # desc: 진행률 표시줄에 표시될 설명 텍스트임\n",
    "        translated_items = pqdm(items_to_translate, translate_item_for_parallel, \n",
    "                               n_jobs=n_jobs, desc=\"번역 진행 중\")\n",
    "        \n",
    "        # 성공/실패 항목 확인 - 번역 결과의 품질을 평가하기 위한 통계를 계산함\n",
    "        # 번역 실패 항목은 \"번역 실패:\" 문자열로 시작하므로, 이를 기준으로 성공 항목 수를 계산함\n",
    "        success_count = sum(1 for item in translated_items if not item[\"translated_instruction\"].startswith(\"번역 실패\"))\n",
    "        \n",
    "        # 번역 완료 후 결과 통계를 출력하여 사용자에게 작업 성과를 알려줌\n",
    "        print(f\"배치 번역 완료! 총 {len(translated_items)}개 중 {success_count}개 성공\")\n",
    "        \n",
    "        # 번역된 항목들의 리스트를 반환하여 추가 처리나 저장이 가능하게 함\n",
    "        return translated_items\n",
    "    \n",
    "    except Exception as e:\n",
    "        # 전체 병렬 처리 과정에서 예외가 발생한 경우를 처리함\n",
    "        # 오류 메시지를 출력하여 문제 진단에 도움이 되게 함\n",
    "        print(f\"병렬 처리 실패: {e}\")\n",
    "        \n",
    "        # 오류 발생 시 빈 리스트를 반환하여 호출자가 오류 상황을 처리할 수 있게 함\n",
    "        return []"
   ]
  },
  {
   "cell_type": "code",
   "execution_count": 38,
   "metadata": {},
   "outputs": [
    {
     "name": "stdout",
     "output_type": "stream",
     "text": [
      "\n",
      "2000개 항목 병렬 번역 (시작 인덱스: 0, 쓰레드 수: 4):\n",
      "4개의 쓰레드로 2000개 항목 번역 중...\n",
      "배치 번역 완료! 총 2000개 중 2000개 성공\n",
      "\n",
      "항목 1:\n",
      "원본: Top answers in algorithm tag since 2011....\n",
      "번역: 2011년 이후 알고리즘 태그에서 상위 답변....\n",
      "\n",
      "항목 2:\n",
      "원본: A bar chart for what are the number of the order dates of orders with price higher than 1000?...\n",
      "번역: 주문 가격이 1000보다 높은 주문의 주문 날짜 수에 대한 막대 차트를 만드세요....\n",
      "\n",
      "항목 3:\n",
      "원본: Do you find that PSYCH 405 is more of a challenge than PSYCH 619 ?...\n",
      "번역: PSYCH 405가 PSYCH 619보다 더 도전적인가요?...\n"
     ]
    }
   ],
   "source": [
    "# 병렬 처리로 10개 항목 번역 (4개 프로세스 사용)\n",
    "translated_batch_parallel = translate_batch_parallel_pqdm(start_idx=0, batch_size=2000, n_jobs=4)\n",
    "\n",
    "# 번역 결과 확인\n",
    "for i, item in enumerate(translated_batch_parallel[:3]):  # 처음 3개만 확인\n",
    "    print(f\"\\n항목 {i+1}:\")\n",
    "    print(f\"원본: {item['instruction'][:100]}...\")\n",
    "    print(f\"번역: {item['translated_instruction'][:100]}...\")"
   ]
  },
  {
   "cell_type": "code",
   "execution_count": 39,
   "metadata": {},
   "outputs": [
    {
     "name": "stdout",
     "output_type": "stream",
     "text": [
      "Dataset({\n",
      "    features: ['instruction', 'input', 'response', 'source', 'text', 'total_length', '__index_level_0__', 'translated_instruction'],\n",
      "    num_rows: 2000\n",
      "})\n",
      "데이터셋 크기: 2000\n",
      "컬럼: ['instruction', 'input', 'response', 'source', 'text', 'total_length', '__index_level_0__', 'translated_instruction']\n",
      "{'instruction': 'Top answers in algorithm tag since 2011.', 'input': 'CREATE TABLE Tags (\\n    Id number,\\n    TagName text,\\n    Count number,\\n    ExcerptPostId number,\\n    WikiPostId number\\n)\\n\\nCREATE TABLE PostHistory (\\n    Id number,\\n    PostHistoryTypeId number,\\n    PostId number,\\n    RevisionGUID other,\\n    CreationDate time,\\n    UserId number,\\n    UserDisplayName text,\\n    Comment text,\\n    Text text,\\n    ContentLicense text\\n)\\n\\nCREATE TABLE PostTypes (\\n    Id number,\\n    Name text\\n)\\n\\nCREATE TABLE SuggestedEditVotes (\\n    Id number,\\n    SuggestedEditId number,\\n    UserId number,\\n    VoteTypeId number,\\n    CreationDate time,\\n    TargetUserId number,\\n    TargetRepChange number\\n)\\n\\nCREATE TABLE ReviewTaskResults (\\n    Id number,\\n    ReviewTaskId number,\\n    ReviewTaskResultTypeId number,\\n    CreationDate time,\\n    RejectionReasonId number,\\n    Comment text\\n)\\n\\nCREATE TABLE FlagTypes (\\n    Id number,\\n    Name text,\\n    Description text\\n)\\n\\nCREATE TABLE PostNoticeTypes (\\n    Id number,\\n    ClassId number,\\n    Name text,\\n    Body text,\\n    IsHidden boolean,\\n    Predefined boolean,\\n    PostNoticeDurationId number\\n)\\n\\nCREATE TABLE PostsWithDeleted (\\n    Id number,\\n    PostTypeId number,\\n    AcceptedAnswerId number,\\n    ParentId number,\\n    CreationDate time,\\n    DeletionDate time,\\n    Score number,\\n    ViewCount number,\\n    Body text,\\n    OwnerUserId number,\\n    OwnerDisplayName text,\\n    LastEditorUserId number,\\n    LastEditorDisplayName text,\\n    LastEditDate time,\\n    LastActivityDate time,\\n    Title text,\\n    Tags text,\\n    AnswerCount number,\\n    CommentCount number,\\n    FavoriteCount number,\\n    ClosedDate time,\\n    CommunityOwnedDate time,\\n    ContentLicense text\\n)\\n\\nCREATE TABLE PostNotices (\\n    Id number,\\n    PostId number,\\n    PostNoticeTypeId number,\\n    CreationDate time,\\n    DeletionDate time,\\n    ExpiryDate time,\\n    Body text,\\n    OwnerUserId number,\\n    DeletionUserId number\\n)\\n\\nCREATE TABLE CloseReasonTypes (\\n    Id number,\\n    Name text,\\n    Description text\\n)\\n\\nCREATE TABLE ReviewTaskTypes (\\n    Id number,\\n    Name text,\\n    Description text\\n)\\n\\nCREATE TABLE Comments (\\n    Id number,\\n    PostId number,\\n    Score number,\\n    Text text,\\n    CreationDate time,\\n    UserDisplayName text,\\n    UserId number,\\n    ContentLicense text\\n)\\n\\nCREATE TABLE ReviewTaskResultTypes (\\n    Id number,\\n    Name text,\\n    Description text\\n)\\n\\nCREATE TABLE PendingFlags (\\n    Id number,\\n    FlagTypeId number,\\n    PostId number,\\n    CreationDate time,\\n    CloseReasonTypeId number,\\n    CloseAsOffTopicReasonTypeId number,\\n    DuplicateOfQuestionId number,\\n    BelongsOnBaseHostAddress text\\n)\\n\\nCREATE TABLE CloseAsOffTopicReasonTypes (\\n    Id number,\\n    IsUniversal boolean,\\n    InputTitle text,\\n    MarkdownInputGuidance text,\\n    MarkdownPostOwnerGuidance text,\\n    MarkdownPrivilegedUserGuidance text,\\n    MarkdownConcensusDescription text,\\n    CreationDate time,\\n    CreationModeratorId number,\\n    ApprovalDate time,\\n    ApprovalModeratorId number,\\n    DeactivationDate time,\\n    DeactivationModeratorId number\\n)\\n\\nCREATE TABLE Users (\\n    Id number,\\n    Reputation number,\\n    CreationDate time,\\n    DisplayName text,\\n    LastAccessDate time,\\n    WebsiteUrl text,\\n    Location text,\\n    AboutMe text,\\n    Views number,\\n    UpVotes number,\\n    DownVotes number,\\n    ProfileImageUrl text,\\n    EmailHash text,\\n    AccountId number\\n)\\n\\nCREATE TABLE PostFeedback (\\n    Id number,\\n    PostId number,\\n    IsAnonymous boolean,\\n    VoteTypeId number,\\n    CreationDate time\\n)\\n\\nCREATE TABLE ReviewTaskStates (\\n    Id number,\\n    Name text,\\n    Description text\\n)\\n\\nCREATE TABLE Posts (\\n    Id number,\\n    PostTypeId number,\\n    AcceptedAnswerId number,\\n    ParentId number,\\n    CreationDate time,\\n    DeletionDate time,\\n    Score number,\\n    ViewCount number,\\n    Body text,\\n    OwnerUserId number,\\n    OwnerDisplayName text,\\n    LastEditorUserId number,\\n    LastEditorDisplayName text,\\n    LastEditDate time,\\n    LastActivityDate time,\\n    Title text,\\n    Tags text,\\n    AnswerCount number,\\n    CommentCount number,\\n    FavoriteCount number,\\n    ClosedDate time,\\n    CommunityOwnedDate time,\\n    ContentLicense text\\n)\\n\\nCREATE TABLE SuggestedEdits (\\n    Id number,\\n    PostId number,\\n    CreationDate time,\\n    ApprovalDate time,\\n    RejectionDate time,\\n    OwnerUserId number,\\n    Comment text,\\n    Text text,\\n    Title text,\\n    Tags text,\\n    RevisionGUID other\\n)\\n\\nCREATE TABLE PostLinks (\\n    Id number,\\n    CreationDate time,\\n    PostId number,\\n    RelatedPostId number,\\n    LinkTypeId number\\n)\\n\\nCREATE TABLE TagSynonyms (\\n    Id number,\\n    SourceTagName text,\\n    TargetTagName text,\\n    CreationDate time,\\n    OwnerUserId number,\\n    AutoRenameCount number,\\n    LastAutoRename time,\\n    Score number,\\n    ApprovedByUserId number,\\n    ApprovalDate time\\n)\\n\\nCREATE TABLE Votes (\\n    Id number,\\n    PostId number,\\n    VoteTypeId number,\\n    UserId number,\\n    CreationDate time,\\n    BountyAmount number\\n)\\n\\nCREATE TABLE ReviewTasks (\\n    Id number,\\n    ReviewTaskTypeId number,\\n    CreationDate time,\\n    DeletionDate time,\\n    ReviewTaskStateId number,\\n    PostId number,\\n    SuggestedEditId number,\\n    CompletedByReviewTaskId number\\n)\\n\\nCREATE TABLE PostHistoryTypes (\\n    Id number,\\n    Name text\\n)\\n\\nCREATE TABLE PostTags (\\n    PostId number,\\n    TagId number\\n)\\n\\nCREATE TABLE Badges (\\n    Id number,\\n    UserId number,\\n    Name text,\\n    Date time,\\n    Class number,\\n    TagBased boolean\\n)\\n\\nCREATE TABLE ReviewRejectionReasons (\\n    Id number,\\n    Name text,\\n    Description text,\\n    PostTypeId number\\n)\\n\\nCREATE TABLE VoteTypes (\\n    Id number,\\n    Name text\\n)', 'response': \"SELECT Users.DisplayName, COUNT(*) AS UpVotes FROM Tags INNER JOIN PostTags ON PostTags.TagId = Tags.Id INNER JOIN Posts ON Posts.ParentId = PostTags.PostId INNER JOIN Votes ON Votes.PostId = Posts.Id INNER JOIN Users ON Posts.OwnerUserId = Users.Id WHERE Votes.VoteTypeId = 2 AND Posts.CommunityOwnedDate IS NULL AND Tags.TagName = 'algorithm' AND Posts.CreationDate > '2011/01/01' AND Posts.CreationDate < '2013/10/01' GROUP BY Users.DisplayName ORDER BY UpVotes DESC LIMIT 20\", 'source': 'sede', 'text': \"Below are sql tables schemas paired with instruction that describes a task. Using valid SQLite, write a response that appropriately completes the request for the provided tables. ### Instruction: Top answers in algorithm tag since 2011. ### Input: CREATE TABLE Tags (\\n    Id number,\\n    TagName text,\\n    Count number,\\n    ExcerptPostId number,\\n    WikiPostId number\\n)\\n\\nCREATE TABLE PostHistory (\\n    Id number,\\n    PostHistoryTypeId number,\\n    PostId number,\\n    RevisionGUID other,\\n    CreationDate time,\\n    UserId number,\\n    UserDisplayName text,\\n    Comment text,\\n    Text text,\\n    ContentLicense text\\n)\\n\\nCREATE TABLE PostTypes (\\n    Id number,\\n    Name text\\n)\\n\\nCREATE TABLE SuggestedEditVotes (\\n    Id number,\\n    SuggestedEditId number,\\n    UserId number,\\n    VoteTypeId number,\\n    CreationDate time,\\n    TargetUserId number,\\n    TargetRepChange number\\n)\\n\\nCREATE TABLE ReviewTaskResults (\\n    Id number,\\n    ReviewTaskId number,\\n    ReviewTaskResultTypeId number,\\n    CreationDate time,\\n    RejectionReasonId number,\\n    Comment text\\n)\\n\\nCREATE TABLE FlagTypes (\\n    Id number,\\n    Name text,\\n    Description text\\n)\\n\\nCREATE TABLE PostNoticeTypes (\\n    Id number,\\n    ClassId number,\\n    Name text,\\n    Body text,\\n    IsHidden boolean,\\n    Predefined boolean,\\n    PostNoticeDurationId number\\n)\\n\\nCREATE TABLE PostsWithDeleted (\\n    Id number,\\n    PostTypeId number,\\n    AcceptedAnswerId number,\\n    ParentId number,\\n    CreationDate time,\\n    DeletionDate time,\\n    Score number,\\n    ViewCount number,\\n    Body text,\\n    OwnerUserId number,\\n    OwnerDisplayName text,\\n    LastEditorUserId number,\\n    LastEditorDisplayName text,\\n    LastEditDate time,\\n    LastActivityDate time,\\n    Title text,\\n    Tags text,\\n    AnswerCount number,\\n    CommentCount number,\\n    FavoriteCount number,\\n    ClosedDate time,\\n    CommunityOwnedDate time,\\n    ContentLicense text\\n)\\n\\nCREATE TABLE PostNotices (\\n    Id number,\\n    PostId number,\\n    PostNoticeTypeId number,\\n    CreationDate time,\\n    DeletionDate time,\\n    ExpiryDate time,\\n    Body text,\\n    OwnerUserId number,\\n    DeletionUserId number\\n)\\n\\nCREATE TABLE CloseReasonTypes (\\n    Id number,\\n    Name text,\\n    Description text\\n)\\n\\nCREATE TABLE ReviewTaskTypes (\\n    Id number,\\n    Name text,\\n    Description text\\n)\\n\\nCREATE TABLE Comments (\\n    Id number,\\n    PostId number,\\n    Score number,\\n    Text text,\\n    CreationDate time,\\n    UserDisplayName text,\\n    UserId number,\\n    ContentLicense text\\n)\\n\\nCREATE TABLE ReviewTaskResultTypes (\\n    Id number,\\n    Name text,\\n    Description text\\n)\\n\\nCREATE TABLE PendingFlags (\\n    Id number,\\n    FlagTypeId number,\\n    PostId number,\\n    CreationDate time,\\n    CloseReasonTypeId number,\\n    CloseAsOffTopicReasonTypeId number,\\n    DuplicateOfQuestionId number,\\n    BelongsOnBaseHostAddress text\\n)\\n\\nCREATE TABLE CloseAsOffTopicReasonTypes (\\n    Id number,\\n    IsUniversal boolean,\\n    InputTitle text,\\n    MarkdownInputGuidance text,\\n    MarkdownPostOwnerGuidance text,\\n    MarkdownPrivilegedUserGuidance text,\\n    MarkdownConcensusDescription text,\\n    CreationDate time,\\n    CreationModeratorId number,\\n    ApprovalDate time,\\n    ApprovalModeratorId number,\\n    DeactivationDate time,\\n    DeactivationModeratorId number\\n)\\n\\nCREATE TABLE Users (\\n    Id number,\\n    Reputation number,\\n    CreationDate time,\\n    DisplayName text,\\n    LastAccessDate time,\\n    WebsiteUrl text,\\n    Location text,\\n    AboutMe text,\\n    Views number,\\n    UpVotes number,\\n    DownVotes number,\\n    ProfileImageUrl text,\\n    EmailHash text,\\n    AccountId number\\n)\\n\\nCREATE TABLE PostFeedback (\\n    Id number,\\n    PostId number,\\n    IsAnonymous boolean,\\n    VoteTypeId number,\\n    CreationDate time\\n)\\n\\nCREATE TABLE ReviewTaskStates (\\n    Id number,\\n    Name text,\\n    Description text\\n)\\n\\nCREATE TABLE Posts (\\n    Id number,\\n    PostTypeId number,\\n    AcceptedAnswerId number,\\n    ParentId number,\\n    CreationDate time,\\n    DeletionDate time,\\n    Score number,\\n    ViewCount number,\\n    Body text,\\n    OwnerUserId number,\\n    OwnerDisplayName text,\\n    LastEditorUserId number,\\n    LastEditorDisplayName text,\\n    LastEditDate time,\\n    LastActivityDate time,\\n    Title text,\\n    Tags text,\\n    AnswerCount number,\\n    CommentCount number,\\n    FavoriteCount number,\\n    ClosedDate time,\\n    CommunityOwnedDate time,\\n    ContentLicense text\\n)\\n\\nCREATE TABLE SuggestedEdits (\\n    Id number,\\n    PostId number,\\n    CreationDate time,\\n    ApprovalDate time,\\n    RejectionDate time,\\n    OwnerUserId number,\\n    Comment text,\\n    Text text,\\n    Title text,\\n    Tags text,\\n    RevisionGUID other\\n)\\n\\nCREATE TABLE PostLinks (\\n    Id number,\\n    CreationDate time,\\n    PostId number,\\n    RelatedPostId number,\\n    LinkTypeId number\\n)\\n\\nCREATE TABLE TagSynonyms (\\n    Id number,\\n    SourceTagName text,\\n    TargetTagName text,\\n    CreationDate time,\\n    OwnerUserId number,\\n    AutoRenameCount number,\\n    LastAutoRename time,\\n    Score number,\\n    ApprovedByUserId number,\\n    ApprovalDate time\\n)\\n\\nCREATE TABLE Votes (\\n    Id number,\\n    PostId number,\\n    VoteTypeId number,\\n    UserId number,\\n    CreationDate time,\\n    BountyAmount number\\n)\\n\\nCREATE TABLE ReviewTasks (\\n    Id number,\\n    ReviewTaskTypeId number,\\n    CreationDate time,\\n    DeletionDate time,\\n    ReviewTaskStateId number,\\n    PostId number,\\n    SuggestedEditId number,\\n    CompletedByReviewTaskId number\\n)\\n\\nCREATE TABLE PostHistoryTypes (\\n    Id number,\\n    Name text\\n)\\n\\nCREATE TABLE PostTags (\\n    PostId number,\\n    TagId number\\n)\\n\\nCREATE TABLE Badges (\\n    Id number,\\n    UserId number,\\n    Name text,\\n    Date time,\\n    Class number,\\n    TagBased boolean\\n)\\n\\nCREATE TABLE ReviewRejectionReasons (\\n    Id number,\\n    Name text,\\n    Description text,\\n    PostTypeId number\\n)\\n\\nCREATE TABLE VoteTypes (\\n    Id number,\\n    Name text\\n) ### Response: SELECT Users.DisplayName, COUNT(*) AS UpVotes FROM Tags INNER JOIN PostTags ON PostTags.TagId = Tags.Id INNER JOIN Posts ON Posts.ParentId = PostTags.PostId INNER JOIN Votes ON Votes.PostId = Posts.Id INNER JOIN Users ON Posts.OwnerUserId = Users.Id WHERE Votes.VoteTypeId = 2 AND Posts.CommunityOwnedDate IS NULL AND Tags.TagName = 'algorithm' AND Posts.CreationDate > '2011/01/01' AND Posts.CreationDate < '2013/10/01' GROUP BY Users.DisplayName ORDER BY UpVotes DESC LIMIT 20\", 'total_length': 638, '__index_level_0__': 15479, 'translated_instruction': '2011년 이후 알고리즘 태그에서 상위 답변.'}\n"
     ]
    }
   ],
   "source": [
    "from datasets import Dataset\n",
    "\n",
    "# 번역이 완료된 딕셔너리 리스트가 있다고 가정합니다\n",
    "# 예: translated_batch_parallel\n",
    "\n",
    "# Dataset 객체로 변환\n",
    "hf_dataset = Dataset.from_list(translated_batch_parallel)\n",
    "\n",
    "# 데이터셋 정보 확인\n",
    "print(hf_dataset)\n",
    "print(f\"데이터셋 크기: {len(hf_dataset)}\")\n",
    "print(f\"컬럼: {hf_dataset.column_names}\")\n",
    "\n",
    "# 샘플 데이터 확인\n",
    "print(hf_dataset[0])"
   ]
  },
  {
   "cell_type": "markdown",
   "metadata": {},
   "source": [
    "# 데이터만들기"
   ]
  },
  {
   "cell_type": "code",
   "execution_count": 41,
   "metadata": {},
   "outputs": [
    {
     "name": "stderr",
     "output_type": "stream",
     "text": [
      "Map: 100%|██████████| 2000/2000 [00:00<00:00, 42989.40 examples/s]\n"
     ]
    }
   ],
   "source": [
    "# 배치 단위로 처리 (대량 데이터에 효율적)\n",
    "def process_batch(examples):\n",
    "    # 배치에 있는 모든 예제에 대해 새 컬럼 생성 - 배치 처리의 결과물을 담을 빈 리스트를 초기화함\n",
    "    new_texts = []\n",
    "    \n",
    "    # 배치 내의 각 항목을 순회하며 처리함 - 배치는 여러 항목의 컬럼별 데이터를 담고 있는 딕셔너리 형태임\n",
    "    for i in range(len(examples[\"instruction\"])):\n",
    "        # 번역된 지시사항이 있으면 이를 사용하고, 없으면 원본 지시사항을 사용함 - 데이터 처리 과정의 유연성을 제공함\n",
    "        instruction = examples[\"translated_instruction\"][i] if \"translated_instruction\" in examples else examples[\"instruction\"][i]\n",
    "        \n",
    "        # 현재 항목의 입력 텍스트와 응답을 가져옴 - 이들은 SQL 쿼리 생성을 위한 컨텍스트로 사용됨\n",
    "        input_text = examples[\"input\"][i]\n",
    "        response = examples[\"response\"][i]  # 이 변수는 현재 사용되지 않지만, 나중에 확장 가능하도록 준비된 것으로 보임\n",
    "        \n",
    "        # 새로운 입력 텍스트를 구성함 - SQL 쿼리 생성을 위한 프롬프트 형식을 정의함\n",
    "        new_text = f\"\"\"다음은 SQL 테이블 스키마와 수행할 작업에 대한 설명입니다. SQLite 문법에 맞는 쿼리만 작성해주세요. 설명이나 주석 없이 실행 가능한 SQL 쿼리 코드만 출력하세요.\n",
    "### Instruction: {instruction}\n",
    "### Input: {input_text}\n",
    "\"\"\"\n",
    "        \n",
    "        # 생성된 새 텍스트를 결과 리스트에 추가함 - 모든 항목에 대한 처리 결과를 모음\n",
    "        new_texts.append(new_text)\n",
    "    \n",
    "    # 데이터셋에 새 컬럼 추가 - 원본 데이터를 유지하면서 처리된 결과를 새 컬럼으로 추가함\n",
    "    examples[\"new_input\"] = new_texts\n",
    "    \n",
    "    # 수정된 examples 딕셔너리를 반환함 - Hugging Face 데이터셋의 map 메서드는 이 반환값을 사용하여 데이터셋을 업데이트함\n",
    "    return examples\n",
    "\n",
    "# 배치 크기 지정하여 적용 - 데이터셋의 map 메서드로 배치 처리 함수를 적용함\n",
    "# batched=True: 배치 모드 활성화하여 데이터를 배치 단위로 처리함\n",
    "# batch_size=100: 한 번에 100개 항목을 처리하여 메모리 효율성과 처리 속도 간의 균형을 맞춤\n",
    "updated_dataset = hf_dataset.map(process_batch, batched=True, batch_size=100)"
   ]
  },
  {
   "cell_type": "code",
   "execution_count": 42,
   "metadata": {},
   "outputs": [
    {
     "data": {
      "text/plain": [
       "Dataset({\n",
       "    features: ['instruction', 'input', 'response', 'source', 'text', 'total_length', '__index_level_0__', 'translated_instruction', 'new_input'],\n",
       "    num_rows: 2000\n",
       "})"
      ]
     },
     "execution_count": 42,
     "metadata": {},
     "output_type": "execute_result"
    }
   ],
   "source": [
    "updated_dataset"
   ]
  },
  {
   "cell_type": "code",
   "execution_count": 43,
   "metadata": {},
   "outputs": [
    {
     "data": {
      "text/plain": [
       "'다음은 SQL 테이블 스키마와 수행할 작업에 대한 설명입니다. SQLite 문법에 맞는 쿼리만 작성해주세요. 설명이나 주석 없이 실행 가능한 SQL 쿼리 코드만 출력하세요.\\n### Instruction: 2011년 이후 알고리즘 태그에서 상위 답변.\\n### Input: CREATE TABLE Tags (\\n    Id number,\\n    TagName text,\\n    Count number,\\n    ExcerptPostId number,\\n    WikiPostId number\\n)\\n\\nCREATE TABLE PostHistory (\\n    Id number,\\n    PostHistoryTypeId number,\\n    PostId number,\\n    RevisionGUID other,\\n    CreationDate time,\\n    UserId number,\\n    UserDisplayName text,\\n    Comment text,\\n    Text text,\\n    ContentLicense text\\n)\\n\\nCREATE TABLE PostTypes (\\n    Id number,\\n    Name text\\n)\\n\\nCREATE TABLE SuggestedEditVotes (\\n    Id number,\\n    SuggestedEditId number,\\n    UserId number,\\n    VoteTypeId number,\\n    CreationDate time,\\n    TargetUserId number,\\n    TargetRepChange number\\n)\\n\\nCREATE TABLE ReviewTaskResults (\\n    Id number,\\n    ReviewTaskId number,\\n    ReviewTaskResultTypeId number,\\n    CreationDate time,\\n    RejectionReasonId number,\\n    Comment text\\n)\\n\\nCREATE TABLE FlagTypes (\\n    Id number,\\n    Name text,\\n    Description text\\n)\\n\\nCREATE TABLE PostNoticeTypes (\\n    Id number,\\n    ClassId number,\\n    Name text,\\n    Body text,\\n    IsHidden boolean,\\n    Predefined boolean,\\n    PostNoticeDurationId number\\n)\\n\\nCREATE TABLE PostsWithDeleted (\\n    Id number,\\n    PostTypeId number,\\n    AcceptedAnswerId number,\\n    ParentId number,\\n    CreationDate time,\\n    DeletionDate time,\\n    Score number,\\n    ViewCount number,\\n    Body text,\\n    OwnerUserId number,\\n    OwnerDisplayName text,\\n    LastEditorUserId number,\\n    LastEditorDisplayName text,\\n    LastEditDate time,\\n    LastActivityDate time,\\n    Title text,\\n    Tags text,\\n    AnswerCount number,\\n    CommentCount number,\\n    FavoriteCount number,\\n    ClosedDate time,\\n    CommunityOwnedDate time,\\n    ContentLicense text\\n)\\n\\nCREATE TABLE PostNotices (\\n    Id number,\\n    PostId number,\\n    PostNoticeTypeId number,\\n    CreationDate time,\\n    DeletionDate time,\\n    ExpiryDate time,\\n    Body text,\\n    OwnerUserId number,\\n    DeletionUserId number\\n)\\n\\nCREATE TABLE CloseReasonTypes (\\n    Id number,\\n    Name text,\\n    Description text\\n)\\n\\nCREATE TABLE ReviewTaskTypes (\\n    Id number,\\n    Name text,\\n    Description text\\n)\\n\\nCREATE TABLE Comments (\\n    Id number,\\n    PostId number,\\n    Score number,\\n    Text text,\\n    CreationDate time,\\n    UserDisplayName text,\\n    UserId number,\\n    ContentLicense text\\n)\\n\\nCREATE TABLE ReviewTaskResultTypes (\\n    Id number,\\n    Name text,\\n    Description text\\n)\\n\\nCREATE TABLE PendingFlags (\\n    Id number,\\n    FlagTypeId number,\\n    PostId number,\\n    CreationDate time,\\n    CloseReasonTypeId number,\\n    CloseAsOffTopicReasonTypeId number,\\n    DuplicateOfQuestionId number,\\n    BelongsOnBaseHostAddress text\\n)\\n\\nCREATE TABLE CloseAsOffTopicReasonTypes (\\n    Id number,\\n    IsUniversal boolean,\\n    InputTitle text,\\n    MarkdownInputGuidance text,\\n    MarkdownPostOwnerGuidance text,\\n    MarkdownPrivilegedUserGuidance text,\\n    MarkdownConcensusDescription text,\\n    CreationDate time,\\n    CreationModeratorId number,\\n    ApprovalDate time,\\n    ApprovalModeratorId number,\\n    DeactivationDate time,\\n    DeactivationModeratorId number\\n)\\n\\nCREATE TABLE Users (\\n    Id number,\\n    Reputation number,\\n    CreationDate time,\\n    DisplayName text,\\n    LastAccessDate time,\\n    WebsiteUrl text,\\n    Location text,\\n    AboutMe text,\\n    Views number,\\n    UpVotes number,\\n    DownVotes number,\\n    ProfileImageUrl text,\\n    EmailHash text,\\n    AccountId number\\n)\\n\\nCREATE TABLE PostFeedback (\\n    Id number,\\n    PostId number,\\n    IsAnonymous boolean,\\n    VoteTypeId number,\\n    CreationDate time\\n)\\n\\nCREATE TABLE ReviewTaskStates (\\n    Id number,\\n    Name text,\\n    Description text\\n)\\n\\nCREATE TABLE Posts (\\n    Id number,\\n    PostTypeId number,\\n    AcceptedAnswerId number,\\n    ParentId number,\\n    CreationDate time,\\n    DeletionDate time,\\n    Score number,\\n    ViewCount number,\\n    Body text,\\n    OwnerUserId number,\\n    OwnerDisplayName text,\\n    LastEditorUserId number,\\n    LastEditorDisplayName text,\\n    LastEditDate time,\\n    LastActivityDate time,\\n    Title text,\\n    Tags text,\\n    AnswerCount number,\\n    CommentCount number,\\n    FavoriteCount number,\\n    ClosedDate time,\\n    CommunityOwnedDate time,\\n    ContentLicense text\\n)\\n\\nCREATE TABLE SuggestedEdits (\\n    Id number,\\n    PostId number,\\n    CreationDate time,\\n    ApprovalDate time,\\n    RejectionDate time,\\n    OwnerUserId number,\\n    Comment text,\\n    Text text,\\n    Title text,\\n    Tags text,\\n    RevisionGUID other\\n)\\n\\nCREATE TABLE PostLinks (\\n    Id number,\\n    CreationDate time,\\n    PostId number,\\n    RelatedPostId number,\\n    LinkTypeId number\\n)\\n\\nCREATE TABLE TagSynonyms (\\n    Id number,\\n    SourceTagName text,\\n    TargetTagName text,\\n    CreationDate time,\\n    OwnerUserId number,\\n    AutoRenameCount number,\\n    LastAutoRename time,\\n    Score number,\\n    ApprovedByUserId number,\\n    ApprovalDate time\\n)\\n\\nCREATE TABLE Votes (\\n    Id number,\\n    PostId number,\\n    VoteTypeId number,\\n    UserId number,\\n    CreationDate time,\\n    BountyAmount number\\n)\\n\\nCREATE TABLE ReviewTasks (\\n    Id number,\\n    ReviewTaskTypeId number,\\n    CreationDate time,\\n    DeletionDate time,\\n    ReviewTaskStateId number,\\n    PostId number,\\n    SuggestedEditId number,\\n    CompletedByReviewTaskId number\\n)\\n\\nCREATE TABLE PostHistoryTypes (\\n    Id number,\\n    Name text\\n)\\n\\nCREATE TABLE PostTags (\\n    PostId number,\\n    TagId number\\n)\\n\\nCREATE TABLE Badges (\\n    Id number,\\n    UserId number,\\n    Name text,\\n    Date time,\\n    Class number,\\n    TagBased boolean\\n)\\n\\nCREATE TABLE ReviewRejectionReasons (\\n    Id number,\\n    Name text,\\n    Description text,\\n    PostTypeId number\\n)\\n\\nCREATE TABLE VoteTypes (\\n    Id number,\\n    Name text\\n)\\n'"
      ]
     },
     "execution_count": 43,
     "metadata": {},
     "output_type": "execute_result"
    }
   ],
   "source": [
    "updated_dataset[\"new_input\"][0]"
   ]
  },
  {
   "cell_type": "code",
   "execution_count": null,
   "metadata": {},
   "outputs": [],
   "source": [
    "updated_dataset.push_to_hub(\"daje/kotext-to-sql-v1-hard\")"
   ]
  },
  {
   "cell_type": "markdown",
   "metadata": {},
   "source": [
    "# 학습 전 성능 테스트"
   ]
  },
  {
   "cell_type": "markdown",
   "metadata": {},
   "source": [
    "## vLLM "
   ]
  },
  {
   "cell_type": "markdown",
   "metadata": {},
   "source": [
    "vLLM으로 inference를 진행합니다.   \n",
    "아래 명령어를 별도의 터미널에 실행해주세요. \n"
   ]
  },
  {
   "cell_type": "markdown",
   "metadata": {},
   "source": [
    "```\n",
    "CUDA_VISIBLE_DEVICES=2 vllm serve \"Qwen/Qwen2.5-Coder-7B-Instruct\" --tensor-parallel-size 1 --host 0.0.0.0 --port 8100\n",
    "```"
   ]
  },
  {
   "cell_type": "code",
   "execution_count": 51,
   "metadata": {},
   "outputs": [],
   "source": [
    "# requests 라이브러리를 가져와 HTTP 요청을 보낼 수 있게 함\n",
    "import requests\n",
    "\n",
    "def get_response(input_text):\n",
    "    # vLLM API 엔드포인트 URL을 지정함 - 로컬 서버의 8100 포트로 설정되어 있음\n",
    "    url = \"http://localhost:8100/v1/chat/completions\"\n",
    "\n",
    "    # HTTP 요청 헤더를 설정함 - Content-Type을 application/json으로 지정하여 JSON 형식의 데이터를 전송함을 서버에 알림\n",
    "    headers = {\n",
    "        \"Content-Type\": \"application/json\",\n",
    "    }\n",
    "\n",
    "    # API 요청에 필요한 데이터를 JSON 형식으로 구성함\n",
    "    data = {\n",
    "        \"model\": \"Qwen/Qwen2.5-Coder-7B-Instruct\",  # 사용할 모델을 지정함 - Qwen의 코더 특화 모델임\n",
    "        \"messages\": [                               # 대화 메시지 배열 구성\n",
    "            {\n",
    "                \"role\": \"user\",                     # 메시지 역할을 사용자로 지정함\n",
    "                \"content\": f\"{input_text}\"          # 함수 인자로 받은 입력 텍스트를 메시지 내용으로 설정함\n",
    "            }\n",
    "        ]\n",
    "    }\n",
    "\n",
    "    # POST 요청을 보내고 응답을 받음 - headers와 data를 JSON 형식으로 전송함\n",
    "    response = requests.post(url, headers=headers, json=data)\n",
    "\n",
    "    # 응답 상태 코드를 확인하여 성공(200)인 경우와 실패한 경우를 분기 처리함\n",
    "    if response.status_code == 200:\n",
    "        # 응답이 성공적이면 JSON으로 파싱하여 결과를 추출함\n",
    "        result = response.json()\n",
    "        \n",
    "        # 주석 처리된 코드: SQL 코드만 추출하는 부분 - 현재는 전체 응답을 반환하도록 변경됨\n",
    "        # return result[\"choices\"][0][\"message\"][\"content\"].split(\"```sql\")[1].split(\"```\")[0]\n",
    "        \n",
    "        # 모델의 응답 내용을 반환함 - choices 배열의 첫 번째 항목에서 메시지 내용을 가져옴\n",
    "        return result[\"choices\"][0][\"message\"][\"content\"]\n",
    "    else:\n",
    "        # 요청이 실패한 경우 오류 메시지를 생성하여 반환함 - 디버깅을 위한 정보 포함\n",
    "        return f\"Request failed: {response.status_code}, {response.text}\""
   ]
  },
  {
   "cell_type": "code",
   "execution_count": 49,
   "metadata": {},
   "outputs": [
    {
     "name": "stdout",
     "output_type": "stream",
     "text": [
      "다음은 SQL 테이블 스키마와 수행할 작업에 대한 설명입니다. SQLite 문법에 맞는 쿼리만 작성해주세요. 설명이나 주석 없이 실행 가능한 SQL 쿼리 코드만 출력하세요.\n",
      "### Instruction: 주문 가격이 1000보다 높은 주문의 주문 날짜 수에 대한 막대 차트를 만드세요.\n",
      "### Input: CREATE TABLE Addresses (\n",
      "    Address_ID VARCHAR(100),\n",
      "    Line_1 VARCHAR(255),\n",
      "    Line_2 VARCHAR(255),\n",
      "    City_Town VARCHAR(255),\n",
      "    State_County VARCHAR(255),\n",
      "    Other_Details VARCHAR(255)\n",
      ")\n",
      "\n",
      "CREATE TABLE Ref_Service_Types (\n",
      "    Service_Type_Code CHAR(15),\n",
      "    Parent_Service_Type_Code CHAR(15),\n",
      "    Service_Type_Description VARCHAR(255)\n",
      ")\n",
      "\n",
      "CREATE TABLE Clients (\n",
      "    Client_ID INTEGER,\n",
      "    Address_ID INTEGER,\n",
      "    Customer_Email_Address VARCHAR(255),\n",
      "    Customer_Name VARCHAR(255),\n",
      "    Customer_Phone VARCHAR(255),\n",
      "    Other_Details VARCHAR(255)\n",
      ")\n",
      "\n",
      "CREATE TABLE Products (\n",
      "    Product_ID VARCHAR(100),\n",
      "    Product_Name VARCHAR(255),\n",
      "    Product_Price DECIMAL(20,4),\n",
      "    Product_Description VARCHAR(255),\n",
      "    Other_Product_Service_Details VARCHAR(255)\n",
      ")\n",
      "\n",
      "CREATE TABLE Performers (\n",
      "    Performer_ID INTEGER,\n",
      "    Address_ID INTEGER,\n",
      "    Customer_Name VARCHAR(255),\n",
      "    Customer_Phone VARCHAR(255),\n",
      "    Customer_Email_Address VARCHAR(255),\n",
      "    Other_Details VARCHAR(255)\n",
      ")\n",
      "\n",
      "CREATE TABLE Performers_in_Bookings (\n",
      "    Order_ID INTEGER,\n",
      "    Performer_ID INTEGER\n",
      ")\n",
      "\n",
      "CREATE TABLE Customers (\n",
      "    Customer_ID VARCHAR(100),\n",
      "    Address_ID INTEGER,\n",
      "    Customer_Name VARCHAR(255),\n",
      "    Customer_Phone VARCHAR(255),\n",
      "    Customer_Email_Address VARCHAR(255),\n",
      "    Other_Details VARCHAR(255)\n",
      ")\n",
      "\n",
      "CREATE TABLE Invoices (\n",
      "    Invoice_ID INTEGER,\n",
      "    Order_ID INTEGER,\n",
      "    payment_method_code CHAR(15),\n",
      "    Product_ID INTEGER,\n",
      "    Order_Quantity VARCHAR(288),\n",
      "    Other_Item_Details VARCHAR(255),\n",
      "    Order_Item_ID INTEGER\n",
      ")\n",
      "\n",
      "CREATE TABLE Order_Items (\n",
      "    Order_Item_ID INTEGER,\n",
      "    Order_ID INTEGER,\n",
      "    Product_ID INTEGER,\n",
      "    Order_Quantity VARCHAR(288),\n",
      "    Other_Item_Details VARCHAR(255)\n",
      ")\n",
      "\n",
      "CREATE TABLE Ref_Payment_Methods (\n",
      "    payment_method_code CHAR(10),\n",
      "    payment_method_description VARCHAR(80)\n",
      ")\n",
      "\n",
      "CREATE TABLE Drama_Workshop_Groups (\n",
      "    Workshop_Group_ID INTEGER,\n",
      "    Address_ID INTEGER,\n",
      "    Currency_Code CHAR(15),\n",
      "    Marketing_Region_Code CHAR(15),\n",
      "    Store_Name VARCHAR(255),\n",
      "    Store_Phone VARCHAR(255),\n",
      "    Store_Email_Address VARCHAR(255),\n",
      "    Other_Details VARCHAR(255)\n",
      ")\n",
      "\n",
      "CREATE TABLE Bookings (\n",
      "    Booking_ID INTEGER,\n",
      "    Customer_ID INTEGER,\n",
      "    Workshop_Group_ID VARCHAR(100),\n",
      "    Status_Code CHAR(15),\n",
      "    Store_ID INTEGER,\n",
      "    Order_Date DATETIME,\n",
      "    Planned_Delivery_Date DATETIME,\n",
      "    Actual_Delivery_Date DATETIME,\n",
      "    Other_Order_Details VARCHAR(255)\n",
      ")\n",
      "\n",
      "CREATE TABLE Invoice_Items (\n",
      "    Invoice_Item_ID INTEGER,\n",
      "    Invoice_ID INTEGER,\n",
      "    Order_ID INTEGER,\n",
      "    Order_Item_ID INTEGER,\n",
      "    Product_ID INTEGER,\n",
      "    Order_Quantity INTEGER,\n",
      "    Other_Item_Details VARCHAR(255)\n",
      ")\n",
      "\n",
      "CREATE TABLE Stores (\n",
      "    Store_ID VARCHAR(100),\n",
      "    Address_ID INTEGER,\n",
      "    Marketing_Region_Code CHAR(15),\n",
      "    Store_Name VARCHAR(255),\n",
      "    Store_Phone VARCHAR(255),\n",
      "    Store_Email_Address VARCHAR(255),\n",
      "    Other_Details VARCHAR(255)\n",
      ")\n",
      "\n",
      "CREATE TABLE Marketing_Regions (\n",
      "    Marketing_Region_Code CHAR(15),\n",
      "    Marketing_Region_Name VARCHAR(255),\n",
      "    Marketing_Region_Descriptrion VARCHAR(255),\n",
      "    Other_Details VARCHAR(255)\n",
      ")\n",
      "\n",
      "CREATE TABLE Services (\n",
      "    Service_ID INTEGER,\n",
      "    Service_Type_Code CHAR(15),\n",
      "    Workshop_Group_ID INTEGER,\n",
      "    Product_Description VARCHAR(255),\n",
      "    Product_Name VARCHAR(255),\n",
      "    Product_Price DECIMAL(20,4),\n",
      "    Other_Product_Service_Details VARCHAR(255)\n",
      ")\n",
      "\n",
      "CREATE TABLE Bookings_Services (\n",
      "    Order_ID INTEGER,\n",
      "    Product_ID INTEGER\n",
      ")\n",
      "\n",
      "CREATE TABLE Customer_Orders (\n",
      "    Order_ID INTEGER,\n",
      "    Customer_ID INTEGER,\n",
      "    Store_ID INTEGER,\n",
      "    Order_Date DATETIME,\n",
      "    Planned_Delivery_Date DATETIME,\n",
      "    Actual_Delivery_Date DATETIME,\n",
      "    Other_Order_Details VARCHAR(255)\n",
      ")\n",
      "\n"
     ]
    }
   ],
   "source": [
    "# 전처리한 데이터를 확인합니다. \n",
    "print(updated_dataset['new_input'][1])"
   ]
  },
  {
   "cell_type": "code",
   "execution_count": null,
   "metadata": {},
   "outputs": [
    {
     "name": "stdout",
     "output_type": "stream",
     "text": [
      "SELECT Order_Date, COUNT(Order_Date) FROM Customer_Orders AS T1 JOIN Order_Items AS T2 ON T1.Order_ID = T2.Order_ID JOIN Products AS T3 ON T2.Product_ID = T3.Product_ID WHERE T3.Product_Price > 1000\n"
     ]
    }
   ],
   "source": [
    "print(updated_dataset['response'][1])"
   ]
  },
  {
   "cell_type": "markdown",
   "metadata": {},
   "source": [
    "1. **문제 이해**: 제품 가격이 1000보다 높은 제품이 포함된 주문들의 날짜별 개수를 구하는 것이 목표입니다.\n",
    "\n",
    "인공지능이 SQL 쿼리를 작성하기 위해 가장 먼저 해야 할 일은 주어진 문제를 해결하는 데 필요한 관련 테이블들을 식별하는 것입니다.\n",
    "\n",
    "2. **관련 테이블**: \n",
    "이 문제에서는 \"주문 가격이 1000보다 높은 주문의 날짜별 개수\"를 구해야 하므로:\n",
    "\n",
    "- **주문 날짜** 정보가 필요 → `Customer_Orders` 테이블 필요\n",
    "- **제품 가격** 정보가 필요 → `Products` 테이블 필요\n",
    "- **주문과 제품을 연결**하는 정보 필요 → `Order_Items` 테이블 필요\n",
    "\n",
    "인공지능은 DB 스키마를 분석하여 어떤 테이블들이 관련이 있는지, 어떤 컬럼들이 필요한지, 그리고 이 테이블들을 어떻게 JOIN해야 하는지 파악해야 합니다. \n",
    "\n",
    "제시된 16개의 테이블 중에서 오직 3개의 테이블만이 이 특정 문제를 해결하는 데 관련이 있다는 것을 이해하고, 불필요한 테이블은 제외하는 능력이 중요합니다. 이것이 효율적인 쿼리 작성의 첫 단계입니다.\n",
    "\n",
    "3. **쿼리 접근법**:\n",
    "   - 제품 가격이 1000보다 큰 제품 필터링 (WHERE 절 사용)\n",
    "   - 해당 제품이 포함된 주문 찾기 (JOIN 활용)\n",
    "   - 주문 날짜별로 그룹화하여 개수 계산 (GROUP BY)\n",
    "\n",
    "4. **최종 쿼리**: \n",
    "   ```sql\n",
    "   SELECT Order_Date, COUNT(Order_Date) \n",
    "   FROM Customer_Orders AS T1 \n",
    "   JOIN Order_Items AS T2 ON T1.Order_ID = T2.Order_ID \n",
    "   JOIN Products AS T3 ON T2.Product_ID = T3.Product_ID \n",
    "   WHERE T3.Product_Price > 1000\n",
    "   ```"
   ]
  },
  {
   "cell_type": "code",
   "execution_count": 30,
   "metadata": {},
   "outputs": [
    {
     "name": "stdout",
     "output_type": "stream",
     "text": [
      "\n",
      "SELECT COUNT(Order_ID) AS Number_of_Orders, Order_Date \n",
      "FROM Customer_Orders \n",
      "WHERE Order_Price > 1000 \n",
      "GROUP BY Order_Date;\n",
      "\n"
     ]
    }
   ],
   "source": [
    "print(get_response(updated_dataset['new_input'][1]))"
   ]
  },
  {
   "cell_type": "markdown",
   "metadata": {},
   "source": [
    "그러나, Qwen2.5-Coder가 예측한 쿼리는 맞지 않습니다.   \n",
    "\n",
    "두 가지 중요한 문제가 있습니다:\n",
    "\n",
    "1. `Customer_Orders` 테이블에는 `Order_Price` 컬럼이 존재하지 않습니다. 이 테이블의 스키마를 보면 주문 가격 정보가 없습니다.\n",
    "\n",
    "2. 가격 정보는 `Products` 테이블에 있고, 주문-제품 연결 정보는 `Order_Items` 테이블에 있습니다. 따라서 세 테이블을 JOIN해야 합니다.\n",
    "\n",
    "```sql\n",
    "SELECT Order_Date, COUNT(Order_Date) \n",
    "FROM Customer_Orders AS T1 \n",
    "JOIN Order_Items AS T2 ON T1.Order_ID = T2.Order_ID \n",
    "JOIN Products AS T3 ON T2.Product_ID = T3.Product_ID \n",
    "WHERE T3.Product_Price > 1000\n",
    "```\n",
    "\n",
    "이 쿼리는 주문과 제품을 연결하고, 제품 가격이 1000보다 큰 경우만 필터링하여 주문 날짜별 개수를 계산합니다. 이처럼 길고 복잡한 문제에 대해서는 7B 모델이 정확히 예측하지 못하는 경향을 보입니다. "
   ]
  },
  {
   "cell_type": "markdown",
   "metadata": {},
   "source": [
    "전체 2000개의 데이터에 대해서 성능 테스트를 해보겠습니다. "
   ]
  },
  {
   "cell_type": "code",
   "execution_count": 52,
   "metadata": {},
   "outputs": [
    {
     "name": "stderr",
     "output_type": "stream",
     "text": [
      "100%|██████████| 2000/2000 [1:17:26<00:00,  2.32s/it]\n"
     ]
    }
   ],
   "source": [
    "from tqdm.auto import tqdm\n",
    "before_inference = [get_response(temp['new_input']) for temp in tqdm(updated_dataset)]"
   ]
  },
  {
   "cell_type": "code",
   "execution_count": 53,
   "metadata": {},
   "outputs": [
    {
     "data": {
      "text/plain": [
       "2000"
      ]
     },
     "execution_count": 53,
     "metadata": {},
     "output_type": "execute_result"
    }
   ],
   "source": [
    "len(before_inference)"
   ]
  },
  {
   "cell_type": "code",
   "execution_count": 54,
   "metadata": {},
   "outputs": [
    {
     "data": {
      "text/plain": [
       "\"```sql\\nSELECT p.Id, p.Title, p.Body\\nFROM Posts p\\nJOIN PostTags pt ON p.Id = pt.PostId\\nJOIN Tags t ON pt.TagId = t.Id\\nWHERE t.TagName LIKE '%algorithm%' AND p.CreationDate > '2011-01-01';\\n```\""
      ]
     },
     "execution_count": 54,
     "metadata": {},
     "output_type": "execute_result"
    }
   ],
   "source": [
    "before_inference[0]"
   ]
  },
  {
   "cell_type": "code",
   "execution_count": 58,
   "metadata": {},
   "outputs": [
    {
     "data": {
      "text/html": [
       "<div>\n",
       "<style scoped>\n",
       "    .dataframe tbody tr th:only-of-type {\n",
       "        vertical-align: middle;\n",
       "    }\n",
       "\n",
       "    .dataframe tbody tr th {\n",
       "        vertical-align: top;\n",
       "    }\n",
       "\n",
       "    .dataframe thead th {\n",
       "        text-align: right;\n",
       "    }\n",
       "</style>\n",
       "<table border=\"1\" class=\"dataframe\">\n",
       "  <thead>\n",
       "    <tr style=\"text-align: right;\">\n",
       "      <th></th>\n",
       "      <th>inputs</th>\n",
       "      <th>model</th>\n",
       "      <th>response</th>\n",
       "    </tr>\n",
       "  </thead>\n",
       "  <tbody>\n",
       "    <tr>\n",
       "      <th>0</th>\n",
       "      <td>다음은 SQL 테이블 스키마와 수행할 작업에 대한 설명입니다. SQLite 문법에 ...</td>\n",
       "      <td>```sql\\nSELECT p.Id, p.Title, p.Body\\nFROM Pos...</td>\n",
       "      <td>SELECT Users.DisplayName, COUNT(*) AS UpVotes ...</td>\n",
       "    </tr>\n",
       "    <tr>\n",
       "      <th>1</th>\n",
       "      <td>다음은 SQL 테이블 스키마와 수행할 작업에 대한 설명입니다. SQLite 문법에 ...</td>\n",
       "      <td>```sql\\nSELECT COUNT(Order_ID) AS Order_Count,...</td>\n",
       "      <td>SELECT Order_Date, COUNT(Order_Date) FROM Cust...</td>\n",
       "    </tr>\n",
       "    <tr>\n",
       "      <th>2</th>\n",
       "      <td>다음은 SQL 테이블 스키마와 수행할 작업에 대한 설명입니다. SQLite 문법에 ...</td>\n",
       "      <td>```sql\\nSELECT c1.name AS course1, c2.name AS ...</td>\n",
       "      <td>SELECT COUNT(*) &gt; 0 FROM course AS COURSE_0, c...</td>\n",
       "    </tr>\n",
       "    <tr>\n",
       "      <th>3</th>\n",
       "      <td>다음은 SQL 테이블 스키마와 수행할 작업에 대한 설명입니다. SQLite 문법에 ...</td>\n",
       "      <td>```sql\\nSELECT p.drug, COUNT(*) AS prescriptio...</td>\n",
       "      <td>SELECT t1.drug FROM (SELECT prescriptions.drug...</td>\n",
       "    </tr>\n",
       "    <tr>\n",
       "      <th>4</th>\n",
       "      <td>다음은 SQL 테이블 스키마와 수행할 작업에 대한 설명입니다. SQLite 문법에 ...</td>\n",
       "      <td>```sql\\nSELECT EXISTS (\\n    SELECT 1 \\n    FR...</td>\n",
       "      <td>SELECT COUNT(*) &gt; 0 FROM procedures_icd WHERE ...</td>\n",
       "    </tr>\n",
       "  </tbody>\n",
       "</table>\n",
       "</div>"
      ],
      "text/plain": [
       "                                              inputs  \\\n",
       "0  다음은 SQL 테이블 스키마와 수행할 작업에 대한 설명입니다. SQLite 문법에 ...   \n",
       "1  다음은 SQL 테이블 스키마와 수행할 작업에 대한 설명입니다. SQLite 문법에 ...   \n",
       "2  다음은 SQL 테이블 스키마와 수행할 작업에 대한 설명입니다. SQLite 문법에 ...   \n",
       "3  다음은 SQL 테이블 스키마와 수행할 작업에 대한 설명입니다. SQLite 문법에 ...   \n",
       "4  다음은 SQL 테이블 스키마와 수행할 작업에 대한 설명입니다. SQLite 문법에 ...   \n",
       "\n",
       "                                               model  \\\n",
       "0  ```sql\\nSELECT p.Id, p.Title, p.Body\\nFROM Pos...   \n",
       "1  ```sql\\nSELECT COUNT(Order_ID) AS Order_Count,...   \n",
       "2  ```sql\\nSELECT c1.name AS course1, c2.name AS ...   \n",
       "3  ```sql\\nSELECT p.drug, COUNT(*) AS prescriptio...   \n",
       "4  ```sql\\nSELECT EXISTS (\\n    SELECT 1 \\n    FR...   \n",
       "\n",
       "                                            response  \n",
       "0  SELECT Users.DisplayName, COUNT(*) AS UpVotes ...  \n",
       "1  SELECT Order_Date, COUNT(Order_Date) FROM Cust...  \n",
       "2  SELECT COUNT(*) > 0 FROM course AS COURSE_0, c...  \n",
       "3  SELECT t1.drug FROM (SELECT prescriptions.drug...  \n",
       "4  SELECT COUNT(*) > 0 FROM procedures_icd WHERE ...  "
      ]
     },
     "execution_count": 58,
     "metadata": {},
     "output_type": "execute_result"
    }
   ],
   "source": [
    "model_inference_df = pd.DataFrame({\n",
    "    'inputs': updated_dataset['new_input'],\n",
    "    'model': before_inference,\n",
    "    'response': updated_dataset['response']\n",
    "})\n",
    "model_inference_df.head()"
   ]
  },
  {
   "cell_type": "code",
   "execution_count": 60,
   "metadata": {},
   "outputs": [],
   "source": [
    "model_inference_df.to_csv(\"./model_inference_df.csv\", index=False)"
   ]
  },
  {
   "cell_type": "code",
   "execution_count": 2,
   "metadata": {},
   "outputs": [
    {
     "data": {
      "text/html": [
       "<div>\n",
       "<style scoped>\n",
       "    .dataframe tbody tr th:only-of-type {\n",
       "        vertical-align: middle;\n",
       "    }\n",
       "\n",
       "    .dataframe tbody tr th {\n",
       "        vertical-align: top;\n",
       "    }\n",
       "\n",
       "    .dataframe thead th {\n",
       "        text-align: right;\n",
       "    }\n",
       "</style>\n",
       "<table border=\"1\" class=\"dataframe\">\n",
       "  <thead>\n",
       "    <tr style=\"text-align: right;\">\n",
       "      <th></th>\n",
       "      <th>inputs</th>\n",
       "      <th>model</th>\n",
       "      <th>response</th>\n",
       "    </tr>\n",
       "  </thead>\n",
       "  <tbody>\n",
       "    <tr>\n",
       "      <th>0</th>\n",
       "      <td>다음은 SQL 테이블 스키마와 수행할 작업에 대한 설명입니다. SQLite 문법에 ...</td>\n",
       "      <td>```sql\\nSELECT p.Id, p.Title, p.Body\\nFROM Pos...</td>\n",
       "      <td>SELECT Users.DisplayName, COUNT(*) AS UpVotes ...</td>\n",
       "    </tr>\n",
       "    <tr>\n",
       "      <th>1</th>\n",
       "      <td>다음은 SQL 테이블 스키마와 수행할 작업에 대한 설명입니다. SQLite 문법에 ...</td>\n",
       "      <td>```sql\\nSELECT COUNT(Order_ID) AS Order_Count,...</td>\n",
       "      <td>SELECT Order_Date, COUNT(Order_Date) FROM Cust...</td>\n",
       "    </tr>\n",
       "  </tbody>\n",
       "</table>\n",
       "</div>"
      ],
      "text/plain": [
       "                                              inputs  \\\n",
       "0  다음은 SQL 테이블 스키마와 수행할 작업에 대한 설명입니다. SQLite 문법에 ...   \n",
       "1  다음은 SQL 테이블 스키마와 수행할 작업에 대한 설명입니다. SQLite 문법에 ...   \n",
       "\n",
       "                                               model  \\\n",
       "0  ```sql\\nSELECT p.Id, p.Title, p.Body\\nFROM Pos...   \n",
       "1  ```sql\\nSELECT COUNT(Order_ID) AS Order_Count,...   \n",
       "\n",
       "                                            response  \n",
       "0  SELECT Users.DisplayName, COUNT(*) AS UpVotes ...  \n",
       "1  SELECT Order_Date, COUNT(Order_Date) FROM Cust...  "
      ]
     },
     "execution_count": 2,
     "metadata": {},
     "output_type": "execute_result"
    }
   ],
   "source": [
    "import pandas as pd\n",
    "\n",
    "df = pd.read_csv(\"./data/model_inference_df.csv\")\n",
    "df.head(2)"
   ]
  },
  {
   "cell_type": "code",
   "execution_count": 10,
   "metadata": {},
   "outputs": [],
   "source": []
  },
  {
   "cell_type": "code",
   "execution_count": 18,
   "metadata": {},
   "outputs": [
    {
     "name": "stderr",
     "output_type": "stream",
     "text": [
      "QUEUEING TASKS | : 100%|██████████| 2000/2000 [00:00<00:00, 22321.11it/s]\n",
      "PROCESSING TASKS | : 100%|██████████| 2000/2000 [10:23<00:00,  3.21it/s]\n",
      "COLLECTING RESULTS | : 100%|██████████| 2000/2000 [00:00<00:00, 1084219.72it/s]\n"
     ]
    }
   ],
   "source": [
    "class json_output(BaseModel):\n",
    "    reason: str\n",
    "    score: bool\n",
    "\n",
    "client = genai.Client(api_key=os.getenv(\"GOOGLE_API_KEY\"))\n",
    "def evaluation_log(args):\n",
    "    df, idx = args\n",
    "    response = client.models.generate_content(\n",
    "        model=\"gemini-2.0-flash\",\n",
    "        contents=f\"\"\"너는 주어진 SQL system prompt와 내가 만든 model이 SQL system prompt를 보고 만든 생성결과와 실제 정답을 너에게 전달해줄게. 이를 보고 모델이 알맞게 예측하였는지 평가하는 AI Asisstant입니다.\n",
    "# SQL system prompt\n",
    "{df['inputs'].iloc[idx]}\n",
    "# model 생성결과\n",
    "{df['model'].iloc[idx]}\n",
    "# 실제 정답\n",
    "{df['response'].iloc[idx]}\n",
    "\n",
    "# 평가 기준\n",
    "- reason은 한국어로 작성하세요.\n",
    "-score는 모델이 의미적으로 같은 결과를 조회하는 쿼리라면 True, 아니면 False로 평가하세요.\n",
    "\"\"\",\n",
    "        config=types.GenerateContentConfig(\n",
    "        max_output_tokens=1000,  # Set the desired maximum number of output tokens\n",
    "        temperature=0.0,\n",
    "        response_mime_type=\"application/json\",\n",
    "        response_schema=json_output,\n",
    "        ),\n",
    "    )\n",
    "    model_response = response.candidates[0].content.parts[0].text\n",
    "    return model_response\n",
    "\n",
    "from pqdm.processes import pqdm\n",
    "args_list = [(df, idx) for idx in range(len(df))]\n",
    "result_all_ver1 = pqdm(args_list, evaluation_log, n_jobs=5)"
   ]
  },
  {
   "cell_type": "code",
   "execution_count": 29,
   "metadata": {},
   "outputs": [
    {
     "data": {
      "text/html": [
       "<div>\n",
       "<style scoped>\n",
       "    .dataframe tbody tr th:only-of-type {\n",
       "        vertical-align: middle;\n",
       "    }\n",
       "\n",
       "    .dataframe tbody tr th {\n",
       "        vertical-align: top;\n",
       "    }\n",
       "\n",
       "    .dataframe thead th {\n",
       "        text-align: right;\n",
       "    }\n",
       "</style>\n",
       "<table border=\"1\" class=\"dataframe\">\n",
       "  <thead>\n",
       "    <tr style=\"text-align: right;\">\n",
       "      <th></th>\n",
       "      <th>reason</th>\n",
       "      <th>score</th>\n",
       "    </tr>\n",
       "  </thead>\n",
       "  <tbody>\n",
       "    <tr>\n",
       "      <th>1998</th>\n",
       "      <td>모델이 비추천 수를 찾는 쿼리를 작성했지만, 실제 정답은 특정 사용자의 게시물에 대...</td>\n",
       "      <td>True</td>\n",
       "    </tr>\n",
       "    <tr>\n",
       "      <th>1999</th>\n",
       "      <td>모델은 UC 475 과목이 봄 학기에 개설되는지 확인하는 쿼리를 작성했습니다. 하지...</td>\n",
       "      <td>False</td>\n",
       "    </tr>\n",
       "  </tbody>\n",
       "</table>\n",
       "</div>"
      ],
      "text/plain": [
       "                                                 reason  score\n",
       "1998  모델이 비추천 수를 찾는 쿼리를 작성했지만, 실제 정답은 특정 사용자의 게시물에 대...   True\n",
       "1999  모델은 UC 475 과목이 봄 학기에 개설되는지 확인하는 쿼리를 작성했습니다. 하지...  False"
      ]
     },
     "execution_count": 29,
     "metadata": {},
     "output_type": "execute_result"
    }
   ],
   "source": [
    "import json_repair\n",
    "json_repair_df = pd.DataFrame([json_repair.loads(temp) for temp in result_all_ver1])\n",
    "json_repair_df.tail(2)\n"
   ]
  },
  {
   "cell_type": "code",
   "execution_count": 31,
   "metadata": {},
   "outputs": [
    {
     "data": {
      "text/plain": [
       "'모델은 UC 475 과목이 봄 학기에 개설되는지 확인하는 쿼리를 작성했습니다. 하지만 실제 정답은 학생 record에 기반하여 UC 475 과목이 봄 학기에 수강 가능한지 확인하는 쿼리입니다. 따라서 모델이 실제 정답과 의미적으로 다른 결과를 조회하는 쿼리를 작성했으므로 score는 false입니다.'"
      ]
     },
     "execution_count": 31,
     "metadata": {},
     "output_type": "execute_result"
    }
   ],
   "source": [
    "json_repair_df[\"reason\"][1999]"
   ]
  },
  {
   "cell_type": "code",
   "execution_count": 32,
   "metadata": {},
   "outputs": [
    {
     "data": {
      "text/plain": [
       "score\n",
       "False    1312\n",
       "True      688\n",
       "Name: count, dtype: int64"
      ]
     },
     "execution_count": 32,
     "metadata": {},
     "output_type": "execute_result"
    }
   ],
   "source": [
    "json_repair_df['score'].value_counts()"
   ]
  },
  {
   "cell_type": "code",
   "execution_count": 33,
   "metadata": {},
   "outputs": [
    {
     "name": "stdout",
     "output_type": "stream",
     "text": [
      "score 평균:  0.344\n"
     ]
    }
   ],
   "source": [
    "print(\"score 평균: \", sum(json_repair_df['score']) / len(json_repair_df))"
   ]
  },
  {
   "cell_type": "code",
   "execution_count": 34,
   "metadata": {},
   "outputs": [],
   "source": [
    "json_repair_df.to_csv(\"./data/gemini_evaluation.csv\", index=False)"
   ]
  }
 ],
 "metadata": {
  "kernelspec": {
   "display_name": "fastcampus",
   "language": "python",
   "name": "python3"
  },
  "language_info": {
   "codemirror_mode": {
    "name": "ipython",
    "version": 3
   },
   "file_extension": ".py",
   "mimetype": "text/x-python",
   "name": "python",
   "nbconvert_exporter": "python",
   "pygments_lexer": "ipython3",
   "version": "undefined.undefined.undefined"
  }
 },
 "nbformat": 4,
 "nbformat_minor": 2
}
