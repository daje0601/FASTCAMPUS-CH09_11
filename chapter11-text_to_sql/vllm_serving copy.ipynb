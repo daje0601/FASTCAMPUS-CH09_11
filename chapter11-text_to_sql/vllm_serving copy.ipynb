{
 "cells": [
  {
   "cell_type": "code",
   "execution_count": null,
   "id": "dacd3ed1",
   "metadata": {},
   "outputs": [],
   "source": [
    "!vllm serve allganize/Llama-3-Alpha-Ko-8B-Instruct \\\n",
    "    --enable-lora \\\n",
    "    --lora-modules \\\n",
    "    lora_adapter1=\"/root/workspace/llama3-260000_ko/checkpoint-128481\" \\\n",
    "    --max-lora-rank 256"
   ]
  },
  {
   "cell_type": "code",
   "execution_count": null,
   "id": "801f5f35",
   "metadata": {},
   "outputs": [],
   "source": [
    "!vllm serve Qwen/Qwen2.5-Coder-7B-Instruct \\\n",
    "    --enable-lora \\\n",
    "    --lora-modules \\\n",
    "    lora_adapter1=\"/root/workspace/text_to_sql/Qwen2.5-all-en/checkpoint-128481\" \\\n",
    "    --max-lora-rank 256"
   ]
  }
 ],
 "metadata": {
  "kernelspec": {
   "display_name": "text_to_sql",
   "language": "python",
   "name": "python3"
  },
  "language_info": {
   "codemirror_mode": {
    "name": "ipython",
    "version": 3
   },
   "file_extension": ".py",
   "mimetype": "text/x-python",
   "name": "python",
   "nbconvert_exporter": "python",
   "pygments_lexer": "ipython3",
   "version": "3.11.11"
  }
 },
 "nbformat": 4,
 "nbformat_minor": 5
}
